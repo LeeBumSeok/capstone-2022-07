{
 "cells": [
  {
   "cell_type": "code",
   "execution_count": 1,
   "metadata": {},
   "outputs": [],
   "source": [
    "import requests\n",
    "import pandas as pd\n",
    "import xmltodict\n",
    "\n",
    "import firebase_admin\n",
    "from firebase_admin import credentials\n",
    "from firebase_admin import firestore\n",
    "from firebase_admin import db\n",
    "\n",
    "from bs4 import BeautifulSoup"
   ]
  },
  {
   "cell_type": "code",
   "execution_count": 2,
   "metadata": {},
   "outputs": [],
   "source": [
    "# cred = credentials.Certificate('./firebase_key.json')\n",
    "# firebase_admin.initialize_app(cred, {\n",
    "#   'projectId': 'capstone-2022-07-dac76',\n",
    "# })"
   ]
  },
  {
   "cell_type": "code",
   "execution_count": 12,
   "metadata": {},
   "outputs": [],
   "source": [
    "\n",
    "url_stock = \"http://api.seibro.or.kr/openapi/service/StockSvc/getKDRSecnInfo\"  # 공공데이터포털 api 주소(Without param)\n",
    "api_service_key_stock = [\n",
    "    \"RXhGWArdgsytKaKf0g%2FWxNuo27wXxg4iChLUs9ePc39VvneddFbQ9v9ZXCDWJkdFbhqCvbw9kdMGy%2F%2Bv3it50A%3D%3D\",\n",
    "    \"bqvyeN8k%2B8%2BfRLf7p4CNQsUIEL%2BRb4b2YR08MD10RDv3BxHugq6bR1wFEAo8hTau3XgiLcA7bEBoclnMdyBfNQ%3D%3D\",\n",
    "    \"zUgkw3obrruAXAW6kZrJnIpK8UUBIrwXrfroSgoDS7NUlSB%2BDz94OTIkkWeP0V%2BzOz81JVtW84bqh1y0HpzcUg%3D%3D\",\n",
    "    \"w9Ra19Zqn3%2BLgg2zHoRiZa8zZPdSCXSgFgrgFGUkaYqqQRD6BVKMsUgiRyJqeEuG1pQ86vSioq03IRarAve7sg%3D%3D\",\n",
    "]  # service api key\n",
    "\n",
    "# 종목 이름 가져오는 코드\n",
    "def getStockCode(market, url_param):\n",
    "    \"\"\"\n",
    "    market: 상장구분 (11=유가증권, 12=코스닥, 13=K-OTC, 14=코넥스, 50=기타비상장)\n",
    "    \"\"\"\n",
    "    url_base = f\"http://api.seibro.or.kr/openapi/service/{url_param}\"\n",
    "    url_spec = \"getShotnByMartN1\"\n",
    "    url = url_base + \"/\" + url_spec\n",
    "    stock_code = 0\n",
    "    while True:\n",
    "        api_decode_key_stock = requests.utils.unquote(\n",
    "            api_service_key_stock[stock_code], encoding=\"utf-8\"\n",
    "        )\n",
    "\n",
    "        params = {\n",
    "            \"serviceKey\": api_decode_key_stock,\n",
    "            \"martTpcd\": market,\n",
    "        }\n",
    "\n",
    "        response = requests.get(url, params=params)\n",
    "        # print(response.text)\n",
    "        xml = BeautifulSoup(response.text, \"lxml\")\n",
    "        dict_type = xmltodict.parse(xml)\n",
    "        json_type = json.dumps(dict_type)\n",
    "dict2_type = json.loads(json_type)\n",
    "        item_list = []\n",
    "        try:\n",
    "            for item in items:\n",
    "                item_dict = {\n",
    "                    item_list.append(item.find(\"korsecnnm\").text.strip()),\n",
    "                    item_list.append(item.find(\"shotnisin\").text.strip())\n",
    "                }\n",
    "                item_list.append(item_dict)\n",
    "        except TypeError:\n",
    "            stock_code += 1\n",
    "            continue\n",
    "\n",
    "        return item_list"
   ]
  },
  {
   "cell_type": "code",
   "execution_count": 13,
   "metadata": {},
   "outputs": [],
   "source": [
    "item_list = getStockCode(11, \"StockSvc\")"
   ]
  },
  {
   "cell_type": "code",
   "execution_count": 20,
   "metadata": {},
   "outputs": [
    {
     "name": "stdout",
     "output_type": "stream",
     "text": [
      "동화약품\n",
      "000020\n",
      "{None}\n",
      "케이알모터스\n",
      "000040\n",
      "{None}\n",
      "경방\n",
      "000050\n",
      "{None}\n",
      "메리츠화재해상보험\n",
      "000060\n",
      "{None}\n",
      "삼양홀딩스\n",
      "000070\n",
      "{None}\n",
      "삼양홀딩스1우\n",
      "000075\n",
      "{None}\n",
      "하이트진로\n",
      "000080\n",
      "{None}\n",
      "하이트진로2우\n",
      "000087\n",
      "{None}\n",
      "유한양행\n",
      "000100\n",
      "{None}\n",
      "유한양행1우\n",
      "000105\n",
      "{None}\n"
     ]
    }
   ],
   "source": [
    "for i in range(len(item_list)):\n",
    "    print(item_list[i])"
   ]
  },
  {
   "cell_type": "code",
   "execution_count": null,
   "metadata": {},
   "outputs": [],
   "source": [
    "print(company)"
   ]
  },
  {
   "cell_type": "code",
   "execution_count": null,
   "metadata": {},
   "outputs": [],
   "source": [
    "xml = BeautifulSoup(response.text, 'lxml')"
   ]
  },
  {
   "cell_type": "code",
   "execution_count": null,
   "metadata": {},
   "outputs": [],
   "source": [
    "print(xml.prettify())"
   ]
  },
  {
   "cell_type": "code",
   "execution_count": null,
   "metadata": {},
   "outputs": [],
   "source": []
  }
 ],
 "metadata": {
  "interpreter": {
   "hash": "31f2aee4e71d21fbe5cf8b01ff0e069b9275f58929596ceb00d14d90e3e16cd6"
  },
  "kernelspec": {
   "display_name": "Python 3.8.9 64-bit",
   "language": "python",
   "name": "python3"
  },
  "language_info": {
   "codemirror_mode": {
    "name": "ipython",
    "version": 3
   },
   "file_extension": ".py",
   "mimetype": "text/x-python",
   "name": "python",
   "nbconvert_exporter": "python",
   "pygments_lexer": "ipython3",
   "version": "3.8.9"
  },
  "orig_nbformat": 4
 },
 "nbformat": 4,
 "nbformat_minor": 2
}
