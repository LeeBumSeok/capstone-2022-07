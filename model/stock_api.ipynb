{
 "cells": [
  {
   "cell_type": "code",
   "execution_count": null,
   "metadata": {},
   "outputs": [],
   "source": [
    "import requests\n",
    "import pandas as pd\n",
    "import math\n",
    "import datetime\n",
    "from tqdm import tqdm\n",
    "import yfinance as yf\n",
    "import exchange_calendars as ecals\n",
    "\n",
    "import firebase_admin\n",
    "from firebase_admin import credentials\n",
    "from firebase_admin import firestore\n",
    "from firebase_admin import db\n",
    "\n",
    "from bs4 import BeautifulSoup"
   ]
  },
  {
   "cell_type": "code",
   "execution_count": null,
   "metadata": {},
   "outputs": [],
   "source": [
    "# Firebase Initialzation - 1번 실행\n",
    "\n",
    "cred = credentials.Certificate('./firebase_key.json')\n",
    "firebase_admin.initialize_app(cred, {\n",
    "  'projectId': 'capstone-2022-07-dac76',\n",
    "})"
   ]
  },
  {
   "cell_type": "code",
   "execution_count": null,
   "metadata": {},
   "outputs": [],
   "source": [
    "# 1번 실행\n",
    "# 날짜 반영\n",
    "# 만약 장중이 아니면 어제, 그저께로 쿼링해야 값들 가져올 수 있음\n",
    "# 장중이면 오늘, 어제로 쿼링해야 실시간 반영 가능\n",
    "\n",
    "XKRX = ecals.get_calendar(\"XKRX\") # 한국 코드\n",
    "\n",
    "current = datetime.datetime.now()\n",
    "corr_current = current - datetime.timedelta(hours=9)\n",
    "\n",
    "if(XKRX.is_trading_minute(corr_current.strftime(\"%Y-%m-%d %H:%M\"))):\n",
    "    previous = datetime.date.today().strftime(\"%Y-%m-%d\")\n",
    "    pre_previous = XKRX.previous_session(datetime.date.today().strftime(\"%Y-%m-%d\")).strftime(\"%Y-%m-%d\")\n",
    "else:\n",
    "    previous = XKRX.previous_session(datetime.date.today().strftime(\"%Y-%m-%d\")).strftime(\"%Y-%m-%d\")\n",
    "    pre_previous = XKRX.previous_session(previous).strftime(\"%Y-%m-%d\")"
   ]
  },
  {
   "cell_type": "code",
   "execution_count": null,
   "metadata": {},
   "outputs": [],
   "source": [
    "# 1번 실행\n",
    "# 주식 이름, 주식 코드, 시가총액 가져오는 함수\n",
    "# 공공데이터포털 - 금융위원회_주식시세정보 api 켜야함\n",
    "\n",
    "# 공공데이터포털 api 주소(Without param)\n",
    "api_service_key_stock = [\n",
    "    \"RXhGWArdgsytKaKf0g%2FWxNuo27wXxg4iChLUs9ePc39VvneddFbQ9v9ZXCDWJkdFbhqCvbw9kdMGy%2F%2Bv3it50A%3D%3D\",\n",
    "    \"bqvyeN8k%2B8%2BfRLf7p4CNQsUIEL%2BRb4b2YR08MD10RDv3BxHugq6bR1wFEAo8hTau3XgiLcA7bEBoclnMdyBfNQ%3D%3D\",\n",
    "    \"zUgkw3obrruAXAW6kZrJnIpK8UUBIrwXrfroSgoDS7NUlSB%2BDz94OTIkkWeP0V%2BzOz81JVtW84bqh1y0HpzcUg%3D%3D\",\n",
    "    \"w9Ra19Zqn3%2BLgg2zHoRiZa8zZPdSCXSgFgrgFGUkaYqqQRD6BVKMsUgiRyJqeEuG1pQ86vSioq03IRarAve7sg%3D%3D\",\n",
    "]  # service api key\n",
    "\n",
    "code_list = []\n",
    "\n",
    "# 종목 이름 가져오는 코드\n",
    "def getStockCode(market, code_list):\n",
    "    \"\"\"\n",
    "    market: 상장구분 (11=유가증권, 12=코스닥, 13=K-OTC, 14=코넥스, 50=기타비상장)\n",
    "    \"\"\"\n",
    "    url = f\"https://api.odcloud.kr/api/GetStockSecuritiesInfoService/v1/getStockPriceInfo?\"\n",
    "    stock_code = 0\n",
    "    while True:\n",
    "        api_decode_key_stock = requests.utils.unquote(\n",
    "            api_service_key_stock[stock_code], encoding=\"utf-8\"\n",
    "        )\n",
    "\n",
    "        params = {\n",
    "            \"serviceKey\": api_decode_key_stock,\n",
    "            \"mrktCls\": market,\n",
    "            \"numOfRows\": 1000,\n",
    "            \"beginBasDt\":pre_previous.replace(\"-\", \"\")\n",
    "        }\n",
    "\n",
    "        response = requests.get(url, params=params)\n",
    "        if(response.status_code != 200):\n",
    "            print(response.status_code)\n",
    "            stock_code += 1\n",
    "            continue\n",
    "        xml = BeautifulSoup(response.text, \"lxml\")\n",
    "        items = xml.find(\"items\")\n",
    "        item_list = []\n",
    "        for item in items:\n",
    "            try:\n",
    "                item_dict = {\n",
    "                    \"stockName\": item.find(\"itmsnm\").text.strip(),\n",
    "                    \"stockCode\": item.find(\"srtncd\").text.strip(),\n",
    "                    \"marketCap\": item.find(\"mrkttotamt\").text.strip(),\n",
    "                }\n",
    "                code_list.append(item.find(\"srtncd\").text.strip() + \".KS\")\n",
    "            except AttributeError:\n",
    "                continue\n",
    "            item_list.append(item_dict)\n",
    "            \n",
    "\n",
    "        return item_list"
   ]
  },
  {
   "cell_type": "code",
   "execution_count": null,
   "metadata": {},
   "outputs": [],
   "source": [
    "item_list = getStockCode(\"KOSPI\", code_list)"
   ]
  },
  {
   "cell_type": "code",
   "execution_count": null,
   "metadata": {},
   "outputs": [],
   "source": [
    "# 여기서부터는 시간별로 실행 - 실시간 코드\n",
    "\n",
    "# start에는 장이 열리는 날 - 하루가 들어가야 함\n",
    "data = yf.download(code_list, start=pre_previous)\n",
    "print(data)"
   ]
  },
  {
   "cell_type": "code",
   "execution_count": null,
   "metadata": {},
   "outputs": [],
   "source": [
    "# item_list에 각 필드들 쿼링\n",
    "\n",
    "for j in tqdm(item_list):\n",
    "    j[\"stockPrice\"] = float(data[\"Close\"][j[\"stockCode\"] + \".KS\"][previous])\n",
    "    j[\"stockLowPrice\"] = float(data[\"Low\"][j[\"stockCode\"] + \".KS\"][previous])\n",
    "    j[\"stockHighPrice\"] = float(data[\"High\"][j[\"stockCode\"] + \".KS\"][previous])\n",
    "    j[\"stockVolume\"] = float(data[\"Volume\"][j[\"stockCode\"] + \".KS\"][previous])\n",
    "    j[\"stockOpenPrice\"] = float(data[\"Open\"][j[\"stockCode\"] + \".KS\"][previous])\n",
    "    j[\"stockClosingPrice\"] = float(data[\"Close\"][j[\"stockCode\"] + \".KS\"][pre_previous])\n",
    "    j['stockChange'] = float(data['Close'][j[\"stockCode\"] + \".KS\"][previous] - data['Close'][j[\"stockCode\"] + \".KS\"][pre_previous])\n",
    "    j['stockPerChange'] = float(round((data['Close'][j[\"stockCode\"] + \".KS\"][previous] - data['Close'][j[\"stockCode\"] + \".KS\"][pre_previous]) / data['Close'][j[\"stockCode\"] + \".KS\"][pre_previous] * 100, 2))"
   ]
  },
  {
   "cell_type": "code",
   "execution_count": null,
   "metadata": {},
   "outputs": [],
   "source": [
    "# 상장폐지 / 거래중지 종목 리스트에서 제거\n",
    "\n",
    "for i in item_list:\n",
    "    if math.isnan(i['stockPrice']):\n",
    "        item_list.remove(i)"
   ]
  },
  {
   "cell_type": "code",
   "execution_count": null,
   "metadata": {},
   "outputs": [],
   "source": [
    "# Firebase에 multithreading 이용해서 쿼링\n",
    "# 3분 30초 -> 20초\n",
    "\n",
    "db = firestore.client()\n",
    "\n",
    "from multiprocessing.dummy import Pool as ThreadPool\n",
    "def AddFirebase(item):\n",
    "    db.collection(u\"stock_API2\").document(item[\"stockName\"]).set(item)\n",
    "\n",
    "pool = ThreadPool(10)\n",
    "\n",
    "for _ in tqdm(pool.imap_unordered(AddFirebase, item_list), total=len(item_list)):\n",
    "    pass\n",
    "\n",
    "pool.close() \n",
    "pool.join()"
   ]
  }
 ],
 "metadata": {
  "interpreter": {
   "hash": "31f2aee4e71d21fbe5cf8b01ff0e069b9275f58929596ceb00d14d90e3e16cd6"
  },
  "kernelspec": {
   "display_name": "Python 3.8.9 64-bit",
   "language": "python",
   "name": "python3"
  },
  "language_info": {
   "codemirror_mode": {
    "name": "ipython",
    "version": 3
   },
   "file_extension": ".py",
   "mimetype": "text/x-python",
   "name": "python",
   "nbconvert_exporter": "python",
   "pygments_lexer": "ipython3",
   "version": "3.8.9"
  },
  "orig_nbformat": 4
 },
 "nbformat": 4,
 "nbformat_minor": 2
}
