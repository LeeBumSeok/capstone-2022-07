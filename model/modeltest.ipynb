{
  "cells": [
    {
      "cell_type": "code",
      "execution_count": 1,
      "metadata": {
        "colab": {
          "base_uri": "https://localhost:8080/"
        },
        "id": "xrCyVIezcCi2",
        "outputId": "caa61b90-1802-41e7-c657-d5fc6de8f973"
      },
      "outputs": [
        {
          "ename": "ModuleNotFoundError",
          "evalue": "No module named 'google'",
          "output_type": "error",
          "traceback": [
            "\u001b[0;31m---------------------------------------------------------------------------\u001b[0m",
            "\u001b[0;31mModuleNotFoundError\u001b[0m                       Traceback (most recent call last)",
            "\u001b[1;32m/Users/seungjun/Desktop/git/capstone-2022-07/model/modeltest.ipynb Cell 1'\u001b[0m in \u001b[0;36m<cell line: 1>\u001b[0;34m()\u001b[0m\n\u001b[0;32m----> <a href='vscode-notebook-cell:/Users/seungjun/Desktop/git/capstone-2022-07/model/modeltest.ipynb#ch0000000?line=0'>1</a>\u001b[0m \u001b[39mfrom\u001b[39;00m \u001b[39mgoogle\u001b[39;00m\u001b[39m.\u001b[39;00m\u001b[39mcolab\u001b[39;00m \u001b[39mimport\u001b[39;00m drive\n\u001b[1;32m      <a href='vscode-notebook-cell:/Users/seungjun/Desktop/git/capstone-2022-07/model/modeltest.ipynb#ch0000000?line=1'>2</a>\u001b[0m drive\u001b[39m.\u001b[39mmount(\u001b[39m'\u001b[39m\u001b[39m/content/drive\u001b[39m\u001b[39m'\u001b[39m)\n",
            "\u001b[0;31mModuleNotFoundError\u001b[0m: No module named 'google'"
          ]
        }
      ],
      "source": [
        "from google.colab import drive\n",
        "drive.mount('/content/drive')"
      ]
    },
    {
      "cell_type": "code",
      "execution_count": 4,
      "metadata": {
        "id": "xklKcflccTtj"
      },
      "outputs": [],
      "source": [
        "import pandas as pd\n",
        "\n",
        "train_data = pd.read_csv(\"./train_dataset_1007.csv\")\n",
        "test_data = pd.read_csv(\"./test_dataset_1007.csv\")"
      ]
    },
    {
      "cell_type": "code",
      "execution_count": 5,
      "metadata": {
        "id": "QSTDh8mYci7B"
      },
      "outputs": [],
      "source": [
        "%matplotlib inline\n",
        "import matplotlib.pyplot as pyplot"
      ]
    },
    {
      "cell_type": "code",
      "execution_count": 6,
      "metadata": {
        "colab": {
          "base_uri": "https://localhost:8080/",
          "height": 283
        },
        "id": "zGQOAPsycu32",
        "outputId": "d14f8d63-ba06-4ef5-ece8-281e3129e4ff"
      },
      "outputs": [
        {
          "data": {
            "text/plain": [
              "<matplotlib.axes._subplots.AxesSubplot at 0x7faa039afcd0>"
            ]
          },
          "execution_count": 6,
          "metadata": {},
          "output_type": "execute_result"
        },
        {
          "data": {
            "image/png": "[encoded data removed]",
            "text/plain": [
              "<Figure size 432x288 with 1 Axes>"
            ]
          },
          "metadata": {
            "needs_background": "light"
          },
          "output_type": "display_data"
        }
      ],
      "source": [
        "train_data['label'].value_counts().plot(kind='bar')"
      ]
    },
    {
      "cell_type": "code",
      "execution_count": 12,
      "metadata": {
        "colab": {
          "base_uri": "https://localhost:8080/",
          "height": 283
        },
        "id": "FWDK7X56cyMM",
        "outputId": "a35f1f65-1f7e-4a18-80ff-313a397f40f7"
      },
      "outputs": [
        {
          "data": {
            "text/plain": [
              "<matplotlib.axes._subplots.AxesSubplot at 0x7faa0333aad0>"
            ]
          },
          "execution_count": 12,
          "metadata": {},
          "output_type": "execute_result"
        },
        {
          "data": {
            "image/png": "[encoded data removed]",
            "text/plain": [
              "<Figure size 432x288 with 1 Axes>"
            ]
          },
          "metadata": {
            "needs_background": "light"
          },
          "output_type": "display_data"
        }
      ],
      "source": [
        "test_data['label'].value_counts().plot(kind='bar')"
      ]
    },
    {
      "cell_type": "code",
      "execution_count": 15,
      "metadata": {
        "colab": {
          "base_uri": "https://localhost:8080/"
        },
        "id": "inbdkg_Sc2XC",
        "outputId": "bc82723c-d138-48f5-b748-c006a81a9803"
      },
      "outputs": [
        {
          "name": "stdout",
          "output_type": "stream",
          "text": [
            "   label  count\n",
            "0     -1    791\n",
            "1      0   3971\n",
            "2      1   1238\n",
            "   label  count\n",
            "0     -1     40\n",
            "1      0    900\n",
            "2      1    560\n"
          ]
        }
      ],
      "source": [
        "print(train_data.groupby('label').size().reset_index(name='count'))\n",
        "print(test_data.groupby('label').size().reset_index(name='count'))"
      ]
    },
    {
      "cell_type": "code",
      "execution_count": 16,
      "metadata": {
        "id": "1yzEX4HidFUD"
      },
      "outputs": [],
      "source": [
        "stopwords = ['의','가','이','은','들','는','좀','잘','걍','과','도','를','으로','자','에','와','한','하다']"
      ]
    },
    {
      "cell_type": "code",
      "execution_count": 25,
      "metadata": {
        "id": "5_i7UK1udULf"
      },
      "outputs": [],
      "source": [
        "import konlpy\n",
        "from konlpy.tag import Okt\n",
        "okt = Okt()\n",
        "X_train = []\n",
        "for sentence in train_data['title']:\n",
        "  temp_X =[]\n",
        "  temp_X = okt.morphs(sentence, stem=True) #토큰화\n",
        "  temp_X = [word for word in temp_X if not word in stopwords] #안쓰는 말 제거\n",
        "  X_train.append(temp_X)\n",
        "\n",
        "X_test = []\n",
        "for sentence in test_data['title']:\n",
        "  temp_X =[]\n",
        "  temp_X = okt.morphs(sentence, stem=True) #토큰화\n",
        "  temp_X = [word for word in temp_X if not word in stopwords] #안쓰는 말 제거\n",
        "  X_test.append(temp_X)"
      ]
    },
    {
      "cell_type": "code",
      "execution_count": 26,
      "metadata": {
        "colab": {
          "base_uri": "https://localhost:8080/"
        },
        "id": "VH9lffgadZuq",
        "outputId": "c4315570-17d7-4503-c980-2a764016fed9"
      },
      "outputs": [
        {
          "name": "stdout",
          "output_type": "stream",
          "text": [
            "[['버거킹', '바삭', '신', '메뉴', '3000원', '안되다', '가격'], ['버거킹', '가을', '맞이', '와퍼주니어', '1900원', '판매'], ['귀엽다', '오싹하다', '’', '할로윈데이', '겨냥', '이색', '식', '음료', '출시']]\n"
          ]
        }
      ],
      "source": [
        "print(X_train[:3])"
      ]
    },
    {
      "cell_type": "code",
      "execution_count": 27,
      "metadata": {
        "colab": {
          "base_uri": "https://localhost:8080/"
        },
        "id": "t_Ns7IFgeXOa",
        "outputId": "c8c51991-f72b-4fa4-82ee-801a488413ab"
      },
      "outputs": [
        {
          "name": "stdout",
          "output_type": "stream",
          "text": [
            "[['더벨맘스', '터치', '가맹', '점포', '롯데리아', '앞', '지르다', '1', '위', '우뚝'], ['롯데리아', '맘스터치', '패스트푸드', '점', '위생', '적발', '5년', '간', '50', '증가'], ['맘스', '터치', '도시락', '달', '만에', '3만', '개', '완판잘', '나가다', '치킨', '프랜차이즈', '간편식']]\n"
          ]
        }
      ],
      "source": [
        "print(X_test[:3])"
      ]
    },
    {
      "cell_type": "code",
      "execution_count": 29,
      "metadata": {
        "id": "rky8vspTeZVU"
      },
      "outputs": [],
      "source": [
        "from re import X\n",
        "from keras.preprocessing.text import Tokenizer\n",
        "max_words = 35000\n",
        "tokenizer = Tokenizer(num_words = max_words)\n",
        "tokenizer.fit_on_texts(X_train)\n",
        "X_train = tokenizer.texts_to_sequences(X_train)\n",
        "X_test = tokenizer.texts_to_sequences(X_test)"
      ]
    },
    {
      "cell_type": "code",
      "execution_count": 30,
      "metadata": {
        "colab": {
          "base_uri": "https://localhost:8080/"
        },
        "id": "dARLEFS-esup",
        "outputId": "527cc6ed-6e56-4388-d801-8f4d4f935ddd"
      },
      "outputs": [
        {
          "name": "stdout",
          "output_type": "stream",
          "text": [
            "[[1, 172, 68, 15, 1755, 1756, 30], [1, 541, 178, 66, 215, 22], [2433, 4299, 2, 982, 1073, 317, 216, 270, 12]]\n"
          ]
        }
      ],
      "source": [
        "print(X_train[:3])"
      ]
    },
    {
      "cell_type": "code",
      "execution_count": 31,
      "metadata": {
        "colab": {
          "base_uri": "https://localhost:8080/"
        },
        "id": "qpx7lBJbeyV1",
        "outputId": "4c2acd7b-e78f-4848-a482-0b5cdbde2f99"
      },
      "outputs": [
        {
          "name": "stdout",
          "output_type": "stream",
          "text": [
            "[[407, 27, 1676, 93, 736, 2586, 70, 43, 2761], [93, 87, 55, 3171, 2109, 1305, 117, 184, 1288], [429, 407, 1687, 147, 135, 29, 1822, 78, 84, 1311]]\n"
          ]
        }
      ],
      "source": [
        "print(X_test[:3])"
      ]
    },
    {
      "cell_type": "code",
      "execution_count": 51,
      "metadata": {
        "colab": {
          "base_uri": "https://localhost:8080/"
        },
        "id": "oN6T579YezBr",
        "outputId": "f871241f-fb97-4073-ad60-05b45c75354f"
      },
      "outputs": [
        {
          "name": "stdout",
          "output_type": "stream",
          "text": [
            "제목의 최대 길이 :  20\n",
            "제목의 평균 길이 :  20.0\n"
          ]
        }
      ],
      "source": [
        "print(\"제목의 최대 길이 : \", max(len(I) for I in X_train))\n",
        "print(\"제목의 평균 길이 : \", sum(map(len, X_train))/len(X_train))"
      ]
    },
    {
      "cell_type": "code",
      "execution_count": 52,
      "metadata": {
        "colab": {
          "base_uri": "https://localhost:8080/"
        },
        "id": "7ii-GOPpfFnh",
        "outputId": "be4b1608-025a-47a0-c548-59af2c6179cc"
      },
      "outputs": [
        {
          "name": "stdout",
          "output_type": "stream",
          "text": [
            "제목의 최대 길이 :  20\n",
            "제목의 평균 길이 :  20.0\n"
          ]
        }
      ],
      "source": [
        "print(\"제목의 최대 길이 : \", max(len(I) for I in X_test))\n",
        "print(\"제목의 평균 길이 : \", sum(map(len, X_test))/len(X_test))"
      ]
    },
    {
      "cell_type": "code",
      "execution_count": 59,
      "metadata": {
        "id": "akIgSyREfnuY"
      },
      "outputs": [],
      "source": [
        "import numpy as np\n",
        "\n",
        "y_train = []\n",
        "y_test = []\n",
        "\n",
        "for i in range(len(train_data['label'])):\n",
        "  if train_data['label'].iloc[i]==1:\n",
        "    y_train.append([0,0,1])\n",
        "  elif train_data['label'].iloc[i]==0:\n",
        "     y_train.append([0,1,0]) \n",
        "  elif train_data['label'].iloc[i]== -1:\n",
        "     y_train.append([1,0,0]) \n",
        "\n",
        "\n",
        "for i in range(len(test_data['label'])):\n",
        "  if test_data['label'].iloc[i]==1:\n",
        "    y_test.append([0,0,1])\n",
        "  elif test_data['label'].iloc[i]==0:\n",
        "     y_test.append([0,1,0]) \n",
        "  elif test_data['label'].iloc[i]== -1:\n",
        "     y_test.append([1,0,0]) \n",
        "\n",
        "y_train = np.array(y_train)\n",
        "y_test = np.array(y_test)"
      ]
    },
    {
      "cell_type": "code",
      "execution_count": 60,
      "metadata": {
        "colab": {
          "base_uri": "https://localhost:8080/"
        },
        "id": "9ufY-SdpgDkq",
        "outputId": "fde957b9-7e04-495c-9871-3f99db2ffd9f"
      },
      "outputs": [
        {
          "data": {
            "text/plain": [
              "array([[0, 0, 1],\n",
              "       [0, 1, 0],\n",
              "       [0, 0, 1],\n",
              "       ...,\n",
              "       [0, 1, 0],\n",
              "       [0, 1, 0],\n",
              "       [0, 1, 0]])"
            ]
          },
          "execution_count": 60,
          "metadata": {},
          "output_type": "execute_result"
        }
      ],
      "source": [
        "y_train"
      ]
    },
    {
      "cell_type": "code",
      "execution_count": 61,
      "metadata": {
        "colab": {
          "base_uri": "https://localhost:8080/"
        },
        "id": "iwD4vX68gFpQ",
        "outputId": "c9262fb5-7711-4adc-da6f-b11f21714a21"
      },
      "outputs": [
        {
          "data": {
            "text/plain": [
              "array([[0, 0, 1],\n",
              "       [0, 0, 1],\n",
              "       [0, 1, 0],\n",
              "       ...,\n",
              "       [0, 1, 0],\n",
              "       [0, 1, 0],\n",
              "       [0, 0, 1]])"
            ]
          },
          "execution_count": 61,
          "metadata": {},
          "output_type": "execute_result"
        }
      ],
      "source": [
        "y_test"
      ]
    },
    {
      "cell_type": "code",
      "execution_count": 62,
      "metadata": {
        "id": "r8_UUFiLgGuq"
      },
      "outputs": [],
      "source": [
        "#모델 만들기, 모든 데이터의 길이를 20으로 통일\n",
        "\n",
        "from keras.layers import Embedding, Dense, LSTM\n",
        "from keras.models import Sequential\n",
        "from keras.preprocessing.sequence import pad_sequences\n",
        "max_len = 20\n",
        "\n",
        "X_train = pad_sequences(X_train, maxlen=max_len)\n",
        "X_test = pad_sequences(X_test, maxlen=max_len)"
      ]
    },
    {
      "cell_type": "code",
      "execution_count": 63,
      "metadata": {
        "colab": {
          "base_uri": "https://localhost:8080/"
        },
        "id": "n4hH2axZgaV2",
        "outputId": "42af7ab3-40a9-4903-c56b-96bd9af6fd2f"
      },
      "outputs": [
        {
          "name": "stdout",
          "output_type": "stream",
          "text": [
            "Epoch 1/10\n",
            "540/540 [==============================] - 38s 64ms/step - loss: 0.3710 - accuracy: 0.8654 - val_loss: 0.1633 - val_accuracy: 0.9583\n",
            "Epoch 2/10\n",
            "540/540 [==============================] - 38s 71ms/step - loss: 0.0420 - accuracy: 0.9880 - val_loss: 0.1691 - val_accuracy: 0.9650\n",
            "Epoch 3/10\n",
            "540/540 [==============================] - 31s 58ms/step - loss: 0.0098 - accuracy: 0.9967 - val_loss: 0.1932 - val_accuracy: 0.9667\n",
            "Epoch 4/10\n",
            "540/540 [==============================] - 40s 74ms/step - loss: 0.0020 - accuracy: 0.9996 - val_loss: 0.1951 - val_accuracy: 0.9650\n",
            "Epoch 5/10\n",
            "540/540 [==============================] - 33s 60ms/step - loss: 0.0027 - accuracy: 0.9994 - val_loss: 0.1717 - val_accuracy: 0.9633\n",
            "Epoch 6/10\n",
            "540/540 [==============================] - 35s 66ms/step - loss: 0.0073 - accuracy: 0.9985 - val_loss: 0.1532 - val_accuracy: 0.9617\n",
            "Epoch 7/10\n",
            "540/540 [==============================] - 31s 57ms/step - loss: 0.0024 - accuracy: 0.9991 - val_loss: 0.1846 - val_accuracy: 0.9700\n",
            "Epoch 8/10\n",
            "540/540 [==============================] - 30s 55ms/step - loss: 7.0612e-04 - accuracy: 0.9998 - val_loss: 0.1778 - val_accuracy: 0.9717\n",
            "Epoch 9/10\n",
            "540/540 [==============================] - 30s 56ms/step - loss: 5.9597e-04 - accuracy: 0.9998 - val_loss: 0.1999 - val_accuracy: 0.9683\n",
            "Epoch 10/10\n",
            "540/540 [==============================] - 30s 56ms/step - loss: 8.9212e-05 - accuracy: 1.0000 - val_loss: 0.2111 - val_accuracy: 0.9683\n"
          ]
        }
      ],
      "source": [
        "model = Sequential()\n",
        "model.add(Embedding(max_words, 100))\n",
        "model.add(LSTM(128))\n",
        "model.add(Dense(3, activation = 'softmax'))\n",
        "\n",
        "model.compile(optimizer='adam', loss='categorical_crossentropy', metrics = ['accuracy'])\n",
        "history = model.fit(X_train, y_train, epochs=10, batch_size=10, validation_split=0.1)"
      ]
    },
    {
      "cell_type": "code",
      "execution_count": 64,
      "metadata": {
        "colab": {
          "base_uri": "https://localhost:8080/"
        },
        "id": "xzheFhsEjOws",
        "outputId": "dbfcd61e-5e07-4ad7-e5ca-07e3dd312d59"
      },
      "outputs": [
        {
          "name": "stdout",
          "output_type": "stream",
          "text": [
            "47/47 [==============================] - 2s 9ms/step - loss: 0.2375 - accuracy: 0.9640\n",
            "\n",
            " 테스트 정확도 : 96.40%\n"
          ]
        }
      ],
      "source": [
        "print(\"\\n 테스트 정확도 : {:.2f}%\".format(model.evaluate(X_test, y_test)[1]*100))"
      ]
    },
    {
      "cell_type": "code",
      "execution_count": 65,
      "metadata": {
        "colab": {
          "base_uri": "https://localhost:8080/"
        },
        "id": "gURY8e5pjP0Z",
        "outputId": "569c5769-411b-4033-fd36-5cb3141077bd"
      },
      "outputs": [
        {
          "name": "stdout",
          "output_type": "stream",
          "text": [
            "Epoch 1/10\n",
            "540/540 [==============================] - 35s 58ms/step - loss: 0.3697 - accuracy: 0.8628 - val_loss: 0.1653 - val_accuracy: 0.9583\n",
            "Epoch 2/10\n",
            "540/540 [==============================] - 30s 56ms/step - loss: 0.0441 - accuracy: 0.9876 - val_loss: 0.1677 - val_accuracy: 0.9583\n",
            "Epoch 3/10\n",
            "540/540 [==============================] - 29s 54ms/step - loss: 0.0058 - accuracy: 0.9989 - val_loss: 0.2674 - val_accuracy: 0.9167\n",
            "Epoch 4/10\n",
            "540/540 [==============================] - 29s 54ms/step - loss: 0.0062 - accuracy: 0.9983 - val_loss: 0.2071 - val_accuracy: 0.9500\n",
            "Epoch 5/10\n",
            "540/540 [==============================] - 30s 55ms/step - loss: 0.0023 - accuracy: 0.9993 - val_loss: 0.1964 - val_accuracy: 0.9717\n",
            "Epoch 6/10\n",
            "540/540 [==============================] - 29s 54ms/step - loss: 0.0082 - accuracy: 0.9974 - val_loss: 0.1888 - val_accuracy: 0.9567\n",
            "Epoch 7/10\n",
            "540/540 [==============================] - 29s 54ms/step - loss: 0.0025 - accuracy: 0.9998 - val_loss: 0.2048 - val_accuracy: 0.9617\n",
            "Epoch 8/10\n",
            "540/540 [==============================] - 36s 67ms/step - loss: 0.0050 - accuracy: 0.9993 - val_loss: 0.1787 - val_accuracy: 0.9650\n",
            "Epoch 9/10\n",
            "540/540 [==============================] - 42s 77ms/step - loss: 2.3080e-04 - accuracy: 1.0000 - val_loss: 0.2025 - val_accuracy: 0.9650\n",
            "Epoch 10/10\n",
            "540/540 [==============================] - 42s 78ms/step - loss: 4.0144e-05 - accuracy: 1.0000 - val_loss: 0.2137 - val_accuracy: 0.9650\n"
          ]
        }
      ],
      "source": [
        "model2 = Sequential()\n",
        "model2.add(Embedding(max_words, 100))\n",
        "model2.add(LSTM(128))\n",
        "model2.add(Dense(3, activation = 'softmax'))\n",
        "\n",
        "model2.compile(optimizer='adam', loss='categorical_crossentropy', metrics = ['accuracy'])\n",
        "history = model2.fit(X_train, y_train, epochs=10, batch_size=10, validation_split=0.1)"
      ]
    },
    {
      "cell_type": "code",
      "execution_count": 66,
      "metadata": {
        "colab": {
          "base_uri": "https://localhost:8080/"
        },
        "id": "QKYW_h_gjfT1",
        "outputId": "cf51a4bc-3157-4dcb-f4ad-df1c5551690c"
      },
      "outputs": [
        {
          "name": "stdout",
          "output_type": "stream",
          "text": [
            "47/47 [==============================] - 1s 11ms/step - loss: 0.2956 - accuracy: 0.9540\n",
            "\n",
            " 테스트 정확도 : 95.40%\n"
          ]
        }
      ],
      "source": [
        "print(\"\\n 테스트 정확도 : {:.2f}%\".format(model2.evaluate(X_test, y_test)[1]*100))"
      ]
    },
    {
      "cell_type": "code",
      "execution_count": 67,
      "metadata": {
        "id": "rB0-hguzjkzt"
      },
      "outputs": [],
      "source": [
        "predict = model.predict(X_test)"
      ]
    },
    {
      "cell_type": "code",
      "execution_count": 69,
      "metadata": {
        "id": "p9pbR6gwk-Cr"
      },
      "outputs": [],
      "source": [
        "predict_labels = np.argmax(predict,axis=1)\n",
        "original_labels = np.argmax(y_test, axis=1)"
      ]
    },
    {
      "cell_type": "code",
      "execution_count": 70,
      "metadata": {
        "colab": {
          "base_uri": "https://localhost:8080/"
        },
        "id": "vyGTg-DhlEjI",
        "outputId": "3a55ecf0-c5c5-4377-ddc7-e297694996b9"
      },
      "outputs": [
        {
          "name": "stdout",
          "output_type": "stream",
          "text": [
            "기사제목 :  더벨맘스터치 가맹점포 롯데리아 앞질러1위 우뚝 /\t 원래 라벨 :  2 /\t예측한 라벨 :  2\n",
            "기사제목 :  롯데리아도 맘스터치도 패스트푸드점 위생적발 5년간 50 증가 /\t 원래 라벨 :  2 /\t예측한 라벨 :  0\n",
            "기사제목 :  맘스터치 도시락 한 달만에 3만개 완판잘 나가는 치킨 프랜차이즈 간편식 /\t 원래 라벨 :  1 /\t예측한 라벨 :  1\n",
            "기사제목 :  맘스터치 먹고 뉴이스트 · 옹성우 · 여자친구 보러가자 /\t 원래 라벨 :  1 /\t예측한 라벨 :  1\n",
            "기사제목 :  MTM터치 연중기획공연12세계의 음악도시 오스틴 내슈빌 아바나 /\t 원래 라벨 :  1 /\t예측한 라벨 :  1\n",
            "기사제목 :  기로에 선 자영업자 그래도 해법은 있다 /\t 원래 라벨 :  1 /\t예측한 라벨 :  1\n",
            "기사제목 :  단독 지금도 맥도날드서 벌레·이물질 줄줄줄반년새 21건 포스팅 충격 /\t 원래 라벨 :  0 /\t예측한 라벨 :  0\n",
            "기사제목 :  엄지족 잡아라패스트푸드도 배달 경쟁 가세 /\t 원래 라벨 :  1 /\t예측한 라벨 :  1\n",
            "기사제목 :  더벨강소 외식프랜차이즈 리포트해마로푸드 가격·품질 두마리 토끼 잡 /\t 원래 라벨 :  1 /\t예측한 라벨 :  1\n",
            "기사제목 :  맘스터치 펩시 콘서트 입장권 증정 이벤트 /\t 원래 라벨 :  1 /\t예측한 라벨 :  1\n",
            "기사제목 :  국내서 1위 쫓는 해마로푸드서비스 맘스터치’해외 사업은 지지부진 /\t 원래 라벨 :  2 /\t예측한 라벨 :  2\n",
            "기사제목 :  붐바타 창업박람회 참가제2의 맘스터치 시동건다 /\t 원래 라벨 :  1 /\t예측한 라벨 :  1\n",
            "기사제목 :  해마로푸드 붐바타로 제2의 맘스터치 시동건다 /\t 원래 라벨 :  1 /\t예측한 라벨 :  1\n",
            "기사제목 :  맘스터치 군대스리가 예비군편’ 추가 진행 /\t 원래 라벨 :  1 /\t예측한 라벨 :  1\n",
            "기사제목 :  맘스터치 뉴미디어 통해 기부나눔 알리다 /\t 원래 라벨 :  2 /\t예측한 라벨 :  2\n",
            "기사제목 :  맘스터치 필리핀 진출동남아 공략 가속화 /\t 원래 라벨 :  2 /\t예측한 라벨 :  2\n",
            "기사제목 :  맘스터치 대장균 초과 검출 이어 또 덜 익은 패티‧맨손조리‧냅킨 벌레 논란 /\t 원래 라벨 :  0 /\t예측한 라벨 :  0\n",
            "기사제목 :  맘스터치 위생 엉망 논란냅킨 벌레·덜 익은 고기로 조리 /\t 원래 라벨 :  0 /\t예측한 라벨 :  0\n",
            "기사제목 :  축구·농구·제기차기맘스터치 뉴미디어 통한 기부나눔 전파 /\t 원래 라벨 :  2 /\t예측한 라벨 :  2\n",
            "기사제목 :  가성비 햄버거로 맘스터치 강하게 위협하는 노브랜드 버거 메뉴 5가지 /\t 원래 라벨 :  1 /\t예측한 라벨 :  1\n",
            "기사제목 :  맛있는 꿀조합 푸드 페어링 인기 /\t 원래 라벨 :  2 /\t예측한 라벨 :  2\n",
            "기사제목 :  ONE SHOT 햄버거 간식으로 한 끼 식사로당신의 최애’ 브랜드는 /\t 원래 라벨 :  1 /\t예측한 라벨 :  1\n",
            "기사제목 :  맘스터치 주문예약 전용앱 선보여 /\t 원래 라벨 :  2 /\t예측한 라벨 :  2\n",
            "기사제목 :  맘스터치 대세 배우로 거듭난 음문석과 유쾌하고 독특한 유머 넘치는 광고 선 /\t 원래 라벨 :  2 /\t예측한 라벨 :  2\n",
            "기사제목 :  맘스터치 공식 모바일 앱 출시풍성한 이벤트 마련 /\t 원래 라벨 :  2 /\t예측한 라벨 :  2\n",
            "기사제목 :  맘스터치몰 데일리 맘스터치 도시락 6종 출시 /\t 원래 라벨 :  2 /\t예측한 라벨 :  2\n",
            "기사제목 :  맘스터치 이제 앱 통해서 만난다 /\t 원래 라벨 :  1 /\t예측한 라벨 :  1\n",
            "기사제목 :  유통오늘 맘스터치 멕시코풍 살사리코버거 출시 /\t 원래 라벨 :  2 /\t예측한 라벨 :  2\n",
            "기사제목 :  맘스터치 이번엔 매콤·달콤·새콤 살사소스다 /\t 원래 라벨 :  1 /\t예측한 라벨 :  1\n",
            "기사제목 :  맘스터치 멕시코풍 살사리코버거’  이번엔 매콤 달콤 새콤 살사소스다 /\t 원래 라벨 :  1 /\t예측한 라벨 :  1\n"
          ]
        }
      ],
      "source": [
        "for i in range(30):\n",
        "  print(\"기사제목 : \", test_data['title'].iloc[i], \"/\\t 원래 라벨 : \", original_labels[i], \"/\\t예측한 라벨 : \",predict_labels[i])"
      ]
    },
    {
      "cell_type": "code",
      "execution_count": null,
      "metadata": {
        "id": "JLV5wL9slS8w"
      },
      "outputs": [],
      "source": []
    }
  ],
  "metadata": {
    "colab": {
      "collapsed_sections": [],
      "name": "Untitled5.ipynb",
      "provenance": []
    },
    "kernelspec": {
      "display_name": "Python 3",
      "name": "python3"
    },
    "language_info": {
      "codemirror_mode": {
        "name": "ipython",
        "version": 3
      },
      "file_extension": ".py",
      "mimetype": "text/x-python",
      "name": "python",
      "nbconvert_exporter": "python",
      "pygments_lexer": "ipython3",
      "version": "3.8.9"
    }
  },
  "nbformat": 4,
  "nbformat_minor": 0
}
