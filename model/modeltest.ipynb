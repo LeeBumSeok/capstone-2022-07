{
  "cells": [
    {
      "cell_type": "code",
      "execution_count": 75,
      "metadata": {
        "colab": {
          "base_uri": "https://localhost:8080/"
        },
        "id": "xrCyVIezcCi2",
        "outputId": "ca89b459-1dd7-4948-f6b9-d5cb1d3a365c"
      },
      "outputs": [
        {
          "name": "stdout",
          "output_type": "stream",
          "text": [
            "Drive already mounted at /content/drive; to attempt to forcibly remount, call drive.mount(\"/content/drive\", force_remount=True).\n"
          ]
        }
      ],
      "source": [
        "from google.colab import drive\n",
        "drive.mount('/content/drive')"
      ]
    },
    {
      "cell_type": "code",
      "execution_count": 76,
      "metadata": {
        "colab": {
          "base_uri": "https://localhost:8080/"
        },
        "id": "kMtQ4QETW9NC",
        "outputId": "e2faa7fa-fb23-4b6f-e568-ed02402694e2"
      },
      "outputs": [
        {
          "name": "stdout",
          "output_type": "stream",
          "text": [
            "Requirement already satisfied: konlpy in /usr/local/lib/python3.7/dist-packages (0.6.0)\n",
            "Requirement already satisfied: JPype1>=0.7.0 in /usr/local/lib/python3.7/dist-packages (from konlpy) (1.3.0)\n",
            "Requirement already satisfied: numpy>=1.6 in /usr/local/lib/python3.7/dist-packages (from konlpy) (1.21.5)\n",
            "Requirement already satisfied: lxml>=4.1.0 in /usr/local/lib/python3.7/dist-packages (from konlpy) (4.2.6)\n",
            "Requirement already satisfied: typing-extensions in /usr/local/lib/python3.7/dist-packages (from JPype1>=0.7.0->konlpy) (3.10.0.2)\n"
          ]
        }
      ],
      "source": [
        "!pip install konlpy"
      ]
    },
    {
      "cell_type": "code",
      "execution_count": 77,
      "metadata": {
        "id": "xklKcflccTtj"
      },
      "outputs": [],
      "source": [
        "import pandas as pd\n",
        "\n",
        "train_data = pd.read_csv(\"./train.csv\")\n",
        "test_data = pd.read_csv(\"./test2.csv\")"
      ]
    },
    {
      "cell_type": "code",
      "execution_count": 78,
      "metadata": {
        "id": "QSTDh8mYci7B"
      },
      "outputs": [],
      "source": [
        "%matplotlib inline\n",
        "import matplotlib.pyplot as pyplot"
      ]
    },
    {
      "cell_type": "code",
      "execution_count": 79,
      "metadata": {
        "colab": {
          "base_uri": "https://localhost:8080/",
          "height": 282
        },
        "id": "zGQOAPsycu32",
        "outputId": "3902336d-6aab-4ed9-e945-6dc17839081c"
      },
      "outputs": [
        {
          "data": {
            "text/plain": [
              "<matplotlib.axes._subplots.AxesSubplot at 0x7f6876305fd0>"
            ]
          },
          "execution_count": 79,
          "metadata": {},
          "output_type": "execute_result"
        },
        {
          "data": {
            "image/png": "[encoded data removed]",
            "text/plain": [
              "<Figure size 432x288 with 1 Axes>"
            ]
          },
          "metadata": {
            "needs_background": "light"
          },
          "output_type": "display_data"
        }
      ],
      "source": [
        "train_data['label'].value_counts().plot(kind='bar')"
      ]
    },
    {
      "cell_type": "code",
      "execution_count": 80,
      "metadata": {
        "colab": {
          "base_uri": "https://localhost:8080/",
          "height": 282
        },
        "id": "FWDK7X56cyMM",
        "outputId": "1814b2e5-f476-4d10-df3f-5af2f8596212"
      },
      "outputs": [
        {
          "data": {
            "text/plain": [
              "<matplotlib.axes._subplots.AxesSubplot at 0x7f68761d1790>"
            ]
          },
          "execution_count": 80,
          "metadata": {},
          "output_type": "execute_result"
        },
        {
          "data": {
            "image/png": "[encoded data removed]",
            "text/plain": [
              "<Figure size 432x288 with 1 Axes>"
            ]
          },
          "metadata": {
            "needs_background": "light"
          },
          "output_type": "display_data"
        }
      ],
      "source": [
        "test_data['label'].value_counts().plot(kind='bar')"
      ]
    },
    {
      "cell_type": "code",
      "execution_count": 81,
      "metadata": {
        "colab": {
          "base_uri": "https://localhost:8080/"
        },
        "id": "inbdkg_Sc2XC",
        "outputId": "d5e51bf9-b579-4f0a-ca0b-b0f782f4d181"
      },
      "outputs": [
        {
          "name": "stdout",
          "output_type": "stream",
          "text": [
            "   label  count\n",
            "0     -1    738\n",
            "1      0   4258\n",
            "2      1   2250\n",
            "   label  count\n",
            "0     -1     26\n",
            "1      0     95\n",
            "2      1     78\n"
          ]
        }
      ],
      "source": [
        "print(train_data.groupby('label').size().reset_index(name='count'))\n",
        "print(test_data.groupby('label').size().reset_index(name='count'))"
      ]
    },
    {
      "cell_type": "code",
      "execution_count": 82,
      "metadata": {
        "id": "1yzEX4HidFUD"
      },
      "outputs": [],
      "source": [
        "stopwords = ['의','가','이','은','들','는','좀','잘','걍','과','도','를','으로','자','에','와','한','하다'] "
      ]
    },
    {
      "cell_type": "code",
      "execution_count": 83,
      "metadata": {
        "id": "5_i7UK1udULf"
      },
      "outputs": [],
      "source": [
        "import konlpy\n",
        "from konlpy.tag import Okt\n",
        "okt = Okt()\n",
        "X_train = []\n",
        "for sentence in train_data['title']:\n",
        "  temp_X =[]\n",
        "  temp_X = okt.morphs(str(sentence), stem=True) #토큰화\n",
        "  temp_X = [word for word in temp_X if not word in stopwords] #안쓰는 말 제거\n",
        "  X_train.append(temp_X)\n",
        "\n",
        "X_test = []\n",
        "for sentence in test_data['title']:\n",
        "  temp_X =[]\n",
        "  temp_X = okt.morphs(str(sentence), stem=True) #토큰화\n",
        "  temp_X = [word for word in temp_X if not word in stopwords] #안쓰는 말 제거\n",
        "  X_test.append(temp_X)"
      ]
    },
    {
      "cell_type": "code",
      "execution_count": 84,
      "metadata": {
        "colab": {
          "base_uri": "https://localhost:8080/"
        },
        "id": "VH9lffgadZuq",
        "outputId": "1be565bc-4d51-4bfe-cb6e-c91aff260164"
      },
      "outputs": [
        {
          "name": "stdout",
          "output_type": "stream",
          "text": [
            "[['주가', '7%', '↑', '급상승', '이유'], ['여의도', '주식', '왕', '2', '부', '풍', '원', '정밀', 'vs', 'vs', '아모', '센스', '여의도', '달구다', '종목'], ['특징', '주', '곡물', '사료', '관련', '주', '영업', '익', '47%', '하락', '에도', '주가', '상승']]\n"
          ]
        }
      ],
      "source": [
        "print(X_train[:3])"
      ]
    },
    {
      "cell_type": "code",
      "execution_count": 85,
      "metadata": {
        "colab": {
          "base_uri": "https://localhost:8080/"
        },
        "id": "t_Ns7IFgeXOa",
        "outputId": "f7605f0b-fab2-44bf-9165-1e2b1b0ae031"
      },
      "outputs": [
        {
          "name": "stdout",
          "output_type": "stream",
          "text": [
            "[['31일', '정기', '주주총회'], ['실적', '점검', '4', 'Q', '영업', '이익', '101억원', 'PER', '9', '1', '배'], ['작년', '연간', '연결', '영업', '익', '313억', '전', '년비', '9', '4%', '↓']]\n"
          ]
        }
      ],
      "source": [
        "print(X_test[:3])"
      ]
    },
    {
      "cell_type": "code",
      "execution_count": 86,
      "metadata": {
        "id": "rky8vspTeZVU"
      },
      "outputs": [],
      "source": [
        "from re import X\n",
        "from keras.preprocessing.text import Tokenizer\n",
        "max_words = 35000\n",
        "tokenizer = Tokenizer(num_words = max_words)\n",
        "tokenizer.fit_on_texts(X_train)\n",
        "X_train = tokenizer.texts_to_sequences(X_train)\n",
        "X_test = tokenizer.texts_to_sequences(X_test)"
      ]
    },
    {
      "cell_type": "code",
      "execution_count": 87,
      "metadata": {
        "colab": {
          "base_uri": "https://localhost:8080/"
        },
        "id": "dARLEFS-esup",
        "outputId": "d3f92a1b-97c8-4aa1-966c-597a061fd4b3"
      },
      "outputs": [
        {
          "name": "stdout",
          "output_type": "stream",
          "text": [
            "[[2, 267, 5, 1811, 237], [559, 59, 807, 21, 646, 808, 93, 869, 353, 353, 5338, 5339, 559, 1407, 63], [8, 1, 1088, 690, 41, 1, 4, 27, 5340, 108, 335, 2, 14]]\n"
          ]
        }
      ],
      "source": [
        "print(X_train[:3])"
      ]
    },
    {
      "cell_type": "code",
      "execution_count": 88,
      "metadata": {
        "colab": {
          "base_uri": "https://localhost:8080/"
        },
        "id": "qpx7lBJbeyV1",
        "outputId": "e9e94ff9-3037-41e5-977d-cb6e0db74ffd"
      },
      "outputs": [
        {
          "name": "stdout",
          "output_type": "stream",
          "text": [
            "[[541, 105, 129], [15, 79, 38, 65, 4, 32, 147, 352, 7, 72], [76, 178, 238, 4, 27, 7155, 13, 83, 352, 240, 180]]\n"
          ]
        }
      ],
      "source": [
        "print(X_test[:3])"
      ]
    },
    {
      "cell_type": "code",
      "execution_count": 89,
      "metadata": {
        "colab": {
          "base_uri": "https://localhost:8080/"
        },
        "id": "oN6T579YezBr",
        "outputId": "b09b8717-150a-4b16-d503-f4bed0a7f8d4"
      },
      "outputs": [
        {
          "name": "stdout",
          "output_type": "stream",
          "text": [
            "제목의 최대 길이 :  20\n",
            "제목의 평균 길이 :  9.34032569693624\n"
          ]
        }
      ],
      "source": [
        "print(\"제목의 최대 길이 : \", max(len(I) for I in X_train))\n",
        "print(\"제목의 평균 길이 : \", sum(map(len, X_train))/len(X_train))"
      ]
    },
    {
      "cell_type": "code",
      "execution_count": 90,
      "metadata": {
        "colab": {
          "base_uri": "https://localhost:8080/"
        },
        "id": "7ii-GOPpfFnh",
        "outputId": "f58cbdf4-6ebb-4fd9-e70c-32c127e68c6a"
      },
      "outputs": [
        {
          "name": "stdout",
          "output_type": "stream",
          "text": [
            "제목의 최대 길이 :  21\n",
            "제목의 평균 길이 :  8.72361809045226\n"
          ]
        }
      ],
      "source": [
        "print(\"제목의 최대 길이 : \", max(len(I) for I in X_test))\n",
        "print(\"제목의 평균 길이 : \", sum(map(len, X_test))/len(X_test))"
      ]
    },
    {
      "cell_type": "code",
      "execution_count": 91,
      "metadata": {
        "id": "akIgSyREfnuY"
      },
      "outputs": [],
      "source": [
        "import numpy as np\n",
        "\n",
        "y_train = []\n",
        "y_test = []\n",
        "\n",
        "for i in range(len(train_data['label'])):\n",
        "  if train_data['label'].iloc[i]==1:\n",
        "    y_train.append([0,0,1])\n",
        "  elif train_data['label'].iloc[i]==0:\n",
        "     y_train.append([0,1,0]) \n",
        "  elif train_data['label'].iloc[i]== -1:\n",
        "     y_train.append([1,0,0]) \n",
        "\n",
        "\n",
        "for i in range(len(test_data['label'])):\n",
        "  if test_data['label'].iloc[i]==1:\n",
        "    y_test.append([0,0,1])\n",
        "  elif test_data['label'].iloc[i]==0:\n",
        "     y_test.append([0,1,0]) \n",
        "  elif test_data['label'].iloc[i]== -1:\n",
        "     y_test.append([1,0,0]) \n",
        "\n",
        "y_train = np.array(y_train)\n",
        "y_test = np.array(y_test)"
      ]
    },
    {
      "cell_type": "code",
      "execution_count": 92,
      "metadata": {
        "colab": {
          "base_uri": "https://localhost:8080/"
        },
        "id": "9ufY-SdpgDkq",
        "outputId": "80cc732a-e87c-4626-e617-bee08ee5a151"
      },
      "outputs": [
        {
          "data": {
            "text/plain": [
              "array([[0, 0, 1],\n",
              "       [0, 1, 0],\n",
              "       [1, 0, 0],\n",
              "       ...,\n",
              "       [0, 1, 0],\n",
              "       [0, 0, 1],\n",
              "       [0, 0, 1]])"
            ]
          },
          "execution_count": 92,
          "metadata": {},
          "output_type": "execute_result"
        }
      ],
      "source": [
        "y_train"
      ]
    },
    {
      "cell_type": "code",
      "execution_count": 93,
      "metadata": {
        "colab": {
          "base_uri": "https://localhost:8080/"
        },
        "id": "iwD4vX68gFpQ",
        "outputId": "18687d6d-abd0-407d-99d1-17efc2209b91"
      },
      "outputs": [
        {
          "data": {
            "text/plain": [
              "array([[0, 1, 0],\n",
              "       [0, 0, 1],\n",
              "       [0, 1, 0],\n",
              "       [0, 1, 0],\n",
              "       [0, 0, 1],\n",
              "       [0, 0, 1],\n",
              "       [0, 0, 1],\n",
              "       [0, 1, 0],\n",
              "       [0, 0, 1],\n",
              "       [0, 0, 1],\n",
              "       [0, 1, 0],\n",
              "       [0, 1, 0],\n",
              "       [0, 1, 0],\n",
              "       [0, 1, 0],\n",
              "       [0, 0, 1],\n",
              "       [1, 0, 0],\n",
              "       [0, 1, 0],\n",
              "       [0, 0, 1],\n",
              "       [0, 0, 1],\n",
              "       [0, 1, 0],\n",
              "       [0, 1, 0],\n",
              "       [0, 1, 0],\n",
              "       [0, 0, 1],\n",
              "       [1, 0, 0],\n",
              "       [0, 1, 0],\n",
              "       [0, 1, 0],\n",
              "       [0, 1, 0],\n",
              "       [0, 0, 1],\n",
              "       [0, 1, 0],\n",
              "       [0, 1, 0],\n",
              "       [0, 1, 0],\n",
              "       [1, 0, 0],\n",
              "       [1, 0, 0],\n",
              "       [0, 1, 0],\n",
              "       [0, 1, 0],\n",
              "       [1, 0, 0],\n",
              "       [0, 0, 1],\n",
              "       [1, 0, 0],\n",
              "       [0, 1, 0],\n",
              "       [0, 1, 0],\n",
              "       [0, 1, 0],\n",
              "       [0, 1, 0],\n",
              "       [0, 1, 0],\n",
              "       [0, 0, 1],\n",
              "       [0, 0, 1],\n",
              "       [0, 1, 0],\n",
              "       [0, 0, 1],\n",
              "       [0, 0, 1],\n",
              "       [0, 0, 1],\n",
              "       [0, 0, 1],\n",
              "       [0, 0, 1],\n",
              "       [0, 0, 1],\n",
              "       [0, 0, 1],\n",
              "       [0, 1, 0],\n",
              "       [0, 1, 0],\n",
              "       [0, 1, 0],\n",
              "       [0, 0, 1],\n",
              "       [0, 0, 1],\n",
              "       [0, 1, 0],\n",
              "       [0, 0, 1],\n",
              "       [0, 1, 0],\n",
              "       [0, 0, 1],\n",
              "       [0, 1, 0],\n",
              "       [0, 0, 1],\n",
              "       [0, 0, 1],\n",
              "       [0, 0, 1],\n",
              "       [0, 1, 0],\n",
              "       [0, 1, 0],\n",
              "       [0, 0, 1],\n",
              "       [0, 1, 0],\n",
              "       [1, 0, 0],\n",
              "       [0, 1, 0],\n",
              "       [0, 1, 0],\n",
              "       [0, 1, 0],\n",
              "       [0, 1, 0],\n",
              "       [0, 0, 1],\n",
              "       [0, 1, 0],\n",
              "       [0, 0, 1],\n",
              "       [0, 1, 0],\n",
              "       [0, 1, 0],\n",
              "       [0, 1, 0],\n",
              "       [0, 1, 0],\n",
              "       [0, 1, 0],\n",
              "       [0, 1, 0],\n",
              "       [1, 0, 0],\n",
              "       [0, 1, 0],\n",
              "       [0, 1, 0],\n",
              "       [0, 0, 1],\n",
              "       [0, 0, 1],\n",
              "       [0, 1, 0],\n",
              "       [0, 1, 0],\n",
              "       [0, 1, 0],\n",
              "       [0, 1, 0],\n",
              "       [1, 0, 0],\n",
              "       [0, 1, 0],\n",
              "       [0, 0, 1],\n",
              "       [1, 0, 0],\n",
              "       [0, 0, 1],\n",
              "       [1, 0, 0],\n",
              "       [0, 0, 1],\n",
              "       [1, 0, 0],\n",
              "       [0, 1, 0],\n",
              "       [0, 0, 1],\n",
              "       [0, 0, 1],\n",
              "       [0, 0, 1],\n",
              "       [1, 0, 0],\n",
              "       [1, 0, 0],\n",
              "       [0, 0, 1],\n",
              "       [1, 0, 0],\n",
              "       [1, 0, 0],\n",
              "       [0, 0, 1],\n",
              "       [0, 0, 1],\n",
              "       [0, 0, 1],\n",
              "       [0, 1, 0],\n",
              "       [0, 1, 0],\n",
              "       [0, 1, 0],\n",
              "       [0, 0, 1],\n",
              "       [0, 1, 0],\n",
              "       [0, 1, 0],\n",
              "       [0, 1, 0],\n",
              "       [0, 0, 1],\n",
              "       [0, 0, 1],\n",
              "       [1, 0, 0],\n",
              "       [0, 1, 0],\n",
              "       [0, 0, 1],\n",
              "       [0, 0, 1],\n",
              "       [0, 0, 1],\n",
              "       [0, 1, 0],\n",
              "       [0, 1, 0],\n",
              "       [0, 0, 1],\n",
              "       [0, 0, 1],\n",
              "       [0, 1, 0],\n",
              "       [0, 1, 0],\n",
              "       [0, 1, 0],\n",
              "       [0, 1, 0],\n",
              "       [0, 1, 0],\n",
              "       [0, 1, 0],\n",
              "       [0, 1, 0],\n",
              "       [0, 0, 1],\n",
              "       [0, 0, 1],\n",
              "       [1, 0, 0],\n",
              "       [0, 1, 0],\n",
              "       [0, 0, 1],\n",
              "       [0, 1, 0],\n",
              "       [0, 1, 0],\n",
              "       [0, 1, 0],\n",
              "       [0, 1, 0],\n",
              "       [0, 1, 0],\n",
              "       [0, 0, 1],\n",
              "       [0, 0, 1],\n",
              "       [0, 1, 0],\n",
              "       [0, 1, 0],\n",
              "       [0, 1, 0],\n",
              "       [0, 1, 0],\n",
              "       [0, 1, 0],\n",
              "       [0, 0, 1],\n",
              "       [0, 0, 1],\n",
              "       [0, 0, 1],\n",
              "       [0, 0, 1],\n",
              "       [0, 1, 0],\n",
              "       [0, 0, 1],\n",
              "       [0, 0, 1],\n",
              "       [0, 0, 1],\n",
              "       [0, 0, 1],\n",
              "       [1, 0, 0],\n",
              "       [0, 0, 1],\n",
              "       [0, 0, 1],\n",
              "       [1, 0, 0],\n",
              "       [0, 1, 0],\n",
              "       [0, 1, 0],\n",
              "       [0, 0, 1],\n",
              "       [0, 1, 0],\n",
              "       [0, 1, 0],\n",
              "       [1, 0, 0],\n",
              "       [0, 1, 0],\n",
              "       [0, 0, 1],\n",
              "       [0, 1, 0],\n",
              "       [0, 1, 0],\n",
              "       [0, 0, 1],\n",
              "       [0, 0, 1],\n",
              "       [0, 1, 0],\n",
              "       [0, 0, 1],\n",
              "       [0, 0, 1],\n",
              "       [0, 0, 1],\n",
              "       [0, 0, 1],\n",
              "       [1, 0, 0],\n",
              "       [0, 1, 0],\n",
              "       [1, 0, 0],\n",
              "       [0, 1, 0],\n",
              "       [0, 1, 0],\n",
              "       [0, 1, 0],\n",
              "       [1, 0, 0],\n",
              "       [0, 0, 1],\n",
              "       [0, 0, 1],\n",
              "       [0, 0, 1],\n",
              "       [1, 0, 0],\n",
              "       [0, 1, 0],\n",
              "       [0, 0, 1],\n",
              "       [1, 0, 0]])"
            ]
          },
          "execution_count": 93,
          "metadata": {},
          "output_type": "execute_result"
        }
      ],
      "source": [
        "y_test"
      ]
    },
    {
      "cell_type": "code",
      "execution_count": 94,
      "metadata": {
        "id": "r8_UUFiLgGuq"
      },
      "outputs": [],
      "source": [
        "#모델 만들기, 모든 데이터의 길이를 20으로 통일\n",
        "\n",
        "from keras.layers import Embedding, Dense, LSTM\n",
        "from keras.models import Sequential\n",
        "from keras.preprocessing.sequence import pad_sequences\n",
        "max_len = 20\n",
        "\n",
        "X_train = pad_sequences(X_train, maxlen=max_len)\n",
        "X_test = pad_sequences(X_test, maxlen=max_len)"
      ]
    },
    {
      "cell_type": "code",
      "execution_count": 95,
      "metadata": {
        "colab": {
          "base_uri": "https://localhost:8080/"
        },
        "id": "n4hH2axZgaV2",
        "outputId": "e13a5e09-51c0-409c-856d-a181e587add1"
      },
      "outputs": [
        {
          "name": "stdout",
          "output_type": "stream",
          "text": [
            "Epoch 1/10\n",
            "653/653 [==============================] - 59s 85ms/step - loss: 0.4125 - accuracy: 0.8499 - val_loss: 0.1566 - val_accuracy: 0.9600\n",
            "Epoch 2/10\n",
            "653/653 [==============================] - 43s 66ms/step - loss: 0.0386 - accuracy: 0.9905 - val_loss: 0.1443 - val_accuracy: 0.9628\n",
            "Epoch 3/10\n",
            "653/653 [==============================] - 44s 67ms/step - loss: 0.0059 - accuracy: 0.9982 - val_loss: 0.1573 - val_accuracy: 0.9628\n",
            "Epoch 4/10\n",
            "653/653 [==============================] - 43s 65ms/step - loss: 0.0053 - accuracy: 0.9988 - val_loss: 0.1624 - val_accuracy: 0.9655\n",
            "Epoch 5/10\n",
            "653/653 [==============================] - 42s 64ms/step - loss: 0.0021 - accuracy: 0.9994 - val_loss: 0.1698 - val_accuracy: 0.9586\n",
            "Epoch 6/10\n",
            "653/653 [==============================] - 42s 65ms/step - loss: 0.0076 - accuracy: 0.9982 - val_loss: 0.1653 - val_accuracy: 0.9724\n",
            "Epoch 7/10\n",
            "653/653 [==============================] - 42s 65ms/step - loss: 0.0128 - accuracy: 0.9974 - val_loss: 0.1798 - val_accuracy: 0.9628\n",
            "Epoch 8/10\n",
            "653/653 [==============================] - 42s 65ms/step - loss: 0.0021 - accuracy: 0.9997 - val_loss: 0.1752 - val_accuracy: 0.9655\n",
            "Epoch 9/10\n",
            "653/653 [==============================] - 44s 67ms/step - loss: 9.7197e-05 - accuracy: 1.0000 - val_loss: 0.1885 - val_accuracy: 0.9669\n",
            "Epoch 10/10\n",
            "653/653 [==============================] - 42s 64ms/step - loss: 5.0387e-05 - accuracy: 1.0000 - val_loss: 0.1983 - val_accuracy: 0.9669\n"
          ]
        }
      ],
      "source": [
        "model = Sequential()\n",
        "model.add(Embedding(max_words, 100))\n",
        "model.add(LSTM(128))\n",
        "model.add(Dense(3, activation = 'softmax'))\n",
        "\n",
        "model.compile(optimizer='adam', loss='categorical_crossentropy', metrics = ['accuracy'])\n",
        "history = model.fit(X_train, y_train, epochs=10, batch_size=10, validation_split=0.1)"
      ]
    },
    {
      "cell_type": "markdown",
      "metadata": {},
      "source": []
    },
    {
      "cell_type": "code",
      "execution_count": 96,
      "metadata": {
        "colab": {
          "base_uri": "https://localhost:8080/"
        },
        "id": "xzheFhsEjOws",
        "outputId": "c6ac13b9-febc-45ef-fcd7-2e81084bddea"
      },
      "outputs": [
        {
          "name": "stdout",
          "output_type": "stream",
          "text": [
            "7/7 [==============================] - 0s 11ms/step - loss: 3.5581 - accuracy: 0.6683\n",
            "\n",
            " 테스트 정확도 : 66.83%\n"
          ]
        }
      ],
      "source": [
        "print(\"\\n 테스트 정확도 : {:.2f}%\".format(model.evaluate(X_test, y_test)[1]*100))"
      ]
    },
    {
      "cell_type": "code",
      "execution_count": 97,
      "metadata": {
        "colab": {
          "base_uri": "https://localhost:8080/"
        },
        "id": "gURY8e5pjP0Z",
        "outputId": "6ac54587-ea8e-4cfc-ffa8-81e00b96737d"
      },
      "outputs": [
        {
          "name": "stdout",
          "output_type": "stream",
          "text": [
            "Epoch 1/10\n",
            "653/653 [==============================] - 42s 59ms/step - loss: 0.5078 - accuracy: 0.8137 - val_loss: 0.2775 - val_accuracy: 0.9228\n",
            "Epoch 2/10\n",
            "653/653 [==============================] - 25s 38ms/step - loss: 0.1347 - accuracy: 0.9603 - val_loss: 0.1785 - val_accuracy: 0.9545\n",
            "Epoch 3/10\n",
            "653/653 [==============================] - 25s 38ms/step - loss: 0.0647 - accuracy: 0.9822 - val_loss: 0.2843 - val_accuracy: 0.9145\n",
            "Epoch 4/10\n",
            "653/653 [==============================] - 25s 38ms/step - loss: 0.0360 - accuracy: 0.9888 - val_loss: 0.1522 - val_accuracy: 0.9641\n",
            "Epoch 5/10\n",
            "653/653 [==============================] - 27s 41ms/step - loss: 0.0252 - accuracy: 0.9934 - val_loss: 0.2262 - val_accuracy: 0.9324\n",
            "Epoch 6/10\n",
            "653/653 [==============================] - 25s 39ms/step - loss: 0.0186 - accuracy: 0.9957 - val_loss: 0.2566 - val_accuracy: 0.9255\n",
            "Epoch 7/10\n",
            "653/653 [==============================] - 25s 39ms/step - loss: 0.0121 - accuracy: 0.9968 - val_loss: 0.2624 - val_accuracy: 0.9421\n",
            "Epoch 8/10\n",
            "653/653 [==============================] - 25s 39ms/step - loss: 0.0084 - accuracy: 0.9974 - val_loss: 0.2907 - val_accuracy: 0.9255\n",
            "Epoch 9/10\n",
            "653/653 [==============================] - 25s 38ms/step - loss: 0.0063 - accuracy: 0.9989 - val_loss: 0.2620 - val_accuracy: 0.9628\n",
            "Epoch 10/10\n",
            "653/653 [==============================] - 25s 38ms/step - loss: 0.0041 - accuracy: 0.9989 - val_loss: 0.3397 - val_accuracy: 0.9338\n"
          ]
        }
      ],
      "source": [
        "model2 = Sequential()\n",
        "model2.add(Embedding(max_words, 100))\n",
        "model2.add(LSTM(128))\n",
        "model2.add(Dense(3, activation = 'softmax'))\n",
        "\n",
        "model2.compile(optimizer='rmsprop', loss='categorical_crossentropy', metrics = ['accuracy'])\n",
        "history = model2.fit(X_train, y_train, epochs=10, batch_size=10, validation_split=0.1)"
      ]
    },
    {
      "cell_type": "code",
      "execution_count": 98,
      "metadata": {
        "colab": {
          "base_uri": "https://localhost:8080/"
        },
        "id": "QKYW_h_gjfT1",
        "outputId": "c60de7d5-73ef-4ac3-e672-d0584edd7896"
      },
      "outputs": [
        {
          "name": "stdout",
          "output_type": "stream",
          "text": [
            "7/7 [==============================] - 0s 10ms/step - loss: 4.9468 - accuracy: 0.6734\n",
            "\n",
            " 테스트 정확도 : 67.34%\n"
          ]
        }
      ],
      "source": [
        "print(\"\\n 테스트 정확도 : {:.2f}%\".format(model2.evaluate(X_test, y_test)[1]*100))"
      ]
    },
    {
      "cell_type": "code",
      "execution_count": 99,
      "metadata": {
        "id": "rB0-hguzjkzt"
      },
      "outputs": [],
      "source": [
        "predict = model.predict(X_test)"
      ]
    },
    {
      "cell_type": "code",
      "execution_count": 100,
      "metadata": {
        "id": "p9pbR6gwk-Cr"
      },
      "outputs": [],
      "source": [
        "predict_labels = np.argmax(predict,axis=1)\n",
        "original_labels = np.argmax(y_test, axis=1)"
      ]
    },
    {
      "cell_type": "code",
      "execution_count": 101,
      "metadata": {
        "colab": {
          "base_uri": "https://localhost:8080/"
        },
        "id": "vyGTg-DhlEjI",
        "outputId": "d44d0d8c-dca9-4527-94c5-51573b0b2293"
      },
      "outputs": [
        {
          "name": "stdout",
          "output_type": "stream",
          "text": [
            "기사제목 :  31일 정기주주총회 /\t 원래 라벨 :  1 /\t예측한 라벨 :  1\n",
            "기사제목 :  실적점검 4Q 영업이익 101억원 PER 9 1배 /\t 원래 라벨 :  2 /\t예측한 라벨 :  1\n",
            "기사제목 :  작년 연간 연결 영업익 313억 전년비 9 4%↓ /\t 원래 라벨 :  1 /\t예측한 라벨 :  0\n",
            "기사제목 :  권육상 대표이사 모친상 /\t 원래 라벨 :  1 /\t예측한 라벨 :  1\n",
            "기사제목 :  특징주 거리두기 강화에 주가 9% 들썩 4일만에 반등 /\t 원래 라벨 :  2 /\t예측한 라벨 :  2\n",
            "기사제목 :  주가 17%↑ 나투라미디어에 34억 운영자금 대여 결정 /\t 원래 라벨 :  2 /\t예측한 라벨 :  2\n",
            "기사제목 :  택배 포장 관련주 대영포장 주가 상승세 거리두기 강화 조치 /\t 원래 라벨 :  2 /\t예측한 라벨 :  2\n",
            "기사제목 :  계열사 나투라미디어에 34억 운영자금 대여 결정 /\t 원래 라벨 :  1 /\t예측한 라벨 :  1\n",
            "기사제목 :  특징주 주가 상승세 영업이익도 증가 /\t 원래 라벨 :  2 /\t예측한 라벨 :  2\n",
            "기사제목 :  진천군 제일제당 아크홀딩스와 상생 협약 /\t 원래 라벨 :  2 /\t예측한 라벨 :  1\n",
            "기사제목 :  건기식협회 건강기능식품 공정경쟁규약 심의위원 위촉식 개최 /\t 원래 라벨 :  1 /\t예측한 라벨 :  1\n",
            "기사제목 :  LG화학 이너보틀 CJ대한통운 자원순환플랫폼 구축 /\t 원래 라벨 :  1 /\t예측한 라벨 :  1\n",
            "기사제목 :  내일부터 슈퍼주총 시즌 SK 두산그룹 등 1546개 상장사 몰려 /\t 원래 라벨 :  1 /\t예측한 라벨 :  1\n",
            "기사제목 :  다음주 슈퍼주총 SK 두산그룹 등 1546개 상장사 몰려 /\t 원래 라벨 :  1 /\t예측한 라벨 :  1\n",
            "기사제목 :  진천군 케이푸드밸리 산단과 상호협력 상생발전 협약 체결 /\t 원래 라벨 :  2 /\t예측한 라벨 :  2\n",
            "기사제목 :  중노위 현대제철 하청 노동자들과 산업 안전 단체교섭 해야 /\t 원래 라벨 :  0 /\t예측한 라벨 :  1\n",
            "기사제목 :  햇반값 7% 인상 밥짓는 연료값 올라 /\t 원래 라벨 :  1 /\t예측한 라벨 :  1\n",
            "기사제목 :  특징주 SM C&C 카카오 SM 최대 1조원 대 인수 소식에 강세 /\t 원래 라벨 :  2 /\t예측한 라벨 :  2\n",
            "기사제목 :  SM 카카오가 품나 인수 금액 최대 1조원대 거론 /\t 원래 라벨 :  2 /\t예측한 라벨 :  1\n",
            "기사제목 :  2700 복귀 코스피 상승세 이어가 개인 순매도 전환 /\t 원래 라벨 :  1 /\t예측한 라벨 :  2\n",
            "기사제목 :  거래소 주간 기관투자자 순매수 도 상위종목 4 18 22일 /\t 원래 라벨 :  1 /\t예측한 라벨 :  1\n",
            "기사제목 :  2월 CJ4우 등 39개사 1억8678만주 의무보호예수 해제 /\t 원래 라벨 :  1 /\t예측한 라벨 :  1\n",
            "기사제목 :  6000클래스 3차오피셜테스트 서한GP 정회원 3차 주행서 1위 포디움 기대감 /\t 원래 라벨 :  2 /\t예측한 라벨 :  2\n",
            "기사제목 :  CJ제일제당 씨제이외 7명 1 8% 감소 37 8% 보유 /\t 원래 라벨 :  0 /\t예측한 라벨 :  0\n",
            "기사제목 :  우병우 1심 이재용 2심 부인한 김영한 수첩 증거능력 인정 /\t 원래 라벨 :  1 /\t예측한 라벨 :  1\n",
            "기사제목 :  유니폼 어깨에 앉은 신라면 e스포츠 광고 뜨거운 맛 /\t 원래 라벨 :  1 /\t예측한 라벨 :  1\n",
            "기사제목 :  민정수석실 파견검사 우병우 CJ E&M도 CGV 공범 고발 지시 /\t 원래 라벨 :  1 /\t예측한 라벨 :  1\n",
            "기사제목 :  55회 납세자의 날 고액 납세의 탑 1위 SK E&S 국세 3천억원 탑 수상 /\t 원래 라벨 :  2 /\t예측한 라벨 :  2\n",
            "기사제목 :  유가증권시장 주총 현황 28일 키움증권 29일 두산 30일 SK하이닉스 31일 /\t 원래 라벨 :  1 /\t예측한 라벨 :  1\n",
            "기사제목 :  내일부터 슈퍼주총 시즌 SK 두산그룹 등 1546개 상장사 몰려 /\t 원래 라벨 :  1 /\t예측한 라벨 :  1\n"
          ]
        }
      ],
      "source": [
        "for i in range(30):\n",
        "  print(\"기사제목 : \", test_data['title'].iloc[i], \"/\\t 원래 라벨 : \", original_labels[i], \"/\\t예측한 라벨 : \",predict_labels[i])"
      ]
    },
    {
      "cell_type": "code",
      "execution_count": null,
      "metadata": {
        "id": "JLV5wL9slS8w"
      },
      "outputs": [],
      "source": []
    }
  ],
  "metadata": {
    "colab": {
      "collapsed_sections": [],
      "name": "modeltest.ipynb",
      "provenance": []
    },
    "kernelspec": {
      "display_name": "Python 3",
      "name": "python3"
    },
    "language_info": {
      "name": "python"
    }
  },
  "nbformat": 4,
  "nbformat_minor": 0
}
