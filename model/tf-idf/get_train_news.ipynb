{
 "cells": [
  {
   "cell_type": "code",
   "execution_count": 1,
   "metadata": {},
   "outputs": [],
   "source": [
    "from pykrx import stock\n",
    "from newspaper import Article\n",
    "import datetime\n",
    "import requests\n",
    "from bs4 import BeautifulSoup\n",
    "from tqdm import tqdm\n",
    "from multiprocessing.dummy import Pool as ThreadPool\n",
    "from konlpy.tag import Okt\n",
    "import pandas as pd\n",
    "import re\n",
    "from sklearn.feature_extraction.text import TfidfVectorizer\n",
    "import numpy as np\n",
    "import csv"
   ]
  },
  {
   "cell_type": "code",
   "execution_count": 2,
   "metadata": {},
   "outputs": [],
   "source": [
    "# 공공데이터포털 api 주소(Without param)\n",
    "url_stock = \"http://api.seibro.or.kr/openapi/service/StockSvc/getKDRSecnInfo\"  \n",
    "api_service_key_stock = [\n",
    "    \"RXhGWArdgsytKaKf0g%2FWxNuo27wXxg4iChLUs9ePc39VvneddFbQ9v9ZXCDWJkdFbhqCvbw9kdMGy%2F%2Bv3it50A%3D%3D\",\n",
    "    \"bqvyeN8k%2B8%2BfRLf7p4CNQsUIEL%2BRb4b2YR08MD10RDv3BxHugq6bR1wFEAo8hTau3XgiLcA7bEBoclnMdyBfNQ%3D%3D\",\n",
    "    \"zUgkw3obrruAXAW6kZrJnIpK8UUBIrwXrfroSgoDS7NUlSB%2BDz94OTIkkWeP0V%2BzOz81JVtW84bqh1y0HpzcUg%3D%3D\",\n",
    "    \"w9Ra19Zqn3%2BLgg2zHoRiZa8zZPdSCXSgFgrgFGUkaYqqQRD6BVKMsUgiRyJqeEuG1pQ86vSioq03IRarAve7sg%3D%3D\",\n",
    "]  # service api key\n",
    "\n",
    "# 종목 이름 가져오는 코드\n",
    "\n",
    "day = (datetime.datetime.now() - datetime.timedelta(days=3)).strftime(\"%Y%m%d\")\n",
    "def getStockCode():\n",
    "    \"\"\"\n",
    "    market: 상장구분 (11=유가증권, 12=코스닥, 13=K-OTC, 14=코넥스, 50=기타비상장)\n",
    "    \"\"\"\n",
    "    url = f\"https://api.odcloud.kr/api/GetStockSecuritiesInfoService/v1/getStockPriceInfo?\"\n",
    "    stock_code = 0\n",
    "    while True:\n",
    "        api_decode_key_stock = requests.utils.unquote(\n",
    "            api_service_key_stock[stock_code], encoding=\"utf-8\"\n",
    "        )\n",
    "\n",
    "        params = {\n",
    "            \"serviceKey\": api_decode_key_stock,\n",
    "            \"mrktCls\": \"KOSPI\",\n",
    "            \"numOfRows\": 1000,\n",
    "            \"beginBasDt\":day\n",
    "        }\n",
    "\n",
    "        response = requests.get(url, params=params)\n",
    "        if(response.status_code != 200):\n",
    "            print(response.status_code)\n",
    "            stock_code += 1\n",
    "            continue\n",
    "        xml = BeautifulSoup(response.text, \"lxml\")\n",
    "        items = xml.find(\"items\")\n",
    "        item_list = []\n",
    "        for item in items:\n",
    "            try:\n",
    "                item_dict = {\n",
    "                    \"stockName\": item.find(\"itmsnm\").text.strip(),\n",
    "                    \"stockCode\": item.find(\"srtncd\").text.strip(),\n",
    "                    \"marketCap\": int(item.find(\"mrkttotamt\").text.strip()),\n",
    "                    \"date\": [],\n",
    "                }\n",
    "            except AttributeError:\n",
    "                continue\n",
    "            item_list.append(item_dict)\n",
    "\n",
    "        return item_list\n"
   ]
  },
  {
   "cell_type": "code",
   "execution_count": 3,
   "metadata": {},
   "outputs": [],
   "source": [
    "item_list = getStockCode()"
   ]
  },
  {
   "cell_type": "code",
   "execution_count": 4,
   "metadata": {},
   "outputs": [
    {
     "name": "stdout",
     "output_type": "stream",
     "text": [
      "940\n"
     ]
    }
   ],
   "source": [
    "marketCapList = sorted(item_list, key=lambda k:k[\"marketCap\"], reverse=True)\n",
    "print(len(marketCapList))\n",
    "first = []\n",
    "last = []\n",
    "\n",
    "# 시가총액 상위 하위 뽑기, 개수는 조절\n",
    "\n",
    "for i in marketCapList[:200]:\n",
    "    first.append(i)\n",
    "    \n",
    "for i in marketCapList[-200:]:\n",
    "    last.append(i)"
   ]
  },
  {
   "cell_type": "code",
   "execution_count": 6,
   "metadata": {},
   "outputs": [
    {
     "name": "stderr",
     "output_type": "stream",
     "text": [
      "  0%|          | 1/200 [00:01<03:41,  1.11s/it]\n"
     ]
    },
    {
     "ename": "KeyError",
     "evalue": "'등락률'",
     "output_type": "error",
     "traceback": [
      "\u001b[0;31m---------------------------------------------------------------------------\u001b[0m",
      "\u001b[0;31mKeyError\u001b[0m                                  Traceback (most recent call last)",
      "File \u001b[0;32m/Library/Frameworks/Python.framework/Versions/3.10/lib/python3.10/site-packages/pandas/core/indexes/base.py:3361\u001b[0m, in \u001b[0;36mIndex.get_loc\u001b[0;34m(self, key, method, tolerance)\u001b[0m\n\u001b[1;32m   <a href='file:///Library/Frameworks/Python.framework/Versions/3.10/lib/python3.10/site-packages/pandas/core/indexes/base.py?line=3359'>3360</a>\u001b[0m \u001b[39mtry\u001b[39;00m:\n\u001b[0;32m-> <a href='file:///Library/Frameworks/Python.framework/Versions/3.10/lib/python3.10/site-packages/pandas/core/indexes/base.py?line=3360'>3361</a>\u001b[0m     \u001b[39mreturn\u001b[39;00m \u001b[39mself\u001b[39;49m\u001b[39m.\u001b[39;49m_engine\u001b[39m.\u001b[39;49mget_loc(casted_key)\n\u001b[1;32m   <a href='file:///Library/Frameworks/Python.framework/Versions/3.10/lib/python3.10/site-packages/pandas/core/indexes/base.py?line=3361'>3362</a>\u001b[0m \u001b[39mexcept\u001b[39;00m \u001b[39mKeyError\u001b[39;00m \u001b[39mas\u001b[39;00m err:\n",
      "File \u001b[0;32m/Library/Frameworks/Python.framework/Versions/3.10/lib/python3.10/site-packages/pandas/_libs/index.pyx:76\u001b[0m, in \u001b[0;36mpandas._libs.index.IndexEngine.get_loc\u001b[0;34m()\u001b[0m\n",
      "File \u001b[0;32m/Library/Frameworks/Python.framework/Versions/3.10/lib/python3.10/site-packages/pandas/_libs/index.pyx:108\u001b[0m, in \u001b[0;36mpandas._libs.index.IndexEngine.get_loc\u001b[0;34m()\u001b[0m\n",
      "File \u001b[0;32mpandas/_libs/hashtable_class_helper.pxi:5198\u001b[0m, in \u001b[0;36mpandas._libs.hashtable.PyObjectHashTable.get_item\u001b[0;34m()\u001b[0m\n",
      "File \u001b[0;32mpandas/_libs/hashtable_class_helper.pxi:5206\u001b[0m, in \u001b[0;36mpandas._libs.hashtable.PyObjectHashTable.get_item\u001b[0;34m()\u001b[0m\n",
      "\u001b[0;31mKeyError\u001b[0m: '등락률'",
      "\nThe above exception was the direct cause of the following exception:\n",
      "\u001b[0;31mKeyError\u001b[0m                                  Traceback (most recent call last)",
      "\u001b[1;32m/Users/lwh/WORKSPACE/capstone-2022-07/model/tf-idf/get_train_news.ipynb Cell 5'\u001b[0m in \u001b[0;36m<cell line: 3>\u001b[0;34m()\u001b[0m\n\u001b[1;32m      <a href='vscode-notebook-cell:/Users/lwh/WORKSPACE/capstone-2022-07/model/tf-idf/get_train_news.ipynb#ch0000004?line=2'>3</a>\u001b[0m \u001b[39mfor\u001b[39;00m i \u001b[39min\u001b[39;00m tqdm(first):\n\u001b[1;32m      <a href='vscode-notebook-cell:/Users/lwh/WORKSPACE/capstone-2022-07/model/tf-idf/get_train_news.ipynb#ch0000004?line=3'>4</a>\u001b[0m     df \u001b[39m=\u001b[39m stock\u001b[39m.\u001b[39mget_market_ohlcv(\u001b[39m\"\u001b[39m\u001b[39m20180101\u001b[39m\u001b[39m\"\u001b[39m, \u001b[39m\"\u001b[39m\u001b[39m20201231\u001b[39m\u001b[39m\"\u001b[39m, i[\u001b[39m\"\u001b[39m\u001b[39mstockCode\u001b[39m\u001b[39m\"\u001b[39m], adjusted\u001b[39m=\u001b[39m\u001b[39mFalse\u001b[39;00m)\n\u001b[0;32m----> <a href='vscode-notebook-cell:/Users/lwh/WORKSPACE/capstone-2022-07/model/tf-idf/get_train_news.ipynb#ch0000004?line=4'>5</a>\u001b[0m     cond \u001b[39m=\u001b[39m df[\u001b[39m\"\u001b[39;49m\u001b[39m등락률\u001b[39;49m\u001b[39m\"\u001b[39;49m] \u001b[39m>\u001b[39m \u001b[39m10\u001b[39m\n\u001b[1;32m      <a href='vscode-notebook-cell:/Users/lwh/WORKSPACE/capstone-2022-07/model/tf-idf/get_train_news.ipynb#ch0000004?line=5'>6</a>\u001b[0m     \u001b[39mfor\u001b[39;00m j \u001b[39min\u001b[39;00m df[cond]\u001b[39m.\u001b[39miloc:\n\u001b[1;32m      <a href='vscode-notebook-cell:/Users/lwh/WORKSPACE/capstone-2022-07/model/tf-idf/get_train_news.ipynb#ch0000004?line=6'>7</a>\u001b[0m         i[\u001b[39m\"\u001b[39m\u001b[39mdate\u001b[39m\u001b[39m\"\u001b[39m]\u001b[39m.\u001b[39mappend(j\u001b[39m.\u001b[39mname\u001b[39m.\u001b[39mstrftime(\u001b[39m\"\u001b[39m\u001b[39m%\u001b[39m\u001b[39mY.\u001b[39m\u001b[39m%\u001b[39m\u001b[39mm.\u001b[39m\u001b[39m%d\u001b[39;00m\u001b[39m\"\u001b[39m))\n",
      "File \u001b[0;32m/Library/Frameworks/Python.framework/Versions/3.10/lib/python3.10/site-packages/pandas/core/frame.py:3458\u001b[0m, in \u001b[0;36mDataFrame.__getitem__\u001b[0;34m(self, key)\u001b[0m\n\u001b[1;32m   <a href='file:///Library/Frameworks/Python.framework/Versions/3.10/lib/python3.10/site-packages/pandas/core/frame.py?line=3455'>3456</a>\u001b[0m \u001b[39mif\u001b[39;00m \u001b[39mself\u001b[39m\u001b[39m.\u001b[39mcolumns\u001b[39m.\u001b[39mnlevels \u001b[39m>\u001b[39m \u001b[39m1\u001b[39m:\n\u001b[1;32m   <a href='file:///Library/Frameworks/Python.framework/Versions/3.10/lib/python3.10/site-packages/pandas/core/frame.py?line=3456'>3457</a>\u001b[0m     \u001b[39mreturn\u001b[39;00m \u001b[39mself\u001b[39m\u001b[39m.\u001b[39m_getitem_multilevel(key)\n\u001b[0;32m-> <a href='file:///Library/Frameworks/Python.framework/Versions/3.10/lib/python3.10/site-packages/pandas/core/frame.py?line=3457'>3458</a>\u001b[0m indexer \u001b[39m=\u001b[39m \u001b[39mself\u001b[39;49m\u001b[39m.\u001b[39;49mcolumns\u001b[39m.\u001b[39;49mget_loc(key)\n\u001b[1;32m   <a href='file:///Library/Frameworks/Python.framework/Versions/3.10/lib/python3.10/site-packages/pandas/core/frame.py?line=3458'>3459</a>\u001b[0m \u001b[39mif\u001b[39;00m is_integer(indexer):\n\u001b[1;32m   <a href='file:///Library/Frameworks/Python.framework/Versions/3.10/lib/python3.10/site-packages/pandas/core/frame.py?line=3459'>3460</a>\u001b[0m     indexer \u001b[39m=\u001b[39m [indexer]\n",
      "File \u001b[0;32m/Library/Frameworks/Python.framework/Versions/3.10/lib/python3.10/site-packages/pandas/core/indexes/base.py:3363\u001b[0m, in \u001b[0;36mIndex.get_loc\u001b[0;34m(self, key, method, tolerance)\u001b[0m\n\u001b[1;32m   <a href='file:///Library/Frameworks/Python.framework/Versions/3.10/lib/python3.10/site-packages/pandas/core/indexes/base.py?line=3360'>3361</a>\u001b[0m         \u001b[39mreturn\u001b[39;00m \u001b[39mself\u001b[39m\u001b[39m.\u001b[39m_engine\u001b[39m.\u001b[39mget_loc(casted_key)\n\u001b[1;32m   <a href='file:///Library/Frameworks/Python.framework/Versions/3.10/lib/python3.10/site-packages/pandas/core/indexes/base.py?line=3361'>3362</a>\u001b[0m     \u001b[39mexcept\u001b[39;00m \u001b[39mKeyError\u001b[39;00m \u001b[39mas\u001b[39;00m err:\n\u001b[0;32m-> <a href='file:///Library/Frameworks/Python.framework/Versions/3.10/lib/python3.10/site-packages/pandas/core/indexes/base.py?line=3362'>3363</a>\u001b[0m         \u001b[39mraise\u001b[39;00m \u001b[39mKeyError\u001b[39;00m(key) \u001b[39mfrom\u001b[39;00m \u001b[39merr\u001b[39;00m\n\u001b[1;32m   <a href='file:///Library/Frameworks/Python.framework/Versions/3.10/lib/python3.10/site-packages/pandas/core/indexes/base.py?line=3364'>3365</a>\u001b[0m \u001b[39mif\u001b[39;00m is_scalar(key) \u001b[39mand\u001b[39;00m isna(key) \u001b[39mand\u001b[39;00m \u001b[39mnot\u001b[39;00m \u001b[39mself\u001b[39m\u001b[39m.\u001b[39mhasnans:\n\u001b[1;32m   <a href='file:///Library/Frameworks/Python.framework/Versions/3.10/lib/python3.10/site-packages/pandas/core/indexes/base.py?line=3365'>3366</a>\u001b[0m     \u001b[39mraise\u001b[39;00m \u001b[39mKeyError\u001b[39;00m(key)\n",
      "\u001b[0;31mKeyError\u001b[0m: '등락률'"
     ]
    }
   ],
   "source": [
    "# 시가총액 상위는 등락률 10%, 하위는 20%로 조정하고 날짜 뽑기, 개수는 조절\n",
    "\n",
    "for i in tqdm(first):\n",
    "    df = stock.get_market_ohlcv(\"20180101\", \"20201231\", i[\"stockCode\"], adjusted=False)\n",
    "    df.head()\n",
    "    cond = df[\"등락률\"] > 10\n",
    "    for j in df[cond].iloc:\n",
    "        i[\"date\"].append(j.name.strftime(\"%Y.%m.%d\"))\n",
    "        \n",
    "for i in tqdm(last):\n",
    "    df = stock.get_market_ohlcv(\"20180101\", \"20201231\", i[\"stockCode\"], adjusted=False)\n",
    "    cond = df[\"등락률\"] > 20\n",
    "    for j in df[cond].iloc:\n",
    "        i[\"date\"].append(j.name.strftime(\"%Y.%m.%d\"))\n"
   ]
  },
  {
   "cell_type": "code",
   "execution_count": 11,
   "metadata": {},
   "outputs": [],
   "source": [
    "#각 크롤링 결과 저장하기 위한 리스트 선언 \n",
    "title_text=[]\n",
    "link_text=[]\n",
    "source_text=[]\n",
    "date_text=[]\n",
    "contents_text=[]\n",
    "result_news = []\n",
    "\n",
    "#엑셀로 저장하기 위한 변수\n",
    "RESULT_PATH ='\"/Users/bumseok/workspace/capstone-2022-07/model\"'  #결과 저장할 경로\n",
    "now = datetime.datetime.now() #파일이름 현 시간으로 저장하기\n",
    "\n",
    "headers = {'user-agent': 'Mozilla/5.0 (Windows NT 10.0; Win64; x64) AppleWebKit/537.36 (KHTML, like Gecko) Chrome/79.0.3945.130 Safari/537.36'}\n",
    "\n",
    "\n",
    "#날짜 정제화 함수\n",
    "def date_cleansing(test):\n",
    "    try:\n",
    "        #지난 뉴스\n",
    "        #머니투데이  10면1단  2018.11.05.  네이버뉴스   보내기  \n",
    "        pattern = '\\d+.(\\d+).(\\d+).'  #정규표현식 \n",
    "    \n",
    "        r = re.compile(pattern)\n",
    "        match = r.search(test).group(0)  # 2018.11.05.\n",
    "        date_text.append(match)\n",
    "        \n",
    "    except AttributeError:\n",
    "        #최근 뉴스\n",
    "        #이데일리  1시간 전  네이버뉴스   보내기  \n",
    "        pattern = '\\w* (\\d\\w*)'     #정규표현식 \n",
    "        \n",
    "        r = re.compile(pattern)\n",
    "        match = r.search(test).group(1)\n",
    "        #print(match)\n",
    "        date_text.append(match)\n",
    "\n",
    "\n",
    "#내용 정제화 함수 \n",
    "def contents_cleansing(contents):\n",
    "    first_cleansing_contents = re.sub('<dl>.*?</a> </div> </dd> <dd>', '', \n",
    "                                      str(contents)).strip()  #앞에 필요없는 부분 제거\n",
    "    second_cleansing_contents = re.sub('<ul class=\"relation_lst\">.*?</dd>', '', \n",
    "                                       first_cleansing_contents).strip()#뒤에 필요없는 부분 제거 (새끼 기사)\n",
    "    third_cleansing_contents = re.sub('<.+?>', '', second_cleansing_contents).strip()\n",
    "    contents_text.append(third_cleansing_contents)\n",
    "    #print(contents_text)\n",
    "    \n",
    "        \n",
    "def crawler(maxpage,query,sort,s_date,e_date):\n",
    "    \n",
    "    s_from = s_date.replace(\".\",\"\")\n",
    "    e_to = e_date.replace(\".\",\"\")\n",
    "    page = 1  \n",
    "    maxpage_t =(int(maxpage)-1)*10+1   # 11= 2페이지 21=3페이지 31=4페이지  ...81=9페이지 , 91=10페이지, 101=11페이지\n",
    "    result = {}\n",
    "    \n",
    "    while page <= maxpage_t:\n",
    "        url = \"https://search.naver.com/search.naver?where=news&sm=tab_pge&query=\" + query + \"&sort=\"+sort+\"&ds=\" + s_date + \"&de=\" + e_date + \"&nso=so%3Ar%2Cp%3Afrom\" + s_from + \"to\" + e_to + \"%2Ca%3A&start=\" + str(page)\n",
    "        \n",
    "        response = requests.get(url, headers=headers)\n",
    "        html = response.text\n",
    " \n",
    "        #뷰티풀소프의 인자값 지정\n",
    "        soup = BeautifulSoup(html, 'html.parser')\n",
    " \n",
    "        #<a>태그에서 제목과 링크주소 추출\n",
    "        atags = soup.select('.news_tit')\n",
    "        for atag in atags:\n",
    "            link_text.append(atag['href'])   #링크주소\n",
    "        \n",
    "        page += 10"
   ]
  },
  {
   "cell_type": "code",
   "execution_count": 13,
   "metadata": {},
   "outputs": [
    {
     "name": "stderr",
     "output_type": "stream",
     "text": [
      "100%|██████████| 200/200 [00:01<00:00, 151.79it/s]\n",
      "100%|██████████| 200/200 [00:00<00:00, 1149124.38it/s]\n"
     ]
    }
   ],
   "source": [
    "# 크롤러 실행 코드, 크롤링 페이지 조절\n",
    "\n",
    "for i in tqdm(first):\n",
    "    if len(i[\"date\"]) == 0:\n",
    "        continue\n",
    "    for j in i[\"date\"]:\n",
    "        crawler(3, i[\"stockName\"], \"0\", j, j)\n",
    "\n",
    "        \n",
    "for i in tqdm(last):\n",
    "    if len(i[\"date\"]) == 0:\n",
    "        continue\n",
    "    for j in i[\"date\"]:\n",
    "        crawler(3, i[\"stockName\"], \"0\", j, j)"
   ]
  },
  {
   "cell_type": "code",
   "execution_count": 14,
   "metadata": {},
   "outputs": [
    {
     "name": "stdout",
     "output_type": "stream",
     "text": [
      "60\n"
     ]
    }
   ],
   "source": [
    "print(len(link_text))"
   ]
  },
  {
   "cell_type": "code",
   "execution_count": 15,
   "metadata": {},
   "outputs": [
    {
     "name": "stderr",
     "output_type": "stream",
     "text": [
      "100%|██████████| 60/60 [00:12<00:00,  4.97it/s]\n"
     ]
    }
   ],
   "source": [
    "# 뉴스 상세 정보 가져오기\n",
    "\n",
    "news_list = []\n",
    "\n",
    "def getNews(url):\n",
    "    article = Article(url, encoding=\"CP949\")\n",
    "    article.download()\n",
    "    try:\n",
    "        article.parse()\n",
    "        if article.text == \"\" or article.title == \"\" or article.publish_date is None or article.url == \"\":\n",
    "            return\n",
    "        news_list.append({\"title\": article.title, \"content\": article.text, \"time\": article.publish_date.strftime(\"%Y-%m-%d\"), \"url\": article.url})\n",
    "    except:\n",
    "        return\n",
    "    \n",
    "            \n",
    "pool = ThreadPool(10)\n",
    "\n",
    "for _ in tqdm(pool.imap_unordered(getNews, link_text), total=len(link_text)):\n",
    "    pass\n",
    "\n",
    "pool.close() \n",
    "pool.join()"
   ]
  },
  {
   "cell_type": "code",
   "execution_count": 16,
   "metadata": {},
   "outputs": [],
   "source": [
    "# 저장된 csv -> 엑셀 실행 후 데이터 탭 -> 데이터 가져오기 -> 텍스트/CSV -> 유니코드 실행 후 엑셀 저장\n",
    "\n",
    "link_df = pd.DataFrame(news_list, columns=[\"title\", \"content\", \"date\", \"url\"])\n",
    "link_df.to_csv(\"plusnews.csv\")\n",
    "\n",
    "# 엑셀 저장까지 했으면 밑에서부터 수정 가능"
   ]
  },
  {
   "cell_type": "code",
   "execution_count": null,
   "metadata": {},
   "outputs": [],
   "source": []
  }
 ],
 "metadata": {
  "interpreter": {
   "hash": "aee8b7b246df8f9039afb4144a1f6fd8d2ca17a180786b69acc140d282b71a49"
  },
  "kernelspec": {
   "display_name": "Python 3.10.1 64-bit",
   "language": "python",
   "name": "python3"
  },
  "language_info": {
   "codemirror_mode": {
    "name": "ipython",
    "version": 3
   },
   "file_extension": ".py",
   "mimetype": "text/x-python",
   "name": "python",
   "nbconvert_exporter": "python",
   "pygments_lexer": "ipython3",
   "version": "3.10.1"
  },
  "orig_nbformat": 4
 },
 "nbformat": 4,
 "nbformat_minor": 2
}
