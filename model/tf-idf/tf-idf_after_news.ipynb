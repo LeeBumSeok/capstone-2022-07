{
 "cells": [
  {
   "cell_type": "code",
   "execution_count": null,
   "metadata": {},
   "outputs": [],
   "source": [
    "import pandas as pd\n",
    "from sklearn.feature_extraction.text import TfidfVectorizer\n",
    "from tqdm import tqdm\n",
    "from konlpy.tag import Okt\n",
    "from multiprocessing.dummy import Pool as ThreadPool\n",
    "import re\n",
    "import csv\n",
    "import numpy as np"
   ]
  },
  {
   "cell_type": "code",
   "execution_count": null,
   "metadata": {},
   "outputs": [],
   "source": [
    "df = pd.read_excel(\"plutnews.xlsx\")\n",
    "df = df.fillna('')\n",
    "title = df[\"title\"].tolist()\n",
    "content = df[\"content\"].tolist()\n",
    "\n",
    "docs = title + content"
   ]
  },
  {
   "cell_type": "code",
   "execution_count": null,
   "metadata": {},
   "outputs": [],
   "source": [
    "JVM_PATH = \"/Library/Java/JavaVirtualMachines/zulu-15.jdk/Contents/Home/bin/java\"\n",
    "okt = Okt(jvmpath=JVM_PATH)\n",
    "stopwords = ['의','가','이','은','들','는','좀','잘','걍','과','도','를','으로','자','에','와','한','하다', ',']\n",
    "X_train = []\n",
    "\n",
    "def clean_sentence(sentence):\n",
    "  temp_X = []\n",
    "  temp_X = re.sub('[-=+,#/\\?:^.@*\\\"※~ㆍ!』‘|\\(\\)\\[\\]`\\'…》\\”\\“\\’·]', ' ', sentence)\n",
    "  temp_X = re.sub(r'[0-9]', \"\", temp_X)\n",
    "  temp_X = okt.morphs(sentence, stem=True) # 토큰화\n",
    "  temp_X = [word for word in temp_X if not word in stopwords] # 불용어 제거\n",
    "  temp_X = \" \".join(temp_X)\n",
    "  X_train.append(temp_X)\n",
    "  \n",
    "  \n",
    "pool = ThreadPool(10)\n",
    "\n",
    "for _ in tqdm(pool.imap_unordered(clean_sentence, docs), total=len(docs)):\n",
    "    pass\n",
    "\n",
    "pool.close() \n",
    "pool.join()"
   ]
  },
  {
   "cell_type": "code",
   "execution_count": null,
   "metadata": {},
   "outputs": [],
   "source": [
    "tfidf_vectorizer=TfidfVectorizer(use_idf=True)\n",
    "tfidf_vectorizer_vectors=tfidf_vectorizer.fit_transform(X_train)\n",
    "\n",
    "tfidf = tfidf_vectorizer_vectors.todense()\n",
    "tfidf[tfidf == 0] = np.nan\n",
    "means = np.nanmean(tfidf, axis=0)\n",
    "means = dict(zip(tfidf_vectorizer.get_feature_names(), means.tolist()[0]))\n",
    "\n",
    "tfidf = tfidf_vectorizer_vectors.todense()\n",
    "ordered = np.argsort(tfidf*-1)\n",
    "words = tfidf_vectorizer.get_feature_names()\n",
    "\n",
    "result = {}\n",
    "\n",
    "# [t for range(len(words)) in tqdm(enumerate(X_train)) for t in range(len(words))]\n",
    "\n",
    "for i, doc in tqdm(enumerate(X_train)):\n",
    "    for t in range(len(words)):\n",
    "        result[words[ordered[i,t]]] = means[words[ordered[i,t]]]\n",
    "\n",
    "with open('plus-tf-idf.csv', 'w') as csv_file:  \n",
    "    writer = csv.writer(csv_file)\n",
    "    for key, value in result.items():\n",
    "       writer.writerow([key, value])\n",
    "\n",
    "# open\n",
    "# with open('dict.csv') as csv_file:\n",
    "#     reader = csv.reader(csv_file)\n",
    "#     mydict = dict(reader)"
   ]
  },
  {
   "cell_type": "code",
   "execution_count": null,
   "metadata": {},
   "outputs": [],
   "source": []
  }
 ],
 "metadata": {
  "interpreter": {
   "hash": "c9233bf8462f2b21d6ce3aafae93626af35401e6c5cfde64bb988f91ecd7e1d6"
  },
  "kernelspec": {
   "display_name": "Python 3.8.13 ('capstone')",
   "language": "python",
   "name": "python3"
  },
  "language_info": {
   "codemirror_mode": {
    "name": "ipython",
    "version": 3
   },
   "file_extension": ".py",
   "mimetype": "text/x-python",
   "name": "python",
   "nbconvert_exporter": "python",
   "pygments_lexer": "ipython3",
   "version": "3.8.13"
  },
  "orig_nbformat": 4
 },
 "nbformat": 4,
 "nbformat_minor": 2
}
