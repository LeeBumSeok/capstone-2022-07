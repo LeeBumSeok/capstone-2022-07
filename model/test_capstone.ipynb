{
  "nbformat": 4,
  "nbformat_minor": 0,
  "metadata": {
    "colab": {
      "name": "test_capstone.ipynb",
      "provenance": [],
      "collapsed_sections": []
    },
    "kernelspec": {
      "name": "python3",
      "display_name": "Python 3"
    },
    "language_info": {
      "name": "python"
    }
  },
  "cells": [
    {
      "cell_type": "code",
      "source": [
        "!pip install yfinance\n",
        "!pip install konlpy\n",
        "!pip install exchange_calendars\n",
        "!pip install schedule"
      ],
      "metadata": {
        "colab": {
          "base_uri": "https://localhost:8080/"
        },
        "id": "9UEK3L_l_SzY",
        "outputId": "9599b062-9501-425a-cc9b-5bd1a972516a"
      },
      "execution_count": 11,
      "outputs": [
        {
          "output_type": "stream",
          "name": "stdout",
          "text": [
            "Requirement already satisfied: yfinance in /usr/local/lib/python3.7/dist-packages (0.1.70)\n",
            "Requirement already satisfied: pandas>=0.24.0 in /usr/local/lib/python3.7/dist-packages (from yfinance) (1.3.5)\n",
            "Requirement already satisfied: lxml>=4.5.1 in /usr/local/lib/python3.7/dist-packages (from yfinance) (4.8.0)\n",
            "Requirement already satisfied: requests>=2.26 in /usr/local/lib/python3.7/dist-packages (from yfinance) (2.27.1)\n",
            "Requirement already satisfied: multitasking>=0.0.7 in /usr/local/lib/python3.7/dist-packages (from yfinance) (0.0.10)\n",
            "Requirement already satisfied: numpy>=1.15 in /usr/local/lib/python3.7/dist-packages (from yfinance) (1.21.6)\n",
            "Requirement already satisfied: python-dateutil>=2.7.3 in /usr/local/lib/python3.7/dist-packages (from pandas>=0.24.0->yfinance) (2.8.2)\n",
            "Requirement already satisfied: pytz>=2017.3 in /usr/local/lib/python3.7/dist-packages (from pandas>=0.24.0->yfinance) (2022.1)\n",
            "Requirement already satisfied: six>=1.5 in /usr/local/lib/python3.7/dist-packages (from python-dateutil>=2.7.3->pandas>=0.24.0->yfinance) (1.15.0)\n",
            "Requirement already satisfied: certifi>=2017.4.17 in /usr/local/lib/python3.7/dist-packages (from requests>=2.26->yfinance) (2021.10.8)\n",
            "Requirement already satisfied: idna<4,>=2.5 in /usr/local/lib/python3.7/dist-packages (from requests>=2.26->yfinance) (2.10)\n",
            "Requirement already satisfied: urllib3<1.27,>=1.21.1 in /usr/local/lib/python3.7/dist-packages (from requests>=2.26->yfinance) (1.24.3)\n",
            "Requirement already satisfied: charset-normalizer~=2.0.0 in /usr/local/lib/python3.7/dist-packages (from requests>=2.26->yfinance) (2.0.12)\n",
            "Requirement already satisfied: konlpy in /usr/local/lib/python3.7/dist-packages (0.6.0)\n",
            "Requirement already satisfied: lxml>=4.1.0 in /usr/local/lib/python3.7/dist-packages (from konlpy) (4.8.0)\n",
            "Requirement already satisfied: JPype1>=0.7.0 in /usr/local/lib/python3.7/dist-packages (from konlpy) (1.3.0)\n",
            "Requirement already satisfied: numpy>=1.6 in /usr/local/lib/python3.7/dist-packages (from konlpy) (1.21.6)\n",
            "Requirement already satisfied: typing-extensions in /usr/local/lib/python3.7/dist-packages (from JPype1>=0.7.0->konlpy) (4.2.0)\n",
            "Requirement already satisfied: exchange_calendars in /usr/local/lib/python3.7/dist-packages (3.6.1)\n",
            "Requirement already satisfied: python-dateutil in /usr/local/lib/python3.7/dist-packages (from exchange_calendars) (2.8.2)\n",
            "Requirement already satisfied: korean-lunar-calendar in /usr/local/lib/python3.7/dist-packages (from exchange_calendars) (0.2.1)\n",
            "Requirement already satisfied: pandas>=1.1 in /usr/local/lib/python3.7/dist-packages (from exchange_calendars) (1.3.5)\n",
            "Requirement already satisfied: toolz in /usr/local/lib/python3.7/dist-packages (from exchange_calendars) (0.11.2)\n",
            "Requirement already satisfied: numpy in /usr/local/lib/python3.7/dist-packages (from exchange_calendars) (1.21.6)\n",
            "Requirement already satisfied: pyluach in /usr/local/lib/python3.7/dist-packages (from exchange_calendars) (1.4.1)\n",
            "Requirement already satisfied: pytz in /usr/local/lib/python3.7/dist-packages (from exchange_calendars) (2022.1)\n",
            "Requirement already satisfied: six>=1.5 in /usr/local/lib/python3.7/dist-packages (from python-dateutil->exchange_calendars) (1.15.0)\n",
            "Collecting schedule\n",
            "  Downloading schedule-1.1.0-py2.py3-none-any.whl (10 kB)\n",
            "Installing collected packages: schedule\n",
            "Successfully installed schedule-1.1.0\n"
          ]
        }
      ]
    },
    {
      "cell_type": "code",
      "source": [
        "# -*- coding: utf-8 -*-\n",
        "### import ###\n",
        "import requests\n",
        "import pandas as pd\n",
        "import math\n",
        "from tqdm import tqdm\n",
        "import yfinance as yf\n",
        "import exchange_calendars as ecals\n",
        "\n",
        "from bs4 import BeautifulSoup\n",
        "import re\n",
        "import time\n",
        "import itertools\n",
        "import csv\n",
        "import datetime\n",
        "import schedule\n",
        "import konlpy\n",
        "from konlpy.tag import Okt\n",
        "import numpy as np\n",
        "from tqdm import tqdm\n",
        "from keras.layers import Embedding, Dense, LSTM\n",
        "from keras.models import Sequential\n",
        "from keras.preprocessing.sequence import pad_sequences\n",
        "from keras.preprocessing.text import Tokenizer\n",
        "\n",
        "import firebase_admin\n",
        "from firebase_admin import credentials\n",
        "from firebase_admin import firestore\n",
        "from firebase_admin import db"
      ],
      "metadata": {
        "id": "guJEXQT4CE7q"
      },
      "execution_count": 12,
      "outputs": []
    },
    {
      "cell_type": "code",
      "execution_count": 13,
      "metadata": {
        "colab": {
          "base_uri": "https://localhost:8080/"
        },
        "id": "z5rr7yFWy6kH",
        "outputId": "c72d9d47-c60b-439b-e9c0-c545b80585dd"
      },
      "outputs": [
        {
          "output_type": "stream",
          "name": "stdout",
          "text": [
            "Epoch 1/10\n",
            "504/504 [==============================] - 21s 38ms/step - loss: 0.5397 - accuracy: 0.7820 - val_loss: 0.2693 - val_accuracy: 0.9231\n",
            "Epoch 2/10\n",
            "504/504 [==============================] - 18s 36ms/step - loss: 0.0778 - accuracy: 0.9761 - val_loss: 0.2500 - val_accuracy: 0.9428\n",
            "Epoch 3/10\n",
            "504/504 [==============================] - 18s 36ms/step - loss: 0.0090 - accuracy: 0.9976 - val_loss: 0.3550 - val_accuracy: 0.9267\n",
            "Epoch 4/10\n",
            "504/504 [==============================] - 18s 35ms/step - loss: 0.0030 - accuracy: 0.9996 - val_loss: 0.8873 - val_accuracy: 0.8712\n",
            "Epoch 5/10\n",
            "504/504 [==============================] - 18s 35ms/step - loss: 0.0084 - accuracy: 0.9986 - val_loss: 0.3360 - val_accuracy: 0.9392\n",
            "Epoch 6/10\n",
            "504/504 [==============================] - 18s 36ms/step - loss: 2.3845e-04 - accuracy: 1.0000 - val_loss: 0.3759 - val_accuracy: 0.9428\n",
            "Epoch 7/10\n",
            "504/504 [==============================] - 17s 35ms/step - loss: 6.9555e-05 - accuracy: 1.0000 - val_loss: 0.4029 - val_accuracy: 0.9428\n",
            "Epoch 8/10\n",
            "504/504 [==============================] - 17s 35ms/step - loss: 4.2487e-05 - accuracy: 1.0000 - val_loss: 0.4213 - val_accuracy: 0.9445\n",
            "Epoch 9/10\n",
            "504/504 [==============================] - 18s 35ms/step - loss: 2.8286e-05 - accuracy: 1.0000 - val_loss: 0.4420 - val_accuracy: 0.9445\n",
            "Epoch 10/10\n",
            "504/504 [==============================] - 18s 35ms/step - loss: 1.9409e-05 - accuracy: 1.0000 - val_loss: 0.4611 - val_accuracy: 0.9428\n"
          ]
        }
      ],
      "source": [
        "### 모델 학습코드 ###\n",
        "train_data = pd.read_csv(\"./train.csv\")\n",
        "\n",
        "stopwords = ['의','가','이','은','들','는','좀','잘','걍','과','도','를','으로','자','에','와','한','하다']\n",
        "\n",
        "okt = Okt()\n",
        "X_train = []\n",
        "for sentence in train_data['title']:\n",
        "  temp_X =[]\n",
        "  temp_X = okt.morphs(str(sentence), stem=True) #토큰화\n",
        "  temp_X = [word for word in temp_X if not word in stopwords] #안쓰는 말 제거\n",
        "  X_train.append(temp_X)\n",
        "  \n",
        "max_words = 35000\n",
        "tokenizer = Tokenizer(num_words = max_words)\n",
        "tokenizer.fit_on_texts(X_train)\n",
        "X_train = tokenizer.texts_to_sequences(X_train)\n",
        "\n",
        "y_train = []\n",
        "for i in range(len(train_data['label'])):\n",
        "  if train_data['label'].iloc[i]==1:\n",
        "    y_train.append([0,0,1])\n",
        "  elif train_data['label'].iloc[i]==0:\n",
        "     y_train.append([0,1,0]) \n",
        "  elif train_data['label'].iloc[i]== -1:\n",
        "     y_train.append([1,0,0])\n",
        "y_train = np.array(y_train) \n",
        "\n",
        "max_len = 20\n",
        "X_train = pad_sequences(X_train, maxlen=max_len)\n",
        "model = Sequential()\n",
        "model.add(Embedding(max_words, 100))\n",
        "model.add(LSTM(128))\n",
        "model.add(Dense(3, activation = 'softmax'))\n",
        "model.compile(optimizer='adam', loss='categorical_crossentropy', metrics = ['accuracy'])\n",
        "history = model.fit(X_train, y_train, epochs=10, batch_size=10, validation_split=0.1)"
      ]
    },
    {
      "cell_type": "code",
      "source": [
        "### 파이어베이스 연동 ###\n",
        "if not firebase_admin._apps:\n",
        "    cred = credentials.Certificate('./firebase_key.json')\n",
        "    default_app = firebase_admin.initialize_app(cred)\n",
        "\n",
        "db = firestore.client()"
      ],
      "metadata": {
        "id": "r-eWdiP8GtKq"
      },
      "execution_count": 14,
      "outputs": []
    },
    {
      "cell_type": "code",
      "source": [
        "# 1번 실행\n",
        "### 날짜 반영 ###\n",
        "# 만약 장중이 아니면 어제, 그저께로 쿼링해야 값들 가져올 수 있음\n",
        "# 장중이면 오늘, 어제로 쿼링해야 실시간 반영 가능\n",
        "XKRX = ecals.get_calendar(\"XKRX\") # 한국 코드\n",
        "\n",
        "current = datetime.datetime.now()\n",
        "corr_current = current - datetime.timedelta(hours=9)\n",
        "\n",
        "if(XKRX.is_trading_minute(corr_current.strftime(\"%Y-%m-%d %H:%M\"))):\n",
        "    previous = datetime.date.today().strftime(\"%Y-%m-%d\")\n",
        "    time_previous = datetime.date.today().strftime(\"%Y-%m-%d %H:%M\")\n",
        "    pre_previous = XKRX.previous_session(previous).strftime(\"%Y-%m-%d\")\n",
        "else:\n",
        "    previous = XKRX.previous_minute(corr_current.strftime(\"%Y-%m-%d %H:%M\")).strftime(\"%Y-%m-%d\")\n",
        "    time_previous = XKRX.previous_minute(corr_current.strftime(\"%Y-%m-%d %H:%M\")) + datetime.timedelta(hours=9)\n",
        "    pre_previous = XKRX.previous_session(previous).strftime(\"%Y-%m-%d\")\n",
        "    time_previous = str(time_previous.strftime(\"%Y-%m-%d %H:%M\"))"
      ],
      "metadata": {
        "id": "WClBNek8CkCA"
      },
      "execution_count": 15,
      "outputs": []
    },
    {
      "cell_type": "code",
      "source": [
        "# 1번 실행\n",
        "# 주식 이름, 주식 코드, 시가총액 가져오는 함수\n",
        "# 공공데이터포털 - 금융위원회_주식시세정보 api 켜야함\n",
        "\n",
        "# 공공데이터포털 api 주소(Without param)\n",
        "api_service_key_stock = [\n",
        "    \"RXhGWArdgsytKaKf0g%2FWxNuo27wXxg4iChLUs9ePc39VvneddFbQ9v9ZXCDWJkdFbhqCvbw9kdMGy%2F%2Bv3it50A%3D%3D\",\n",
        "    \"bqvyeN8k%2B8%2BfRLf7p4CNQsUIEL%2BRb4b2YR08MD10RDv3BxHugq6bR1wFEAo8hTau3XgiLcA7bEBoclnMdyBfNQ%3D%3D\",\n",
        "    \"zUgkw3obrruAXAW6kZrJnIpK8UUBIrwXrfroSgoDS7NUlSB%2BDz94OTIkkWeP0V%2BzOz81JVtW84bqh1y0HpzcUg%3D%3D\",\n",
        "    \"w9Ra19Zqn3%2BLgg2zHoRiZa8zZPdSCXSgFgrgFGUkaYqqQRD6BVKMsUgiRyJqeEuG1pQ86vSioq03IRarAve7sg%3D%3D\",\n",
        "]  # service api key\n",
        "\n",
        "code_list = []\n",
        "\n",
        "# 종목 이름 가져오는 코드\n",
        "def getStockCode(market, code_list):\n",
        "    \"\"\"\n",
        "    market: 상장구분 (11=유가증권, 12=코스닥, 13=K-OTC, 14=코넥스, 50=기타비상장)\n",
        "    \"\"\"\n",
        "    url = f\"https://api.odcloud.kr/api/GetStockSecuritiesInfoService/v1/getStockPriceInfo?\"\n",
        "    stock_code = 0\n",
        "    while True:\n",
        "        api_decode_key_stock = requests.utils.unquote(\n",
        "            api_service_key_stock[stock_code], encoding=\"utf-8\"\n",
        "        )\n",
        "\n",
        "        params = {\n",
        "            \"serviceKey\": api_decode_key_stock,\n",
        "            \"mrktCls\": market,\n",
        "            \"numOfRows\": 1000,\n",
        "            \"beginBasDt\":pre_previous.replace(\"-\", \"\")\n",
        "        }\n",
        "\n",
        "        response = requests.get(url, params=params)\n",
        "        if(response.status_code != 200):\n",
        "            print(response.status_code)\n",
        "            stock_code += 1\n",
        "            continue\n",
        "        xml = BeautifulSoup(response.text, \"lxml\")\n",
        "        items = xml.find(\"items\")\n",
        "        item_list = []\n",
        "        for item in items:\n",
        "            try:\n",
        "                item_dict = {\n",
        "                    \"stockName\": item.find(\"itmsnm\").text.strip(),\n",
        "                    \"stockCode\": item.find(\"srtncd\").text.strip(),\n",
        "                    \"marketCap\": item.find(\"mrkttotamt\").text.strip(),\n",
        "                }\n",
        "                code_list.append(item.find(\"srtncd\").text.strip() + \".KS\")\n",
        "            except AttributeError:\n",
        "                continue\n",
        "            item_list.append(item_dict)\n",
        "\n",
        "        return item_list\n",
        "\n",
        "# 기사 제목 전처리 함수\n",
        "def text_clean(inputString):\n",
        "    # inputString = inputString.replace(\"<b>\",\"\").replace(\"</b>\",\"\") # html 태그 제거  ## <b> <b/>\n",
        "    inputString = re.sub(r'\\<[^)]*\\>', '', inputString, 0).strip() # <> 안의 내용 제거  ## html태그 + 종목명\n",
        "    inputString = re.sub('[-=+,#/\\?:^.@*\\\"※~ㆍ!』‘|\\(\\)\\[\\]`\\'…》\\”\\“\\’·]', ' ', inputString) # 특수문자 제거\n",
        "    inputString = inputString.replace(\"&quot;\",\" \").replace(\"amp;\",\"\").replace(\"&gt; \",\" \").replace(\"&lt;\",\" \")\n",
        "    inputString = ' '.join(inputString.split())\n",
        "    \n",
        "    return inputString\n",
        "\n",
        "# 기사 날짜 전처리 함수\n",
        "def formatting_date(date):\n",
        "    format ='%a, %d %b %Y %H:%M:%S %z'\n",
        "    date = datetime.datetime.strptime(date, format) # str to datetime\n",
        "    date = date.strftime(\"%Y-%m-%d %H:%M:%S\") # changing datetime format\n",
        "    \n",
        "    return date\n",
        "\n",
        "# Naver client key\n",
        "# client_id= \"4NnYXQRzNVwTEO2_rwpd\"\n",
        "# client_secret = \"mZP8JBDOBK\"\n",
        "\n",
        "# Naver clint key by sj\n",
        "client_id = \"8Sbpzhlz4LPc0MPsiaOO\"\n",
        "client_secret = \"HPqxX8HZfG\"\n",
        "\n",
        "# 네이버 api 함수\n",
        "def api_search(tuple_list, stock):\n",
        "    print(\"api_search  \",stock)\n",
        "    url = 'https://openapi.naver.com/v1/search/news.json' \n",
        "    header = {'X-Naver-Client-Id':client_id, 'X-Naver-Client-Secret':client_secret} \n",
        "    param = {'query':stock, 'display':1, 'start':1, 'sort':'date'} \n",
        "    # query     : 검색할 단어\n",
        "    # display   : 검색 출력 건수 (기본 10 / 최대 100)\n",
        "    # start     : 검색 시작 위치 (기본 1  / 최대 1000)\n",
        "    # sort      : 정렬순서      (기본 sim : 유사도 / date : 날짜)\n",
        "    res = requests.get(url, params=param, headers=header)\n",
        "\n",
        "    pov_or_neg = 0 #긍부정 라벨링 값\n",
        "\n",
        "    if res.status_code == 200:\n",
        "        temp = res.json()\n",
        "\n",
        "        # for index, item in enumerate(temp['items']):\n",
        "        #     print(index+1, item['title'], item['link'], item['description'],item['pubDate'])\n",
        "\n",
        "        # TODO\n",
        "        for dict in temp['items']:\n",
        "            title  = text_clean(dict['title'])\n",
        "\n",
        "            #학습데이터를 통해서 라벨링\n",
        "            X_test=[]\n",
        "            temp_X = okt.morphs(str(title), stem=True) #토큰화\n",
        "            temp_X = [word for word in temp_X if not word in stopwords] #안쓰는 말 제거\n",
        "            X_test.append(temp_X)\n",
        "            X_test = tokenizer.texts_to_sequences(X_test)\n",
        "            predict= model.predict(X_test)\n",
        "            \n",
        "            # 호악재 예측값 저장\n",
        "            pov_or_neg = np.argmax(predict,axis=1)[0]\n",
        "\n",
        "            date = formatting_date(dict['pubDate'])\n",
        "\n",
        "\n",
        "            # 쿼링 코드\n",
        "            #\n",
        "            # 마지막 temp3 부분을 올라갈 문서의 제목으로 바꿔야함.\n",
        "            news_temp = db.collection(u'test_승준').document(stock).collection(u'news').document(u'temp3')\n",
        "            news_temp.set({\n",
        "                u'date': date,\n",
        "                u'title': dict['title'],\n",
        "                u'label': str(pov_or_neg),\n",
        "                u'url': str(dict['originallink'])\n",
        "            })\n",
        "\n",
        "            tuple_list.append((stock ,title ,dict['originallink'] ,date ,pov_or_neg))\n",
        "                # print(stock ,title ,dict['originallink'] ,date ,pov_or_neg)\n",
        "    else:\n",
        "        print(\"Error Code:\" + str(res.status_code)+\" Stock name is \"+ str(stock))\n",
        "\n",
        "\n",
        "# 종목들 전역변수로 가져오기\n",
        "company=[]\n",
        "def get_companylist():\n",
        "    item_list = getStockCode(\"KOSPI\", code_list)\n",
        "    item_list.append({\n",
        "        \"stockName\": \"코스피\",\n",
        "        \"stockCode\": \"^KS11\",\n",
        "        \"marketCap\": 0,\n",
        "        \"updatedTime\" : time_previous,\n",
        "        })\n",
        "    item_list.append({\n",
        "        \"stockName\": \"코스닥\",\n",
        "        \"stockCode\": \"^KQ11\",\n",
        "        \"marketCap\": 0,\n",
        "    })\n",
        "    code_list.append(\"^KS11\")\n",
        "    code_list.append(\"^KQ11\")\n",
        "    global company\n",
        "    company=item_list\n",
        "    #company = list(itertools.chain.from_iterable(item_list))\n",
        "\n",
        "\n",
        "def run(reset):\n",
        "        # 계산된 횟수만 실행\n",
        "        print(\"run\")\n",
        "        while reset:\n",
        "            print(\"남은횟수: \", reset)\n",
        "            start = time.time()\n",
        "            tuple_list=[]\n",
        "            tuple_list.append((\"stock\" ,\"title\" ,\"url\" ,\"date\" ,\"pov_or_neg\"))\n",
        "\n",
        "            for stock in tqdm(company):\n",
        "                api_search(tuple_list, stock[\"stockName\"])\n",
        "\n",
        "            # 쿼링 포함 15분 제한\n",
        "            end = time.time()\n",
        "            print(end-start)\n",
        "            rest_time = 900 - (end-start)\n",
        "            time.sleep(rest_time) \n",
        "\n",
        "            reset -= 1\n",
        "\n",
        "\n",
        "    # #tuple to csv 저장\n",
        "    # with open('news.csv', 'w') as f:\n",
        "    #     writer = csv.writer(f , lineterminator='\\n')\n",
        "    #     for tup in tuple_list:\n",
        "    #         writer.writerow(tup)\n",
        "\n",
        "\n",
        "# 8시 20분에 주식가져옴\n",
        "schedule.every().day.at(\"08:20\").do(get_companylist)\n",
        "# 8시 30분에 코드 실행\n",
        "schedule.every().day.at(\"08:30\").do(run)\n",
        "\n",
        "\n",
        "\n",
        "#시간제한없는거랑\n",
        "#중복제거\n",
        "#어떤 형식으로 나오는지 csv만들고\n",
        "#쿼링\n",
        "get_companylist()"
      ],
      "metadata": {
        "id": "9CyDhWWR6p_c"
      },
      "execution_count": 24,
      "outputs": []
    },
    {
      "cell_type": "code",
      "source": [
        "company=[]\n",
        "code_list = []\n",
        "get_companylist()\n",
        "len(code_list)"
      ],
      "metadata": {
        "colab": {
          "base_uri": "https://localhost:8080/"
        },
        "id": "T22ts8vw6wAZ",
        "outputId": "7648362a-4550-40e7-dc7a-ae778f56189f"
      },
      "execution_count": 31,
      "outputs": [
        {
          "output_type": "execute_result",
          "data": {
            "text/plain": [
              "1002"
            ]
          },
          "metadata": {},
          "execution_count": 31
        }
      ]
    },
    {
      "cell_type": "code",
      "source": [
        "\n",
        "\n",
        "if __name__ == \"__main__\":\n",
        "    print(\"start\")\n",
        "    # 주식 종목을 global로 설정\n",
        "    get_companylist()\n",
        "    now = datetime.datetime.now()\n",
        "    time_now = datetime.timedelta(hours= now.hour , minutes=now.minute)\n",
        "    time_start = datetime.timedelta(hours= 8, minutes=30)\n",
        "    time_end = datetime.timedelta(hours= 17, minutes=30)\n",
        "\n",
        "    run_time = 1\n",
        "    run(run_time)\n"
      ],
      "metadata": {
        "colab": {
          "base_uri": "https://localhost:8080/",
          "height": 1000
        },
        "id": "bwqhQ2wtzks6",
        "outputId": "317fcc0c-37ff-46c2-8a44-981d0df3b3b5"
      },
      "execution_count": 26,
      "outputs": [
        {
          "output_type": "stream",
          "name": "stdout",
          "text": [
            "start\n",
            "run\n",
            "남은횟수:  1\n"
          ]
        },
        {
          "output_type": "stream",
          "name": "stderr",
          "text": [
            "\r  0%|          | 0/1002 [00:00<?, ?it/s]"
          ]
        },
        {
          "output_type": "stream",
          "name": "stdout",
          "text": [
            "api_search   동화약품\n"
          ]
        },
        {
          "output_type": "stream",
          "name": "stderr",
          "text": [
            "\r  0%|          | 1/1002 [00:02<34:35,  2.07s/it]"
          ]
        },
        {
          "output_type": "stream",
          "name": "stdout",
          "text": [
            "api_search   KR모터스\n"
          ]
        },
        {
          "output_type": "stream",
          "name": "stderr",
          "text": [
            "\r  0%|          | 2/1002 [00:03<27:32,  1.65s/it]"
          ]
        },
        {
          "output_type": "stream",
          "name": "stdout",
          "text": [
            "api_search   경방\n"
          ]
        },
        {
          "output_type": "stream",
          "name": "stderr",
          "text": [
            "\r  0%|          | 3/1002 [00:04<24:54,  1.50s/it]"
          ]
        },
        {
          "output_type": "stream",
          "name": "stdout",
          "text": [
            "api_search   메리츠화재\n"
          ]
        },
        {
          "output_type": "stream",
          "name": "stderr",
          "text": [
            "\r  0%|          | 4/1002 [00:06<24:14,  1.46s/it]"
          ]
        },
        {
          "output_type": "stream",
          "name": "stdout",
          "text": [
            "api_search   삼양홀딩스\n"
          ]
        },
        {
          "output_type": "stream",
          "name": "stderr",
          "text": [
            "\r  0%|          | 5/1002 [00:07<23:10,  1.39s/it]"
          ]
        },
        {
          "output_type": "stream",
          "name": "stdout",
          "text": [
            "api_search   삼양홀딩스우\n"
          ]
        },
        {
          "output_type": "stream",
          "name": "stderr",
          "text": [
            "\r  1%|          | 6/1002 [00:08<22:53,  1.38s/it]"
          ]
        },
        {
          "output_type": "stream",
          "name": "stdout",
          "text": [
            "api_search   하이트진로\n"
          ]
        },
        {
          "output_type": "stream",
          "name": "stderr",
          "text": [
            "\r  1%|          | 7/1002 [00:10<23:00,  1.39s/it]"
          ]
        },
        {
          "output_type": "stream",
          "name": "stdout",
          "text": [
            "api_search   하이트진로2우B\n"
          ]
        },
        {
          "output_type": "stream",
          "name": "stderr",
          "text": [
            "\r  1%|          | 8/1002 [00:11<22:50,  1.38s/it]"
          ]
        },
        {
          "output_type": "stream",
          "name": "stdout",
          "text": [
            "api_search   유한양행\n"
          ]
        },
        {
          "output_type": "stream",
          "name": "stderr",
          "text": [
            "\r  1%|          | 9/1002 [00:12<22:24,  1.35s/it]"
          ]
        },
        {
          "output_type": "stream",
          "name": "stdout",
          "text": [
            "api_search   유한양행우\n"
          ]
        },
        {
          "output_type": "stream",
          "name": "stderr",
          "text": [
            "\r  1%|          | 10/1002 [00:14<22:09,  1.34s/it]"
          ]
        },
        {
          "output_type": "stream",
          "name": "stdout",
          "text": [
            "api_search   CJ대한통운\n"
          ]
        },
        {
          "output_type": "stream",
          "name": "stderr",
          "text": [
            "\r  1%|          | 11/1002 [00:15<22:15,  1.35s/it]"
          ]
        },
        {
          "output_type": "stream",
          "name": "stdout",
          "text": [
            "api_search   하이트진로홀딩스\n"
          ]
        },
        {
          "output_type": "stream",
          "name": "stderr",
          "text": [
            "\r  1%|          | 12/1002 [00:16<21:59,  1.33s/it]"
          ]
        },
        {
          "output_type": "stream",
          "name": "stdout",
          "text": [
            "api_search   하이트진로홀딩스우\n"
          ]
        },
        {
          "output_type": "stream",
          "name": "stderr",
          "text": [
            "\r  1%|▏         | 13/1002 [00:18<22:22,  1.36s/it]"
          ]
        },
        {
          "output_type": "stream",
          "name": "stdout",
          "text": [
            "api_search   두산\n"
          ]
        },
        {
          "output_type": "stream",
          "name": "stderr",
          "text": [
            "\r  1%|▏         | 14/1002 [00:19<22:13,  1.35s/it]"
          ]
        },
        {
          "output_type": "stream",
          "name": "stdout",
          "text": [
            "api_search   두산우\n"
          ]
        },
        {
          "output_type": "stream",
          "name": "stderr",
          "text": [
            "\r  1%|▏         | 15/1002 [00:20<21:52,  1.33s/it]"
          ]
        },
        {
          "output_type": "stream",
          "name": "stdout",
          "text": [
            "api_search   두산2우B\n"
          ]
        },
        {
          "output_type": "stream",
          "name": "stderr",
          "text": [
            "\r  2%|▏         | 16/1002 [00:22<21:54,  1.33s/it]"
          ]
        },
        {
          "output_type": "stream",
          "name": "stdout",
          "text": [
            "api_search   성창기업지주\n"
          ]
        },
        {
          "output_type": "stream",
          "name": "stderr",
          "text": [
            "\r  2%|▏         | 17/1002 [00:23<22:58,  1.40s/it]"
          ]
        },
        {
          "output_type": "stream",
          "name": "stdout",
          "text": [
            "api_search   DL\n"
          ]
        },
        {
          "output_type": "stream",
          "name": "stderr",
          "text": [
            "\r  2%|▏         | 18/1002 [00:25<22:24,  1.37s/it]"
          ]
        },
        {
          "output_type": "stream",
          "name": "stdout",
          "text": [
            "api_search   DL우\n"
          ]
        },
        {
          "output_type": "stream",
          "name": "stderr",
          "text": [
            "\r  2%|▏         | 19/1002 [00:26<22:10,  1.35s/it]"
          ]
        },
        {
          "output_type": "stream",
          "name": "stdout",
          "text": [
            "api_search   유유제약\n"
          ]
        },
        {
          "output_type": "stream",
          "name": "stderr",
          "text": [
            "\r  2%|▏         | 20/1002 [00:27<22:13,  1.36s/it]"
          ]
        },
        {
          "output_type": "stream",
          "name": "stdout",
          "text": [
            "api_search   유유제약1우\n"
          ]
        },
        {
          "output_type": "stream",
          "name": "stderr",
          "text": [
            "\r  2%|▏         | 21/1002 [00:29<22:04,  1.35s/it]"
          ]
        },
        {
          "output_type": "stream",
          "name": "stdout",
          "text": [
            "api_search   유유제약2우B\n"
          ]
        },
        {
          "output_type": "stream",
          "name": "stderr",
          "text": [
            "\r  2%|▏         | 22/1002 [00:30<21:45,  1.33s/it]"
          ]
        },
        {
          "output_type": "stream",
          "name": "stdout",
          "text": [
            "api_search   일동홀딩스\n"
          ]
        },
        {
          "output_type": "stream",
          "name": "stderr",
          "text": [
            "\r  2%|▏         | 23/1002 [00:31<22:03,  1.35s/it]"
          ]
        },
        {
          "output_type": "stream",
          "name": "stdout",
          "text": [
            "api_search   한국앤컴퍼니\n"
          ]
        },
        {
          "output_type": "stream",
          "name": "stderr",
          "text": [
            "\r  2%|▏         | 24/1002 [00:33<22:09,  1.36s/it]"
          ]
        },
        {
          "output_type": "stream",
          "name": "stdout",
          "text": [
            "api_search   기아\n"
          ]
        },
        {
          "output_type": "stream",
          "name": "stderr",
          "text": [
            "\r  2%|▏         | 25/1002 [00:34<22:11,  1.36s/it]"
          ]
        },
        {
          "output_type": "stream",
          "name": "stdout",
          "text": [
            "api_search   대유플러스\n"
          ]
        },
        {
          "output_type": "stream",
          "name": "stderr",
          "text": [
            "\r  3%|▎         | 26/1002 [00:35<22:03,  1.36s/it]"
          ]
        },
        {
          "output_type": "stream",
          "name": "stdout",
          "text": [
            "api_search   노루홀딩스\n"
          ]
        },
        {
          "output_type": "stream",
          "name": "stderr",
          "text": [
            "\r  3%|▎         | 27/1002 [00:37<22:07,  1.36s/it]"
          ]
        },
        {
          "output_type": "stream",
          "name": "stdout",
          "text": [
            "api_search   노루홀딩스우\n"
          ]
        },
        {
          "output_type": "stream",
          "name": "stderr",
          "text": [
            "\r  3%|▎         | 28/1002 [00:38<21:52,  1.35s/it]"
          ]
        },
        {
          "output_type": "stream",
          "name": "stdout",
          "text": [
            "api_search   한화손해보험\n"
          ]
        },
        {
          "output_type": "stream",
          "name": "stderr",
          "text": [
            "\r  3%|▎         | 29/1002 [00:39<21:41,  1.34s/it]"
          ]
        },
        {
          "output_type": "stream",
          "name": "stdout",
          "text": [
            "api_search   삼화페인트\n"
          ]
        },
        {
          "output_type": "stream",
          "name": "stderr",
          "text": [
            "\r  3%|▎         | 30/1002 [00:41<21:27,  1.32s/it]"
          ]
        },
        {
          "output_type": "stream",
          "name": "stdout",
          "text": [
            "api_search   롯데손해보험\n"
          ]
        },
        {
          "output_type": "stream",
          "name": "stderr",
          "text": [
            "\r  3%|▎         | 31/1002 [00:42<21:27,  1.33s/it]"
          ]
        },
        {
          "output_type": "stream",
          "name": "stdout",
          "text": [
            "api_search   대원강업\n"
          ]
        },
        {
          "output_type": "stream",
          "name": "stderr",
          "text": [
            "\r  3%|▎         | 32/1002 [00:43<21:23,  1.32s/it]"
          ]
        },
        {
          "output_type": "stream",
          "name": "stdout",
          "text": [
            "api_search   조선내화\n"
          ]
        },
        {
          "output_type": "stream",
          "name": "stderr",
          "text": [
            "\r  3%|▎         | 33/1002 [00:45<21:16,  1.32s/it]"
          ]
        },
        {
          "output_type": "stream",
          "name": "stdout",
          "text": [
            "api_search   대동\n"
          ]
        },
        {
          "output_type": "stream",
          "name": "stderr",
          "text": [
            "\r  3%|▎         | 34/1002 [00:46<21:44,  1.35s/it]"
          ]
        },
        {
          "output_type": "stream",
          "name": "stdout",
          "text": [
            "api_search   가온전선\n"
          ]
        },
        {
          "output_type": "stream",
          "name": "stderr",
          "text": [
            "\r  3%|▎         | 35/1002 [00:47<21:20,  1.32s/it]"
          ]
        },
        {
          "output_type": "stream",
          "name": "stdout",
          "text": [
            "api_search   삼일제약\n"
          ]
        },
        {
          "output_type": "stream",
          "name": "stderr",
          "text": [
            "\r  4%|▎         | 36/1002 [00:49<21:28,  1.33s/it]"
          ]
        },
        {
          "output_type": "stream",
          "name": "stdout",
          "text": [
            "api_search   흥국화재\n"
          ]
        },
        {
          "output_type": "stream",
          "name": "stderr",
          "text": [
            "\r  4%|▎         | 37/1002 [00:50<21:32,  1.34s/it]"
          ]
        },
        {
          "output_type": "stream",
          "name": "stdout",
          "text": [
            "api_search   흥국화재우\n"
          ]
        },
        {
          "output_type": "stream",
          "name": "stderr",
          "text": [
            "\r  4%|▍         | 38/1002 [00:51<21:21,  1.33s/it]"
          ]
        },
        {
          "output_type": "stream",
          "name": "stdout",
          "text": [
            "api_search   흥국화재2우B\n"
          ]
        },
        {
          "output_type": "stream",
          "name": "stderr",
          "text": [
            "\r  4%|▍         | 39/1002 [00:53<21:15,  1.32s/it]"
          ]
        },
        {
          "output_type": "stream",
          "name": "stdout",
          "text": [
            "api_search   CS홀딩스\n"
          ]
        },
        {
          "output_type": "stream",
          "name": "stderr",
          "text": [
            "\r  4%|▍         | 40/1002 [00:54<21:17,  1.33s/it]"
          ]
        },
        {
          "output_type": "stream",
          "name": "stdout",
          "text": [
            "api_search   동아쏘시오홀딩스\n"
          ]
        },
        {
          "output_type": "stream",
          "name": "stderr",
          "text": [
            "\r  4%|▍         | 41/1002 [00:55<21:40,  1.35s/it]"
          ]
        },
        {
          "output_type": "stream",
          "name": "stdout",
          "text": [
            "api_search   천일고속\n"
          ]
        },
        {
          "output_type": "stream",
          "name": "stderr",
          "text": [
            "\r  4%|▍         | 42/1002 [00:57<21:20,  1.33s/it]"
          ]
        },
        {
          "output_type": "stream",
          "name": "stdout",
          "text": [
            "api_search   SK하이닉스\n"
          ]
        },
        {
          "output_type": "stream",
          "name": "stderr",
          "text": [
            "\r  4%|▍         | 43/1002 [00:58<21:37,  1.35s/it]"
          ]
        },
        {
          "output_type": "stream",
          "name": "stdout",
          "text": [
            "api_search   영풍\n"
          ]
        },
        {
          "output_type": "stream",
          "name": "stderr",
          "text": [
            "\r  4%|▍         | 44/1002 [00:59<21:16,  1.33s/it]"
          ]
        },
        {
          "output_type": "stream",
          "name": "stdout",
          "text": [
            "api_search   LS네트웍스\n"
          ]
        },
        {
          "output_type": "stream",
          "name": "stderr",
          "text": [
            "\r  4%|▍         | 45/1002 [01:01<21:13,  1.33s/it]"
          ]
        },
        {
          "output_type": "stream",
          "name": "stdout",
          "text": [
            "api_search   유수홀딩스\n"
          ]
        },
        {
          "output_type": "stream",
          "name": "stderr",
          "text": [
            "\r  5%|▍         | 46/1002 [01:02<21:12,  1.33s/it]"
          ]
        },
        {
          "output_type": "stream",
          "name": "stdout",
          "text": [
            "api_search   현대건설\n"
          ]
        },
        {
          "output_type": "stream",
          "name": "stderr",
          "text": [
            "\r  5%|▍         | 47/1002 [01:03<21:27,  1.35s/it]"
          ]
        },
        {
          "output_type": "stream",
          "name": "stdout",
          "text": [
            "api_search   현대건설우\n"
          ]
        },
        {
          "output_type": "stream",
          "name": "stderr",
          "text": [
            "\r  5%|▍         | 48/1002 [01:05<21:32,  1.35s/it]"
          ]
        },
        {
          "output_type": "stream",
          "name": "stdout",
          "text": [
            "api_search   이화산업\n"
          ]
        },
        {
          "output_type": "stream",
          "name": "stderr",
          "text": [
            "\r  5%|▍         | 49/1002 [01:06<21:12,  1.34s/it]"
          ]
        },
        {
          "output_type": "stream",
          "name": "stdout",
          "text": [
            "api_search   삼성화재\n"
          ]
        },
        {
          "output_type": "stream",
          "name": "stderr",
          "text": [
            "\r  5%|▍         | 50/1002 [01:07<21:15,  1.34s/it]"
          ]
        },
        {
          "output_type": "stream",
          "name": "stdout",
          "text": [
            "api_search   삼성화재우\n"
          ]
        },
        {
          "output_type": "stream",
          "name": "stderr",
          "text": [
            "\r  5%|▌         | 51/1002 [01:09<21:17,  1.34s/it]"
          ]
        },
        {
          "output_type": "stream",
          "name": "stdout",
          "text": [
            "api_search   화천기공\n"
          ]
        },
        {
          "output_type": "stream",
          "name": "stderr",
          "text": [
            "\r  5%|▌         | 52/1002 [01:10<21:05,  1.33s/it]"
          ]
        },
        {
          "output_type": "stream",
          "name": "stdout",
          "text": [
            "api_search   강남제비스코\n"
          ]
        },
        {
          "output_type": "stream",
          "name": "stderr",
          "text": [
            "\r  5%|▌         | 53/1002 [01:11<21:04,  1.33s/it]"
          ]
        },
        {
          "output_type": "stream",
          "name": "stdout",
          "text": [
            "api_search   한화\n"
          ]
        },
        {
          "output_type": "stream",
          "name": "stderr",
          "text": [
            "\r  5%|▌         | 54/1002 [01:13<20:52,  1.32s/it]"
          ]
        },
        {
          "output_type": "stream",
          "name": "stdout",
          "text": [
            "api_search   한화우\n"
          ]
        },
        {
          "output_type": "stream",
          "name": "stderr",
          "text": [
            "\r  5%|▌         | 55/1002 [01:14<21:07,  1.34s/it]"
          ]
        },
        {
          "output_type": "stream",
          "name": "stdout",
          "text": [
            "api_search   한화3우B\n"
          ]
        },
        {
          "output_type": "stream",
          "name": "stderr",
          "text": [
            "\r  6%|▌         | 56/1002 [01:15<20:57,  1.33s/it]"
          ]
        },
        {
          "output_type": "stream",
          "name": "stdout",
          "text": [
            "api_search   보해양조\n"
          ]
        },
        {
          "output_type": "stream",
          "name": "stderr",
          "text": [
            "\r  6%|▌         | 57/1002 [01:17<21:25,  1.36s/it]"
          ]
        },
        {
          "output_type": "stream",
          "name": "stdout",
          "text": [
            "api_search   유니온\n"
          ]
        },
        {
          "output_type": "stream",
          "name": "stderr",
          "text": [
            "\r  6%|▌         | 58/1002 [01:18<22:10,  1.41s/it]"
          ]
        },
        {
          "output_type": "stream",
          "name": "stdout",
          "text": [
            "api_search   전방\n"
          ]
        },
        {
          "output_type": "stream",
          "name": "stderr",
          "text": [
            "\r  6%|▌         | 59/1002 [01:20<22:02,  1.40s/it]"
          ]
        },
        {
          "output_type": "stream",
          "name": "stdout",
          "text": [
            "api_search   한국주철관\n"
          ]
        },
        {
          "output_type": "stream",
          "name": "stderr",
          "text": [
            "\r  6%|▌         | 60/1002 [01:21<21:53,  1.39s/it]"
          ]
        },
        {
          "output_type": "stream",
          "name": "stdout",
          "text": [
            "api_search   DB하이텍\n"
          ]
        },
        {
          "output_type": "stream",
          "name": "stderr",
          "text": [
            "\r  6%|▌         | 61/1002 [01:22<21:22,  1.36s/it]"
          ]
        },
        {
          "output_type": "stream",
          "name": "stdout",
          "text": [
            "api_search   DB하이텍1우\n"
          ]
        },
        {
          "output_type": "stream",
          "name": "stderr",
          "text": [
            "\r  6%|▌         | 62/1002 [01:24<21:13,  1.35s/it]"
          ]
        },
        {
          "output_type": "stream",
          "name": "stdout",
          "text": [
            "api_search   페이퍼코리아\n"
          ]
        },
        {
          "output_type": "stream",
          "name": "stderr",
          "text": [
            "\r  6%|▋         | 63/1002 [01:25<21:04,  1.35s/it]"
          ]
        },
        {
          "output_type": "stream",
          "name": "stdout",
          "text": [
            "api_search   CJ\n"
          ]
        },
        {
          "output_type": "stream",
          "name": "stderr",
          "text": [
            "\r  6%|▋         | 64/1002 [01:26<21:01,  1.34s/it]"
          ]
        },
        {
          "output_type": "stream",
          "name": "stdout",
          "text": [
            "api_search   CJ우\n"
          ]
        },
        {
          "output_type": "stream",
          "name": "stderr",
          "text": [
            "\r  6%|▋         | 65/1002 [01:28<21:03,  1.35s/it]"
          ]
        },
        {
          "output_type": "stream",
          "name": "stdout",
          "text": [
            "api_search   CJ4우(전환)\n"
          ]
        },
        {
          "output_type": "stream",
          "name": "stderr",
          "text": [
            "\r  7%|▋         | 66/1002 [01:29<21:05,  1.35s/it]"
          ]
        },
        {
          "output_type": "stream",
          "name": "stdout",
          "text": [
            "api_search   JW중외제약\n"
          ]
        },
        {
          "output_type": "stream",
          "name": "stderr",
          "text": [
            "\r  7%|▋         | 67/1002 [01:30<21:15,  1.36s/it]"
          ]
        },
        {
          "output_type": "stream",
          "name": "stdout",
          "text": [
            "api_search   JW중외제약우\n"
          ]
        },
        {
          "output_type": "stream",
          "name": "stderr",
          "text": [
            "\r  7%|▋         | 68/1002 [01:32<21:23,  1.37s/it]"
          ]
        },
        {
          "output_type": "stream",
          "name": "stdout",
          "text": [
            "api_search   JW중외제약2우B\n"
          ]
        },
        {
          "output_type": "stream",
          "name": "stderr",
          "text": [
            "\r  7%|▋         | 69/1002 [01:33<21:34,  1.39s/it]"
          ]
        },
        {
          "output_type": "stream",
          "name": "stdout",
          "text": [
            "api_search   대한방직\n"
          ]
        },
        {
          "output_type": "stream",
          "name": "stderr",
          "text": [
            "\r  7%|▋         | 70/1002 [01:35<21:13,  1.37s/it]"
          ]
        },
        {
          "output_type": "stream",
          "name": "stdout",
          "text": [
            "api_search   만호제강\n"
          ]
        },
        {
          "output_type": "stream",
          "name": "stderr",
          "text": [
            "\r  7%|▋         | 71/1002 [01:36<21:06,  1.36s/it]"
          ]
        },
        {
          "output_type": "stream",
          "name": "stdout",
          "text": [
            "api_search   LX인터내셔널\n"
          ]
        },
        {
          "output_type": "stream",
          "name": "stderr",
          "text": [
            "\r  7%|▋         | 72/1002 [01:37<20:48,  1.34s/it]"
          ]
        },
        {
          "output_type": "stream",
          "name": "stdout",
          "text": [
            "api_search   대한제분\n"
          ]
        },
        {
          "output_type": "stream",
          "name": "stderr",
          "text": [
            "\r  7%|▋         | 73/1002 [01:39<20:42,  1.34s/it]"
          ]
        },
        {
          "output_type": "stream",
          "name": "stdout",
          "text": [
            "api_search   국보\n"
          ]
        },
        {
          "output_type": "stream",
          "name": "stderr",
          "text": [
            "\r  7%|▋         | 74/1002 [01:40<20:56,  1.35s/it]"
          ]
        },
        {
          "output_type": "stream",
          "name": "stdout",
          "text": [
            "api_search   유진투자증권\n"
          ]
        },
        {
          "output_type": "stream",
          "name": "stderr",
          "text": [
            "\r  7%|▋         | 75/1002 [01:41<20:50,  1.35s/it]"
          ]
        },
        {
          "output_type": "stream",
          "name": "stdout",
          "text": [
            "api_search   금호전기\n"
          ]
        },
        {
          "output_type": "stream",
          "name": "stderr",
          "text": [
            "\r  8%|▊         | 76/1002 [01:43<20:38,  1.34s/it]"
          ]
        },
        {
          "output_type": "stream",
          "name": "stdout",
          "text": [
            "api_search   동국제강\n"
          ]
        },
        {
          "output_type": "stream",
          "name": "stderr",
          "text": [
            "\r  8%|▊         | 77/1002 [01:44<20:48,  1.35s/it]"
          ]
        },
        {
          "output_type": "stream",
          "name": "stdout",
          "text": [
            "api_search   GS글로벌\n"
          ]
        },
        {
          "output_type": "stream",
          "name": "stderr",
          "text": [
            "\r  8%|▊         | 78/1002 [01:45<20:47,  1.35s/it]"
          ]
        },
        {
          "output_type": "stream",
          "name": "stdout",
          "text": [
            "api_search   남광토건\n"
          ]
        },
        {
          "output_type": "stream",
          "name": "stderr",
          "text": [
            "\r  8%|▊         | 79/1002 [01:47<20:30,  1.33s/it]"
          ]
        },
        {
          "output_type": "stream",
          "name": "stdout",
          "text": [
            "api_search   부국증권\n"
          ]
        },
        {
          "output_type": "stream",
          "name": "stderr",
          "text": [
            "\r  8%|▊         | 80/1002 [01:48<20:15,  1.32s/it]"
          ]
        },
        {
          "output_type": "stream",
          "name": "stdout",
          "text": [
            "api_search   부국증권우\n"
          ]
        },
        {
          "output_type": "stream",
          "name": "stderr",
          "text": [
            "\r  8%|▊         | 81/1002 [01:49<20:10,  1.31s/it]"
          ]
        },
        {
          "output_type": "stream",
          "name": "stdout",
          "text": [
            "api_search   상상인증권\n"
          ]
        },
        {
          "output_type": "stream",
          "name": "stderr",
          "text": [
            "\r  8%|▊         | 82/1002 [01:51<20:26,  1.33s/it]"
          ]
        },
        {
          "output_type": "stream",
          "name": "stdout",
          "text": [
            "api_search   백광산업\n"
          ]
        },
        {
          "output_type": "stream",
          "name": "stderr",
          "text": [
            "\r  8%|▊         | 83/1002 [01:52<20:12,  1.32s/it]"
          ]
        },
        {
          "output_type": "stream",
          "name": "stdout",
          "text": [
            "api_search   삼성제약\n"
          ]
        },
        {
          "output_type": "stream",
          "name": "stderr",
          "text": [
            "\r  8%|▊         | 84/1002 [01:53<20:06,  1.31s/it]"
          ]
        },
        {
          "output_type": "stream",
          "name": "stdout",
          "text": [
            "api_search   SG글로벌\n"
          ]
        },
        {
          "output_type": "stream",
          "name": "stderr",
          "text": [
            "\r  8%|▊         | 85/1002 [01:55<20:19,  1.33s/it]"
          ]
        },
        {
          "output_type": "stream",
          "name": "stdout",
          "text": [
            "api_search   KG케미칼\n"
          ]
        },
        {
          "output_type": "stream",
          "name": "stderr",
          "text": [
            "\r  9%|▊         | 86/1002 [01:56<20:16,  1.33s/it]"
          ]
        },
        {
          "output_type": "stream",
          "name": "stdout",
          "text": [
            "api_search   태원물산\n"
          ]
        },
        {
          "output_type": "stream",
          "name": "stderr",
          "text": [
            "\r  9%|▊         | 87/1002 [01:58<21:44,  1.43s/it]"
          ]
        },
        {
          "output_type": "stream",
          "name": "stdout",
          "text": [
            "api_search   세아베스틸지주\n"
          ]
        },
        {
          "output_type": "stream",
          "name": "stderr",
          "text": [
            "\r  9%|▉         | 88/1002 [01:59<21:27,  1.41s/it]"
          ]
        },
        {
          "output_type": "stream",
          "name": "stdout",
          "text": [
            "api_search   대한전선\n"
          ]
        },
        {
          "output_type": "stream",
          "name": "stderr",
          "text": [
            "\r  9%|▉         | 89/1002 [02:00<21:02,  1.38s/it]"
          ]
        },
        {
          "output_type": "stream",
          "name": "stdout",
          "text": [
            "api_search   현대해상\n"
          ]
        },
        {
          "output_type": "stream",
          "name": "stderr",
          "text": [
            "\r  9%|▉         | 90/1002 [02:02<20:47,  1.37s/it]"
          ]
        },
        {
          "output_type": "stream",
          "name": "stdout",
          "text": [
            "api_search   BYC\n"
          ]
        },
        {
          "output_type": "stream",
          "name": "stderr",
          "text": [
            "\r  9%|▉         | 91/1002 [02:03<20:28,  1.35s/it]"
          ]
        },
        {
          "output_type": "stream",
          "name": "stdout",
          "text": [
            "api_search   BYC우\n"
          ]
        },
        {
          "output_type": "stream",
          "name": "stderr",
          "text": [
            "\r  9%|▉         | 92/1002 [02:04<20:39,  1.36s/it]"
          ]
        },
        {
          "output_type": "stream",
          "name": "stdout",
          "text": [
            "api_search   삼부토건\n"
          ]
        },
        {
          "output_type": "stream",
          "name": "stderr",
          "text": [
            "\r  9%|▉         | 93/1002 [02:06<20:33,  1.36s/it]"
          ]
        },
        {
          "output_type": "stream",
          "name": "stdout",
          "text": [
            "api_search   현대차증권\n"
          ]
        },
        {
          "output_type": "stream",
          "name": "stderr",
          "text": [
            "\r  9%|▉         | 94/1002 [02:07<20:45,  1.37s/it]"
          ]
        },
        {
          "output_type": "stream",
          "name": "stdout",
          "text": [
            "api_search   SK증권\n"
          ]
        },
        {
          "output_type": "stream",
          "name": "stderr",
          "text": [
            "\r  9%|▉         | 95/1002 [02:08<20:40,  1.37s/it]"
          ]
        },
        {
          "output_type": "stream",
          "name": "stdout",
          "text": [
            "api_search   SK증권우\n"
          ]
        },
        {
          "output_type": "stream",
          "name": "stderr",
          "text": [
            "\r 10%|▉         | 96/1002 [02:10<20:34,  1.36s/it]"
          ]
        },
        {
          "output_type": "stream",
          "name": "stdout",
          "text": [
            "api_search   동양\n"
          ]
        },
        {
          "output_type": "stream",
          "name": "stderr",
          "text": [
            "\r 10%|▉         | 97/1002 [02:11<20:25,  1.35s/it]"
          ]
        },
        {
          "output_type": "stream",
          "name": "stdout",
          "text": [
            "api_search   동양우\n"
          ]
        },
        {
          "output_type": "stream",
          "name": "stderr",
          "text": [
            "\r 10%|▉         | 98/1002 [02:12<20:32,  1.36s/it]"
          ]
        },
        {
          "output_type": "stream",
          "name": "stdout",
          "text": [
            "api_search   동양2우B\n"
          ]
        },
        {
          "output_type": "stream",
          "name": "stderr",
          "text": [
            "\r 10%|▉         | 99/1002 [02:14<20:35,  1.37s/it]"
          ]
        },
        {
          "output_type": "stream",
          "name": "stdout",
          "text": [
            "api_search   동양3우B\n"
          ]
        },
        {
          "output_type": "stream",
          "name": "stderr",
          "text": [
            "\r 10%|▉         | 100/1002 [02:15<20:13,  1.35s/it]"
          ]
        },
        {
          "output_type": "stream",
          "name": "stdout",
          "text": [
            "api_search   DI동일\n"
          ]
        },
        {
          "output_type": "stream",
          "name": "stderr",
          "text": [
            "\r 10%|█         | 101/1002 [02:16<20:12,  1.35s/it]"
          ]
        },
        {
          "output_type": "stream",
          "name": "stdout",
          "text": [
            "api_search   조비\n"
          ]
        },
        {
          "output_type": "stream",
          "name": "stderr",
          "text": [
            "\r 10%|█         | 102/1002 [02:18<20:11,  1.35s/it]"
          ]
        },
        {
          "output_type": "stream",
          "name": "stdout",
          "text": [
            "api_search   제일연마\n"
          ]
        },
        {
          "output_type": "stream",
          "name": "stderr",
          "text": [
            "\r 10%|█         | 103/1002 [02:19<20:01,  1.34s/it]"
          ]
        },
        {
          "output_type": "stream",
          "name": "stdout",
          "text": [
            "api_search   금양\n"
          ]
        },
        {
          "output_type": "stream",
          "name": "stderr",
          "text": [
            "\r 10%|█         | 104/1002 [02:20<19:49,  1.32s/it]"
          ]
        },
        {
          "output_type": "stream",
          "name": "stdout",
          "text": [
            "api_search   케이비아이동국실업\n"
          ]
        },
        {
          "output_type": "stream",
          "name": "stderr",
          "text": [
            "\r 10%|█         | 105/1002 [02:22<19:42,  1.32s/it]"
          ]
        },
        {
          "output_type": "stream",
          "name": "stdout",
          "text": [
            "api_search   종근당홀딩스\n"
          ]
        },
        {
          "output_type": "stream",
          "name": "stderr",
          "text": [
            "\r 11%|█         | 106/1002 [02:23<19:33,  1.31s/it]"
          ]
        },
        {
          "output_type": "stream",
          "name": "stdout",
          "text": [
            "api_search   대상\n"
          ]
        },
        {
          "output_type": "stream",
          "name": "stderr",
          "text": [
            "\r 11%|█         | 107/1002 [02:25<21:20,  1.43s/it]"
          ]
        },
        {
          "output_type": "stream",
          "name": "stdout",
          "text": [
            "api_search   대상우\n"
          ]
        },
        {
          "output_type": "stream",
          "name": "stderr",
          "text": [
            "\r 11%|█         | 108/1002 [02:26<20:28,  1.37s/it]"
          ]
        },
        {
          "output_type": "stream",
          "name": "stdout",
          "text": [
            "api_search   신영증권\n"
          ]
        },
        {
          "output_type": "stream",
          "name": "stderr",
          "text": [
            "\r 11%|█         | 109/1002 [02:27<20:04,  1.35s/it]"
          ]
        },
        {
          "output_type": "stream",
          "name": "stdout",
          "text": [
            "api_search   신영증권우\n"
          ]
        },
        {
          "output_type": "stream",
          "name": "stderr",
          "text": [
            "\r 11%|█         | 110/1002 [02:29<19:57,  1.34s/it]"
          ]
        },
        {
          "output_type": "stream",
          "name": "stdout",
          "text": [
            "api_search   SK네트웍스\n"
          ]
        },
        {
          "output_type": "stream",
          "name": "stderr",
          "text": [
            "\r 11%|█         | 111/1002 [02:30<20:12,  1.36s/it]"
          ]
        },
        {
          "output_type": "stream",
          "name": "stdout",
          "text": [
            "api_search   SK네트웍스우\n"
          ]
        },
        {
          "output_type": "stream",
          "name": "stderr",
          "text": [
            "\r 11%|█         | 112/1002 [02:31<19:57,  1.35s/it]"
          ]
        },
        {
          "output_type": "stream",
          "name": "stdout",
          "text": [
            "api_search   한양증권\n"
          ]
        },
        {
          "output_type": "stream",
          "name": "stderr",
          "text": [
            "\r 11%|█▏        | 113/1002 [02:33<19:52,  1.34s/it]"
          ]
        },
        {
          "output_type": "stream",
          "name": "stdout",
          "text": [
            "api_search   한양증권우\n"
          ]
        },
        {
          "output_type": "stream",
          "name": "stderr",
          "text": [
            "\r 11%|█▏        | 114/1002 [02:34<19:40,  1.33s/it]"
          ]
        },
        {
          "output_type": "stream",
          "name": "stdout",
          "text": [
            "api_search   SHD\n"
          ]
        },
        {
          "output_type": "stream",
          "name": "stderr",
          "text": [
            "\r 11%|█▏        | 115/1002 [02:35<19:39,  1.33s/it]"
          ]
        },
        {
          "output_type": "stream",
          "name": "stdout",
          "text": [
            "api_search   알루코\n"
          ]
        },
        {
          "output_type": "stream",
          "name": "stderr",
          "text": [
            "\r 12%|█▏        | 116/1002 [02:37<19:30,  1.32s/it]"
          ]
        },
        {
          "output_type": "stream",
          "name": "stdout",
          "text": [
            "api_search   대한제당\n"
          ]
        },
        {
          "output_type": "stream",
          "name": "stderr",
          "text": [
            "\r 12%|█▏        | 117/1002 [02:38<19:31,  1.32s/it]"
          ]
        },
        {
          "output_type": "stream",
          "name": "stdout",
          "text": [
            "api_search   대한제당우\n"
          ]
        },
        {
          "output_type": "stream",
          "name": "stderr",
          "text": [
            "\r 12%|█▏        | 118/1002 [02:39<19:35,  1.33s/it]"
          ]
        },
        {
          "output_type": "stream",
          "name": "stdout",
          "text": [
            "api_search   오리온홀딩스\n"
          ]
        },
        {
          "output_type": "stream",
          "name": "stderr",
          "text": [
            "\r 12%|█▏        | 119/1002 [02:41<19:48,  1.35s/it]"
          ]
        },
        {
          "output_type": "stream",
          "name": "stdout",
          "text": [
            "api_search   삼화콘덴서\n"
          ]
        },
        {
          "output_type": "stream",
          "name": "stderr",
          "text": [
            "\r 12%|█▏        | 120/1002 [02:42<19:37,  1.33s/it]"
          ]
        },
        {
          "output_type": "stream",
          "name": "stdout",
          "text": [
            "api_search   DL건설\n"
          ]
        },
        {
          "output_type": "stream",
          "name": "stderr",
          "text": [
            "\r 12%|█▏        | 121/1002 [02:43<19:15,  1.31s/it]"
          ]
        },
        {
          "output_type": "stream",
          "name": "stdout",
          "text": [
            "api_search   KISCO홀딩스\n"
          ]
        },
        {
          "output_type": "stream",
          "name": "stderr",
          "text": [
            "\r 12%|█▏        | 122/1002 [02:44<19:04,  1.30s/it]"
          ]
        },
        {
          "output_type": "stream",
          "name": "stdout",
          "text": [
            "api_search   코오롱\n"
          ]
        },
        {
          "output_type": "stream",
          "name": "stderr",
          "text": [
            "\r 12%|█▏        | 123/1002 [02:46<19:12,  1.31s/it]"
          ]
        },
        {
          "output_type": "stream",
          "name": "stdout",
          "text": [
            "api_search   코오롱우\n"
          ]
        },
        {
          "output_type": "stream",
          "name": "stderr",
          "text": [
            "\r 12%|█▏        | 124/1002 [02:47<19:06,  1.31s/it]"
          ]
        },
        {
          "output_type": "stream",
          "name": "stdout",
          "text": [
            "api_search   아세아\n"
          ]
        },
        {
          "output_type": "stream",
          "name": "stderr",
          "text": [
            "\r 12%|█▏        | 125/1002 [02:48<19:04,  1.30s/it]"
          ]
        },
        {
          "output_type": "stream",
          "name": "stdout",
          "text": [
            "api_search   비비안\n"
          ]
        },
        {
          "output_type": "stream",
          "name": "stderr",
          "text": [
            "\r 13%|█▎        | 126/1002 [02:50<19:04,  1.31s/it]"
          ]
        },
        {
          "output_type": "stream",
          "name": "stdout",
          "text": [
            "api_search   경농\n"
          ]
        },
        {
          "output_type": "stream",
          "name": "stderr",
          "text": [
            "\r 13%|█▎        | 127/1002 [02:51<19:01,  1.30s/it]"
          ]
        },
        {
          "output_type": "stream",
          "name": "stdout",
          "text": [
            "api_search   고려산업\n"
          ]
        },
        {
          "output_type": "stream",
          "name": "stderr",
          "text": [
            "\r 13%|█▎        | 128/1002 [02:52<19:24,  1.33s/it]"
          ]
        },
        {
          "output_type": "stream",
          "name": "stdout",
          "text": [
            "api_search   도화엔지니어링\n"
          ]
        },
        {
          "output_type": "stream",
          "name": "stderr",
          "text": [
            "\r 13%|█▎        | 129/1002 [02:54<19:18,  1.33s/it]"
          ]
        },
        {
          "output_type": "stream",
          "name": "stdout",
          "text": [
            "api_search   삼양통상\n"
          ]
        },
        {
          "output_type": "stream",
          "name": "stderr",
          "text": [
            "\r 13%|█▎        | 130/1002 [02:55<19:00,  1.31s/it]"
          ]
        },
        {
          "output_type": "stream",
          "name": "stdout",
          "text": [
            "api_search   한국수출포장\n"
          ]
        },
        {
          "output_type": "stream",
          "name": "stderr",
          "text": [
            "\r 13%|█▎        | 131/1002 [02:56<19:01,  1.31s/it]"
          ]
        },
        {
          "output_type": "stream",
          "name": "stdout",
          "text": [
            "api_search   동성제약\n"
          ]
        },
        {
          "output_type": "stream",
          "name": "stderr",
          "text": [
            "\r 13%|█▎        | 132/1002 [02:58<19:09,  1.32s/it]"
          ]
        },
        {
          "output_type": "stream",
          "name": "stdout",
          "text": [
            "api_search   한일철강\n"
          ]
        },
        {
          "output_type": "stream",
          "name": "stderr",
          "text": [
            "\r 13%|█▎        | 133/1002 [02:59<19:11,  1.32s/it]"
          ]
        },
        {
          "output_type": "stream",
          "name": "stdout",
          "text": [
            "api_search   고려제강\n"
          ]
        },
        {
          "output_type": "stream",
          "name": "stderr",
          "text": [
            "\r 13%|█▎        | 134/1002 [03:00<19:29,  1.35s/it]"
          ]
        },
        {
          "output_type": "stream",
          "name": "stdout",
          "text": [
            "api_search   롯데푸드\n"
          ]
        },
        {
          "output_type": "stream",
          "name": "stderr",
          "text": [
            "\r 13%|█▎        | 135/1002 [03:02<19:35,  1.36s/it]"
          ]
        },
        {
          "output_type": "stream",
          "name": "stdout",
          "text": [
            "api_search   아세아제지\n"
          ]
        },
        {
          "output_type": "stream",
          "name": "stderr",
          "text": [
            "\r 14%|█▎        | 136/1002 [03:03<19:11,  1.33s/it]"
          ]
        },
        {
          "output_type": "stream",
          "name": "stdout",
          "text": [
            "api_search   한진\n"
          ]
        },
        {
          "output_type": "stream",
          "name": "stderr",
          "text": [
            "\r 14%|█▎        | 137/1002 [03:04<19:11,  1.33s/it]"
          ]
        },
        {
          "output_type": "stream",
          "name": "stdout",
          "text": [
            "api_search   넥센타이어\n"
          ]
        },
        {
          "output_type": "stream",
          "name": "stderr",
          "text": [
            "\r 14%|█▍        | 138/1002 [03:06<19:15,  1.34s/it]"
          ]
        },
        {
          "output_type": "stream",
          "name": "stdout",
          "text": [
            "api_search   넥센타이어1우B\n"
          ]
        },
        {
          "output_type": "stream",
          "name": "stderr",
          "text": [
            "\r 14%|█▍        | 139/1002 [03:07<19:03,  1.32s/it]"
          ]
        },
        {
          "output_type": "stream",
          "name": "stdout",
          "text": [
            "api_search   SH에너지화학\n"
          ]
        },
        {
          "output_type": "stream",
          "name": "stderr",
          "text": [
            "\r 14%|█▍        | 140/1002 [03:08<18:54,  1.32s/it]"
          ]
        },
        {
          "output_type": "stream",
          "name": "stdout",
          "text": [
            "api_search   KCC\n"
          ]
        },
        {
          "output_type": "stream",
          "name": "stderr",
          "text": [
            "\r 14%|█▍        | 141/1002 [03:10<18:48,  1.31s/it]"
          ]
        },
        {
          "output_type": "stream",
          "name": "stdout",
          "text": [
            "api_search   한독\n"
          ]
        },
        {
          "output_type": "stream",
          "name": "stderr",
          "text": [
            "\r 14%|█▍        | 142/1002 [03:11<19:43,  1.38s/it]"
          ]
        },
        {
          "output_type": "stream",
          "name": "stdout",
          "text": [
            "api_search   범양건영\n"
          ]
        },
        {
          "output_type": "stream",
          "name": "stderr",
          "text": [
            "\r 14%|█▍        | 143/1002 [03:12<19:30,  1.36s/it]"
          ]
        },
        {
          "output_type": "stream",
          "name": "stdout",
          "text": [
            "api_search   세기상사\n"
          ]
        },
        {
          "output_type": "stream",
          "name": "stderr",
          "text": [
            "\r 14%|█▍        | 144/1002 [03:14<19:19,  1.35s/it]"
          ]
        },
        {
          "output_type": "stream",
          "name": "stdout",
          "text": [
            "api_search   삼익악기\n"
          ]
        },
        {
          "output_type": "stream",
          "name": "stderr",
          "text": [
            "\r 14%|█▍        | 145/1002 [03:15<19:02,  1.33s/it]"
          ]
        },
        {
          "output_type": "stream",
          "name": "stdout",
          "text": [
            "api_search   화성산업\n"
          ]
        },
        {
          "output_type": "stream",
          "name": "stderr",
          "text": [
            "\r 15%|█▍        | 146/1002 [03:16<19:04,  1.34s/it]"
          ]
        },
        {
          "output_type": "stream",
          "name": "stdout",
          "text": [
            "api_search   조흥\n"
          ]
        },
        {
          "output_type": "stream",
          "name": "stderr",
          "text": [
            "\r 15%|█▍        | 147/1002 [03:18<18:49,  1.32s/it]"
          ]
        },
        {
          "output_type": "stream",
          "name": "stdout",
          "text": [
            "api_search   제일파마홀딩스\n"
          ]
        },
        {
          "output_type": "stream",
          "name": "stderr",
          "text": [
            "\r 15%|█▍        | 148/1002 [03:19<18:48,  1.32s/it]"
          ]
        },
        {
          "output_type": "stream",
          "name": "stdout",
          "text": [
            "api_search   오리엔트바이오\n"
          ]
        },
        {
          "output_type": "stream",
          "name": "stderr",
          "text": [
            "\r 15%|█▍        | 149/1002 [03:20<18:47,  1.32s/it]"
          ]
        },
        {
          "output_type": "stream",
          "name": "stdout",
          "text": [
            "api_search   동일제강\n"
          ]
        },
        {
          "output_type": "stream",
          "name": "stderr",
          "text": [
            "\r 15%|█▍        | 150/1002 [03:22<18:39,  1.31s/it]"
          ]
        },
        {
          "output_type": "stream",
          "name": "stdout",
          "text": [
            "api_search   신일전자\n"
          ]
        },
        {
          "output_type": "stream",
          "name": "stderr",
          "text": [
            "\r 15%|█▌        | 151/1002 [03:23<18:43,  1.32s/it]"
          ]
        },
        {
          "output_type": "stream",
          "name": "stdout",
          "text": [
            "api_search   TCC스틸\n"
          ]
        },
        {
          "output_type": "stream",
          "name": "stderr",
          "text": [
            "\r 15%|█▌        | 152/1002 [03:24<19:01,  1.34s/it]"
          ]
        },
        {
          "output_type": "stream",
          "name": "stdout",
          "text": [
            "api_search   국제약품\n"
          ]
        },
        {
          "output_type": "stream",
          "name": "stderr",
          "text": [
            "\r 15%|█▌        | 153/1002 [03:26<18:38,  1.32s/it]"
          ]
        },
        {
          "output_type": "stream",
          "name": "stdout",
          "text": [
            "api_search   보락\n"
          ]
        },
        {
          "output_type": "stream",
          "name": "stderr",
          "text": [
            "\r 15%|█▌        | 154/1002 [03:27<18:46,  1.33s/it]"
          ]
        },
        {
          "output_type": "stream",
          "name": "stdout",
          "text": [
            "api_search   진흥기업\n"
          ]
        },
        {
          "output_type": "stream",
          "name": "stderr",
          "text": [
            "\r 15%|█▌        | 155/1002 [03:28<18:34,  1.32s/it]"
          ]
        },
        {
          "output_type": "stream",
          "name": "stdout",
          "text": [
            "api_search   진흥기업우B\n"
          ]
        },
        {
          "output_type": "stream",
          "name": "stderr",
          "text": [
            "\r 16%|█▌        | 156/1002 [03:30<18:31,  1.31s/it]"
          ]
        },
        {
          "output_type": "stream",
          "name": "stdout",
          "text": [
            "api_search   진흥기업2우B\n"
          ]
        },
        {
          "output_type": "stream",
          "name": "stderr",
          "text": [
            "\r 16%|█▌        | 157/1002 [03:31<18:27,  1.31s/it]"
          ]
        },
        {
          "output_type": "stream",
          "name": "stdout",
          "text": [
            "api_search   아모레G\n"
          ]
        },
        {
          "output_type": "stream",
          "name": "stderr",
          "text": [
            "\r 16%|█▌        | 158/1002 [03:32<18:37,  1.32s/it]"
          ]
        },
        {
          "output_type": "stream",
          "name": "stdout",
          "text": [
            "api_search   아모레G우\n"
          ]
        },
        {
          "output_type": "stream",
          "name": "stderr",
          "text": [
            "\r 16%|█▌        | 159/1002 [03:34<18:26,  1.31s/it]"
          ]
        },
        {
          "output_type": "stream",
          "name": "stdout",
          "text": [
            "api_search   아모레G3우(전환)\n"
          ]
        },
        {
          "output_type": "stream",
          "name": "stderr",
          "text": [
            "\r 16%|█▌        | 160/1002 [03:35<18:43,  1.33s/it]"
          ]
        },
        {
          "output_type": "stream",
          "name": "stdout",
          "text": [
            "api_search   삼영무역\n"
          ]
        },
        {
          "output_type": "stream",
          "name": "stderr",
          "text": [
            "\r 16%|█▌        | 161/1002 [03:36<18:42,  1.33s/it]"
          ]
        },
        {
          "output_type": "stream",
          "name": "stdout",
          "text": [
            "api_search   SUN&L\n"
          ]
        },
        {
          "output_type": "stream",
          "name": "stderr",
          "text": [
            "\r 16%|█▌        | 161/1002 [03:37<18:57,  1.35s/it]\n"
          ]
        },
        {
          "output_type": "error",
          "ename": "KeyError",
          "evalue": "ignored",
          "traceback": [
            "\u001b[0;31m---------------------------------------------------------------------------\u001b[0m",
            "\u001b[0;31mKeyError\u001b[0m                                  Traceback (most recent call last)",
            "\u001b[0;32m<ipython-input-26-01404472ef82>\u001b[0m in \u001b[0;36m<module>\u001b[0;34m()\u001b[0m\n\u001b[1;32m     11\u001b[0m \u001b[0;34m\u001b[0m\u001b[0m\n\u001b[1;32m     12\u001b[0m     \u001b[0mrun_time\u001b[0m \u001b[0;34m=\u001b[0m \u001b[0;36m1\u001b[0m\u001b[0;34m\u001b[0m\u001b[0;34m\u001b[0m\u001b[0m\n\u001b[0;32m---> 13\u001b[0;31m     \u001b[0mrun\u001b[0m\u001b[0;34m(\u001b[0m\u001b[0mrun_time\u001b[0m\u001b[0;34m)\u001b[0m\u001b[0;34m\u001b[0m\u001b[0;34m\u001b[0m\u001b[0m\n\u001b[0m",
            "\u001b[0;32m<ipython-input-24-a68b6299454c>\u001b[0m in \u001b[0;36mrun\u001b[0;34m(reset)\u001b[0m\n\u001b[1;32m    167\u001b[0m \u001b[0;34m\u001b[0m\u001b[0m\n\u001b[1;32m    168\u001b[0m             \u001b[0;32mfor\u001b[0m \u001b[0mstock\u001b[0m \u001b[0;32min\u001b[0m \u001b[0mtqdm\u001b[0m\u001b[0;34m(\u001b[0m\u001b[0mcompany\u001b[0m\u001b[0;34m)\u001b[0m\u001b[0;34m:\u001b[0m\u001b[0;34m\u001b[0m\u001b[0;34m\u001b[0m\u001b[0m\n\u001b[0;32m--> 169\u001b[0;31m                 \u001b[0mapi_search\u001b[0m\u001b[0;34m(\u001b[0m\u001b[0mtuple_list\u001b[0m\u001b[0;34m,\u001b[0m \u001b[0mstock\u001b[0m\u001b[0;34m[\u001b[0m\u001b[0;34m\"stockName\"\u001b[0m\u001b[0;34m]\u001b[0m\u001b[0;34m)\u001b[0m\u001b[0;34m\u001b[0m\u001b[0;34m\u001b[0m\u001b[0m\n\u001b[0m\u001b[1;32m    170\u001b[0m \u001b[0;34m\u001b[0m\u001b[0m\n\u001b[1;32m    171\u001b[0m             \u001b[0;31m# 쿼링 포함 15분 제한\u001b[0m\u001b[0;34m\u001b[0m\u001b[0;34m\u001b[0m\u001b[0;34m\u001b[0m\u001b[0m\n",
            "\u001b[0;32m<ipython-input-24-a68b6299454c>\u001b[0m in \u001b[0;36mapi_search\u001b[0;34m(tuple_list, stock)\u001b[0m\n\u001b[1;32m    110\u001b[0m             \u001b[0mX_test\u001b[0m\u001b[0;34m.\u001b[0m\u001b[0mappend\u001b[0m\u001b[0;34m(\u001b[0m\u001b[0mtemp_X\u001b[0m\u001b[0;34m)\u001b[0m\u001b[0;34m\u001b[0m\u001b[0;34m\u001b[0m\u001b[0m\n\u001b[1;32m    111\u001b[0m             \u001b[0mX_test\u001b[0m \u001b[0;34m=\u001b[0m \u001b[0mtokenizer\u001b[0m\u001b[0;34m.\u001b[0m\u001b[0mtexts_to_sequences\u001b[0m\u001b[0;34m(\u001b[0m\u001b[0mX_test\u001b[0m\u001b[0;34m)\u001b[0m\u001b[0;34m\u001b[0m\u001b[0;34m\u001b[0m\u001b[0m\n\u001b[0;32m--> 112\u001b[0;31m             \u001b[0mpredict\u001b[0m\u001b[0;34m=\u001b[0m \u001b[0mmodel\u001b[0m\u001b[0;34m.\u001b[0m\u001b[0mpredict\u001b[0m\u001b[0;34m(\u001b[0m\u001b[0mX_test\u001b[0m\u001b[0;34m)\u001b[0m\u001b[0;34m\u001b[0m\u001b[0;34m\u001b[0m\u001b[0m\n\u001b[0m\u001b[1;32m    113\u001b[0m \u001b[0;34m\u001b[0m\u001b[0m\n\u001b[1;32m    114\u001b[0m             \u001b[0;31m# 호악재 예측값 저장\u001b[0m\u001b[0;34m\u001b[0m\u001b[0;34m\u001b[0m\u001b[0;34m\u001b[0m\u001b[0m\n",
            "\u001b[0;32m/usr/local/lib/python3.7/dist-packages/keras/utils/traceback_utils.py\u001b[0m in \u001b[0;36merror_handler\u001b[0;34m(*args, **kwargs)\u001b[0m\n\u001b[1;32m     65\u001b[0m     \u001b[0;32mexcept\u001b[0m \u001b[0mException\u001b[0m \u001b[0;32mas\u001b[0m \u001b[0me\u001b[0m\u001b[0;34m:\u001b[0m  \u001b[0;31m# pylint: disable=broad-except\u001b[0m\u001b[0;34m\u001b[0m\u001b[0;34m\u001b[0m\u001b[0m\n\u001b[1;32m     66\u001b[0m       \u001b[0mfiltered_tb\u001b[0m \u001b[0;34m=\u001b[0m \u001b[0m_process_traceback_frames\u001b[0m\u001b[0;34m(\u001b[0m\u001b[0me\u001b[0m\u001b[0;34m.\u001b[0m\u001b[0m__traceback__\u001b[0m\u001b[0;34m)\u001b[0m\u001b[0;34m\u001b[0m\u001b[0;34m\u001b[0m\u001b[0m\n\u001b[0;32m---> 67\u001b[0;31m       \u001b[0;32mraise\u001b[0m \u001b[0me\u001b[0m\u001b[0;34m.\u001b[0m\u001b[0mwith_traceback\u001b[0m\u001b[0;34m(\u001b[0m\u001b[0mfiltered_tb\u001b[0m\u001b[0;34m)\u001b[0m \u001b[0;32mfrom\u001b[0m \u001b[0;32mNone\u001b[0m\u001b[0;34m\u001b[0m\u001b[0;34m\u001b[0m\u001b[0m\n\u001b[0m\u001b[1;32m     68\u001b[0m     \u001b[0;32mfinally\u001b[0m\u001b[0;34m:\u001b[0m\u001b[0;34m\u001b[0m\u001b[0;34m\u001b[0m\u001b[0m\n\u001b[1;32m     69\u001b[0m       \u001b[0;32mdel\u001b[0m \u001b[0mfiltered_tb\u001b[0m\u001b[0;34m\u001b[0m\u001b[0;34m\u001b[0m\u001b[0m\n",
            "\u001b[0;32m/usr/local/lib/python3.7/dist-packages/keras/engine/data_adapter.py\u001b[0m in \u001b[0;36m__init__\u001b[0;34m(self, x, y, sample_weights, sample_weight_modes, batch_size, epochs, steps, shuffle, **kwargs)\u001b[0m\n\u001b[1;32m    244\u001b[0m     \u001b[0minputs\u001b[0m \u001b[0;34m=\u001b[0m \u001b[0mpack_x_y_sample_weight\u001b[0m\u001b[0;34m(\u001b[0m\u001b[0mx\u001b[0m\u001b[0;34m,\u001b[0m \u001b[0my\u001b[0m\u001b[0;34m,\u001b[0m \u001b[0msample_weights\u001b[0m\u001b[0;34m)\u001b[0m\u001b[0;34m\u001b[0m\u001b[0;34m\u001b[0m\u001b[0m\n\u001b[1;32m    245\u001b[0m \u001b[0;34m\u001b[0m\u001b[0m\n\u001b[0;32m--> 246\u001b[0;31m     \u001b[0mnum_samples\u001b[0m \u001b[0;34m=\u001b[0m \u001b[0mset\u001b[0m\u001b[0;34m(\u001b[0m\u001b[0mint\u001b[0m\u001b[0;34m(\u001b[0m\u001b[0mi\u001b[0m\u001b[0;34m.\u001b[0m\u001b[0mshape\u001b[0m\u001b[0;34m[\u001b[0m\u001b[0;36m0\u001b[0m\u001b[0;34m]\u001b[0m\u001b[0;34m)\u001b[0m \u001b[0;32mfor\u001b[0m \u001b[0mi\u001b[0m \u001b[0;32min\u001b[0m \u001b[0mtf\u001b[0m\u001b[0;34m.\u001b[0m\u001b[0mnest\u001b[0m\u001b[0;34m.\u001b[0m\u001b[0mflatten\u001b[0m\u001b[0;34m(\u001b[0m\u001b[0minputs\u001b[0m\u001b[0;34m)\u001b[0m\u001b[0;34m)\u001b[0m\u001b[0;34m.\u001b[0m\u001b[0mpop\u001b[0m\u001b[0;34m(\u001b[0m\u001b[0;34m)\u001b[0m\u001b[0;34m\u001b[0m\u001b[0;34m\u001b[0m\u001b[0m\n\u001b[0m\u001b[1;32m    247\u001b[0m     \u001b[0m_check_data_cardinality\u001b[0m\u001b[0;34m(\u001b[0m\u001b[0minputs\u001b[0m\u001b[0;34m)\u001b[0m\u001b[0;34m\u001b[0m\u001b[0;34m\u001b[0m\u001b[0m\n\u001b[1;32m    248\u001b[0m \u001b[0;34m\u001b[0m\u001b[0m\n",
            "\u001b[0;31mKeyError\u001b[0m: 'pop from an empty set'"
          ]
        }
      ]
    },
    {
      "cell_type": "code",
      "source": [
        "st = time.time()\n",
        "# 여기서부터는 시간별로 실행 - 실시간 코드\n",
        "# start에는 장이 열리는 날 - 하루가 들어가야 함\n",
        "data = yf.download(code_list, start=pre_previous)\n",
        "\n",
        "# item_list에 각 필드들 쿼링\n",
        "for j in tqdm(company):\n",
        "    stockCode = j[\"stockCode\"]\n",
        "    if j[\"stockCode\"] != \"^KS11\" and j[\"stockCode\"] != \"^KQ11\" :\n",
        "        stockCode += \".KS\"\n",
        "        \n",
        "    j[\"stockPrice\"] = float(data[\"Close\"][stockCode][previous])\n",
        "    j[\"stockLowPrice\"] = float(data[\"Low\"][stockCode][previous])\n",
        "    j[\"stockHighPrice\"] = float(data[\"High\"][stockCode][previous])\n",
        "    j[\"stockVolume\"] = float(data[\"Volume\"][stockCode][previous])\n",
        "    j[\"stockOpenPrice\"] = float(data[\"Open\"][stockCode][previous])\n",
        "    j[\"stockClosingPrice\"] = float(data[\"Close\"][stockCode][pre_previous])\n",
        "    j['stockChange'] = float(data['Close'][stockCode][previous] - data['Close'][stockCode][pre_previous])\n",
        "    j['stockPerChange'] = float((data['Close'][stockCode][previous] - data['Close'][stockCode][pre_previous]) / data['Close'][stockCode][pre_previous] * 100)\n",
        "    j['DayNewsCount'] = 0\n",
        "    j['TimeNewsCount'] = 0\n",
        "    j[\"TimePerPositiveNewsCount\"] = 0\n",
        "    j[\"TimePerNegativeNewsCount\"] = 0\n",
        "\n",
        "# 상장폐지 / 거래중지 종목 리스트에서 제거\n",
        "for i in company:\n",
        "    if math.isnan(i['stockPrice']) or math.isnan(i['stockLowPrice']) or math.isnan(i['stockHighPrice']) or math.isnan(i['stockVolume']) or math.isnan(i['stockOpenPrice'])or math.isnan(i['stockClosingPrice'])or math.isnan(i['stockChange'])or math.isnan(i['stockPerChange']):\n",
        "        company.remove(i)\n",
        "\n",
        "# round 처리로 2자리수까지 보여짐\n",
        "# nan 처리 해주고 나서 돌려야해서 필요한 코드\n",
        "for j in tqdm(company):\n",
        "    stockCode = j[\"stockCode\"]\n",
        "    if j[\"stockCode\"] != \"^KS11\" and j[\"stockCode\"] != \"^KQ11\" :\n",
        "        stockCode += \".KS\"\n",
        "    j[\"stockPrice\"] = float(round(data[\"Close\"][stockCode][previous], 2))\n",
        "    j[\"stockLowPrice\"] = float(round(data[\"Low\"][stockCode][previous], 2))\n",
        "    j[\"stockHighPrice\"] = float(round(data[\"High\"][stockCode][previous], 2))\n",
        "    j[\"stockVolume\"] = float(round(data[\"Volume\"][stockCode][previous], 2))\n",
        "    j[\"stockOpenPrice\"] = float(round(data[\"Open\"][stockCode][previous], 2))\n",
        "    j[\"stockClosingPrice\"] = float(round(data[\"Close\"][stockCode][pre_previous], 2))\n",
        "    j['stockChange'] = float(round(data['Close'][stockCode][previous] - data['Close'][stockCode][pre_previous], 2))\n",
        "    j['stockPerChange'] = float(round((data['Close'][stockCode][previous] - data['Close'][stockCode][pre_previous]) / data['Close'][stockCode][pre_previous] * 100, 2))\n",
        "\n",
        "print(time.time()-st)"
      ],
      "metadata": {
        "colab": {
          "base_uri": "https://localhost:8080/"
        },
        "id": "qtHQK3d3RRl7",
        "outputId": "f5e1db08-d63e-4fe4-ac9f-45f4fabe3f7a"
      },
      "execution_count": null,
      "outputs": [
        {
          "output_type": "stream",
          "name": "stdout",
          "text": [
            "[**********************49%                       ]  462 of 942 completed"
          ]
        }
      ]
    },
    {
      "cell_type": "code",
      "source": [
        "# Firebase에 multithreading 이용해서 쿼링\n",
        "# 3분 30초 -> 20초\n",
        "\n",
        "db = firestore.client()\n",
        "\n",
        "from multiprocessing.dummy import Pool as ThreadPool\n",
        "def AddFirebase(item):\n",
        "    db.collection(u\"stock_API2\").document(item[\"stockName\"]).set(item)\n",
        "\n",
        "pool = ThreadPool(10)\n",
        "\n",
        "for _ in tqdm(pool.imap_unordered(AddFirebase, item_list), total=len(item_list)):\n",
        "    pass\n",
        "\n",
        "pool.close() \n",
        "pool.join()"
      ],
      "metadata": {
        "id": "ZWR9DFxXZEHf"
      },
      "execution_count": null,
      "outputs": []
    },
    {
      "cell_type": "code",
      "source": [
        "\n",
        "def make_a_first_endPoint():\n",
        "    stock_count_list={}\n",
        "\n",
        "    for i in item_list:\n",
        "        stock = i['stockName']\n",
        "        stock_count_list[stock] = {'DayNewsCount':0, 'TimeNewsCount':0,\"TimePerPositiveNewsCount\" : 0,\"TimePerNegativeNewsCount\" :0,'endPoint':\"temp\"}       \n",
        "\n",
        "        url = 'https://openapi.naver.com/v1/search/news.json' \n",
        "        header = {'X-Naver-Client-Id':client_id, 'X-Naver-Client-Secret':client_secret} \n",
        "        param = {'query':stock, 'display':1, 'start':1, 'sort':'date'} \n",
        "\n",
        "        res = requests.get(url, params=param, headers=header)\n",
        "\n",
        "        if res.status_code == 200:\n",
        "            temp = res.json()\n",
        "            stock_count_list[stock]['endPoint'] = temp['items'][0]['title']\n",
        "        else: print(stock, \"err\")\n",
        "make_a_first_endPoint()"
      ],
      "metadata": {
        "id": "epN2qtvZ2d5e"
      },
      "execution_count": null,
      "outputs": []
    },
    {
      "cell_type": "code",
      "source": [
        "stock = '삼성전자'\n",
        "stock_count_list[stock] = {'DayNewsCount':0, 'TimeNewsCount':0,\"TimePerPositiveNewsCount\" : 0,\"TimePerNegativeNewsCount\" :0,'endPoint':\"temp\"}       \n",
        "\n",
        "url = 'https://openapi.naver.com/v1/search/news.json' \n",
        "header = {'X-Naver-Client-Id':client_id, 'X-Naver-Client-Secret':client_secret} \n",
        "param = {'query':stock, 'display':1, 'start':1, 'sort':'date'} \n",
        "\n",
        "res = requests.get(url, params=param, headers=header)\n",
        "\n",
        "if res.status_code == 200:\n",
        "    temp = res.json()\n",
        "    print(temp['items'][0]['title'])\n",
        "    stock_count_list[stock]['endPoint'] = temp['items'][0]['title']\n",
        "else: print(stock, \"err\")"
      ],
      "metadata": {
        "id": "aIsp68ZQ4Dvb"
      },
      "execution_count": null,
      "outputs": []
    },
    {
      "cell_type": "code",
      "source": [
        "stock_count_list[stock]['endPoint']"
      ],
      "metadata": {
        "id": "4aRJS4Ua4fqI"
      },
      "execution_count": null,
      "outputs": []
    },
    {
      "cell_type": "code",
      "source": [
        "#########################     make a first endPoint\n",
        "tuple_list=[]\n",
        "\n",
        "url = 'https://openapi.naver.com/v1/search/news.json' \n",
        "header = {'X-Naver-Client-Id':client_id, 'X-Naver-Client-Secret':client_secret} \n",
        "param = {'query':stock, 'display':1, 'start':1, 'sort':'date'} \n",
        "# query     : 검색할 단어\n",
        "# display   : 검색 출력 건수 (기본 10 / 최대 100)\n",
        "# start     : 검색 시작 위치 (기본 1  / 최대 1000)\n",
        "# sort      : 정렬순서      (기본 sim : 유사도 / date : 날짜)\n",
        "res = requests.get(url, params=param, headers=header)\n",
        "\n",
        "pov_or_neg = 0 #긍부정 라벨링 값\n",
        "a = \"\"\n",
        "if res.status_code == 200:\n",
        "    temp = res.json()\n",
        "\n",
        "    # for index, item in enumerate(temp['items']):\n",
        "    #     print(index+1, item['title'], item['link'], item['description'],item['pubDate'])\n",
        "\n",
        "    # TODO\n",
        "    \n",
        "    for index, dict in enumerate(temp['items']):\n",
        "        title  = text_clean(dict['title'])\n",
        "        if(dict['title'] == stock_count_list['카카오']['endPoint']):\n",
        "            break\n",
        "        \n",
        "        print(text_clean(dict['title']), formatting_date(dict['pubDate']))\n",
        "        \n",
        "\n",
        "        #학습데이터를 통해서 라벨링\n",
        "        X_test=[]\n",
        "        temp_X = okt.morphs(str(title), stem=True) #토큰화\n",
        "        temp_X = [word for word in temp_X if not word in stopwords] #안쓰는 말 제거\n",
        "        X_test.append(temp_X)\n",
        "        X_test = tokenizer.texts_to_sequences(X_test)\n",
        "        predict= model.predict(X_test)\n",
        "        \n",
        "        # 호악재 예측값 저장\n",
        "        pov_or_neg = np.argmax(predict,axis=1)[0]\n",
        "\n",
        "        date = formatting_date(dict['pubDate'])\n",
        "\n",
        "\n",
        "        # # 쿼링 코드\n",
        "        # #\n",
        "        # # 마지막 temp3 부분을 올라갈 문서의 제목으로 바꿔야함.\n",
        "        # news_temp = db.collection(u'test_승준').document(stock).collection(u'news').document(str(index+1))\n",
        "        # news_temp.set({\n",
        "        #     u'date': date,\n",
        "        #     u'title': dict['title'],\n",
        "        #     u'label': str(pov_or_neg),\n",
        "        #     u'url': str(dict['originallink'])\n",
        "        # })\n",
        "\n",
        "        tuple_list.append((stock ,title ,dict['originallink'] ,date ,pov_or_neg))\n",
        "    stock_count_list['카카오']['endPoint'] = temp['items'][0]['title']\n",
        "else:\n",
        "    print(\"Error Code:\" + str(res.status_code)+\" Stock name is \"+ str(stock))\n",
        "\n",
        "print(\"endPoint: \",stock_count_list['카카오']['endPoint'])"
      ],
      "metadata": {
        "id": "Nne7UxKln_Ss"
      },
      "execution_count": null,
      "outputs": []
    },
    {
      "cell_type": "code",
      "source": [
        "\n",
        "for index, dict in enumerate(temp['items']):\n",
        "    title  = text_clean(dict['title'])\n",
        "\n",
        "    \n",
        "    print(text_clean(dict['title']), formatting_date(dict['pubDate']))"
      ],
      "metadata": {
        "id": "fq8Kx_w00JY0"
      },
      "execution_count": null,
      "outputs": []
    },
    {
      "cell_type": "code",
      "source": [
        "stock_count_list={}\n",
        "for i in item_list:\n",
        "    if i['stockName'] not in stock_count_list:\n",
        "        stock_count_list[i['stockName']] = {'DayNewsCount':0, 'TimeNewsCount':0,\"TimePerPositiveNewsCount\" : 0,\"TimePerNegativeNewsCount\" :0,'endPoint':\"temp\"}       "
      ],
      "metadata": {
        "id": "Tz9auX4_qeTK"
      },
      "execution_count": null,
      "outputs": []
    },
    {
      "cell_type": "code",
      "source": [
        "stock_count_list['카카오']['endPoint']"
      ],
      "metadata": {
        "id": "1s5OygomszOM"
      },
      "execution_count": null,
      "outputs": []
    },
    {
      "cell_type": "code",
      "source": [
        "temp_end = a['items'][0]['title']\n",
        "for dict in a['items']:\n",
        "    if(text_clean(dict['title']) == stock_count_list['카카오']['endPoint']):\n",
        "        break\n",
        "    \n",
        "    print(text_clean(dict['title']), formatting_date(dict['pubDate']))\n",
        "stock_count_list['카카오']['endPoint'] = temp_end"
      ],
      "metadata": {
        "id": "MuPH9VL-oPZ3"
      },
      "execution_count": null,
      "outputs": []
    },
    {
      "cell_type": "code",
      "source": [
        "temp_end"
      ],
      "metadata": {
        "id": "MCTT-ebkouNv"
      },
      "execution_count": null,
      "outputs": []
    },
    {
      "cell_type": "code",
      "source": [
        "for i in item_list:\n",
        "    print(i['stockName'])"
      ],
      "metadata": {
        "id": "bc8WXKlLpy0e"
      },
      "execution_count": null,
      "outputs": []
    },
    {
      "cell_type": "code",
      "source": [
        ""
      ],
      "metadata": {
        "id": "ppKZkeAI_QOQ"
      },
      "execution_count": null,
      "outputs": []
    }
  ]
}